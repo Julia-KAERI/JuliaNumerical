{
 "cells": [
  {
   "cell_type": "code",
   "execution_count": 1,
   "metadata": {},
   "outputs": [],
   "source": [
    "using FFTW, Plots, NAJ"
   ]
  },
  {
   "cell_type": "code",
   "execution_count": 2,
   "metadata": {},
   "outputs": [
    {
     "data": {
      "text/plain": [
       "xcorr1d (generic function with 1 method)"
      ]
     },
     "metadata": {},
     "output_type": "display_data"
    }
   ],
   "source": [
    "function conv1d(u::AbstractVector{T}, v::AbstractVector{S}) where {T<:Number, S<:Number}\n",
    "    M, N = length(u), length(v)\n",
    "    TT = promote_type(T, S)\n",
    "    r = zeros(TT, M+N)\n",
    "\n",
    "    for i ∈ 1:M, j = 1:N\n",
    "        r[i+j] += u[i]*v[j]\n",
    "    end\n",
    "    return r\n",
    "end\n",
    "\n",
    "function xcorr1d(u::AbstractVector{T}, v::AbstractVector{S}) where {T<:Number, S<:Number}\n",
    "    return conv1d(u, v[end:-1:1])\n",
    "end"
   ]
  },
  {
   "cell_type": "code",
   "execution_count": 18,
   "metadata": {},
   "outputs": [
    {
     "data": {
      "text/plain": [
       "#33 (generic function with 1 method)"
      ]
     },
     "metadata": {},
     "output_type": "display_data"
    }
   ],
   "source": [
    "function _dft(\n",
    "    f::Vector{T}, \n",
    "    inverse = false) where T<:Union{Real, Complex}\n",
    "    \n",
    "    N = length(f)\n",
    "    if T <:AbstractFloat\n",
    "        F = zeros(Complex{T}, N)\n",
    "    elseif T<:Complex \n",
    "        F = zeros(eltype(f), N)\n",
    "    else \n",
    "        F = zeros(Complex{Float64}, N)\n",
    "    end\n",
    "\n",
    "    if inverse\n",
    "        for i in 1:N\n",
    "            F[i] = [f[k] * exp(2.0im * π* (i-1) * (k-1)/N) for k ∈ 1:N]./N |> sum\n",
    "        end\n",
    "    else     \n",
    "        for i in 1:N\n",
    "            F[i] = [f[k] * exp(-2.0im * π* (i-1) * (k-1)/N) for k ∈ 1:N] |> sum\n",
    "        end\n",
    "    end\n",
    "\n",
    "    return F\n",
    "end\n",
    "\n",
    "dft = v-> _dft(v, false)\n",
    "idft = v-> _dft(v, true)"
   ]
  },
  {
   "cell_type": "code",
   "execution_count": 19,
   "metadata": {},
   "outputs": [],
   "source": []
  },
  {
   "cell_type": "code",
   "execution_count": 20,
   "metadata": {},
   "outputs": [
    {
     "data": {
      "text/plain": [
       "13-element Vector{Int64}:\n",
       " 0\n",
       " 0\n",
       " 0\n",
       " 0\n",
       " 1\n",
       " 2\n",
       " 4\n",
       " 2\n",
       " 8\n",
       " 0\n",
       " 0\n",
       " 0\n",
       " 0"
      ]
     },
     "metadata": {},
     "output_type": "display_data"
    }
   ],
   "source": [
    "f=[0, 0, 0, 1, 0, 0, 0, 0]\n",
    "g = [1,2, 4, 2, 8]\n",
    "conv1d(f, g)"
   ]
  },
  {
   "cell_type": "code",
   "execution_count": 26,
   "metadata": {},
   "outputs": [
    {
     "data": {
      "text/plain": [
       "8-element Vector{ComplexF64}:\n",
       "                     0.0 + 0.0im\n",
       " -1.1102230246251565e-16 + 0.0im\n",
       "  1.8369701987210297e-16 + 0.0im\n",
       " -1.1102230246251565e-16 - 2.220446049250313e-16im\n",
       "                     0.0 + 3.6739403974420594e-16im\n",
       "   9.992007221626409e-16 - 8.881784197001252e-16im\n",
       "   -5.51091059616309e-16 + 0.0im\n",
       "  -2.220446049250313e-16 - 1.1102230246251565e-16im"
      ]
     },
     "metadata": {},
     "output_type": "display_data"
    }
   ],
   "source": [
    "fft(f) .- dft(f)"
   ]
  },
  {
   "cell_type": "code",
   "execution_count": 22,
   "metadata": {},
   "outputs": [
    {
     "data": {
      "text/plain": [
       "8-element Vector{ComplexF64}:\n",
       "                  0.125 + 0.0im\n",
       "   -0.08838834764831843 + 0.08838834764831845im\n",
       " -2.296212748401287e-17 - 0.125im\n",
       "    0.08838834764831846 + 0.08838834764831842im\n",
       "                 -0.125 + 4.592425496802574e-17im\n",
       "    0.08838834764831832 - 0.08838834764831856im\n",
       "  6.888638245203862e-17 + 0.125im\n",
       "   -0.08838834764831842 - 0.08838834764831846im"
      ]
     },
     "metadata": {},
     "output_type": "display_data"
    }
   ],
   "source": [
    "idft(f)"
   ]
  },
  {
   "cell_type": "code",
   "execution_count": 23,
   "metadata": {},
   "outputs": [
    {
     "data": {
      "text/plain": [
       "10-element Vector{Float64}:\n",
       " 0.9351749060533987\n",
       " 0.002047843477063216\n",
       " 0.6580701413359334\n",
       " 0.37879246391960775\n",
       " 0.4679394731725509\n",
       " 0.7605640918375494\n",
       " 0.9411106014088723\n",
       " 0.8519443739462411\n",
       " 0.06801298650937204\n",
       " 0.4716144523244771"
      ]
     },
     "metadata": {},
     "output_type": "display_data"
    }
   ],
   "source": [
    "h = rand(10)"
   ]
  },
  {
   "cell_type": "code",
   "execution_count": 24,
   "metadata": {},
   "outputs": [
    {
     "data": {
      "text/plain": [
       "10-element Vector{ComplexF64}:\n",
       "    0.9351749060533987 + 0.0im\n",
       " 0.0020478434770632606 + 0.0im\n",
       "    0.6580701413359334 + 0.0im\n",
       "   0.37879246391960786 + 0.0im\n",
       "     0.467939473172551 + 0.0im\n",
       "    0.7605640918375495 + 0.0im\n",
       "    0.9411106014088724 + 0.0im\n",
       "    0.8519443739462415 + 0.0im\n",
       "   0.06801298650937197 + 0.0im\n",
       "   0.47161445232447713 + 0.0im"
      ]
     },
     "metadata": {},
     "output_type": "display_data"
    }
   ],
   "source": [
    "ifft(fft(h))"
   ]
  },
  {
   "cell_type": "code",
   "execution_count": 12,
   "metadata": {},
   "outputs": [
    {
     "data": {
      "text/plain": [
       "10-element Vector{ComplexF64}:\n",
       "  0.1882140158569331 + 7.632783294297951e-17im\n",
       " 0.05313304298272799 + 1.3877787807814457e-16im\n",
       "   0.689754975953263 - 1.942890293094024e-16im\n",
       "  0.8175720934836052 + 0.0im\n",
       "  0.7322895313119051 + 1.8041124150158794e-16im\n",
       "  0.8742454671318001 - 3.400058012914542e-16im\n",
       "  0.7844929594746285 - 2.498001805406602e-16im\n",
       "  0.5400707965507728 + 3.608224830031759e-16im\n",
       " 0.28024567250734467 + 1.1102230246251565e-16im\n",
       " 0.24357565170020765 + 8.881784197001252e-16im"
      ]
     },
     "metadata": {},
     "output_type": "display_data"
    }
   ],
   "source": [
    "idft(dft(h))"
   ]
  },
  {
   "cell_type": "code",
   "execution_count": null,
   "metadata": {},
   "outputs": [],
   "source": []
  }
 ],
 "metadata": {
  "kernelspec": {
   "display_name": "Julia 1.10.2",
   "language": "julia",
   "name": "julia-1.10"
  },
  "language_info": {
   "file_extension": ".jl",
   "mimetype": "application/julia",
   "name": "julia",
   "version": "1.10.2"
  }
 },
 "nbformat": 4,
 "nbformat_minor": 2
}
