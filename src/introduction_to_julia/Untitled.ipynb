{
 "cells": [
  {
   "cell_type": "code",
   "execution_count": 1,
   "id": "bdcaa8b7",
   "metadata": {},
   "outputs": [
    {
     "data": {
      "text/plain": [
       "bps"
      ]
     },
     "execution_count": 1,
     "metadata": {},
     "output_type": "execute_result"
    }
   ],
   "source": [
    "include(\"doctest01.jl\")"
   ]
  },
  {
   "cell_type": "code",
   "execution_count": 2,
   "id": "0f6f67f4",
   "metadata": {},
   "outputs": [],
   "source": [
    "struct mycomplex\n",
    "    re\n",
    "    im\n",
    "end\n",
    "\n",
    "function Base.show(io::IO, cc::mycomplex)\n",
    "    if cc.im >= 0\n",
    "        print(io, cc.re, \" + i\", cc.im)\n",
    "    else \n",
    "        print(io, cc.im, \" - i\", abs(cc.im))\n",
    "    end\n",
    "end"
   ]
  },
  {
   "cell_type": "code",
   "execution_count": 9,
   "id": "cf411603",
   "metadata": {},
   "outputs": [
    {
     "data": {
      "text/plain": [
       "-1.0 - i1.0"
      ]
     },
     "metadata": {},
     "output_type": "display_data"
    }
   ],
   "source": [
    "mycomplex(2.0, -1.0)"
   ]
  },
  {
   "cell_type": "code",
   "execution_count": 7,
   "id": "6de82c35",
   "metadata": {},
   "outputs": [
    {
     "data": {
      "text/plain": [
       "show (generic function with 1 method)"
      ]
     },
     "metadata": {},
     "output_type": "display_data"
    }
   ],
   "source": [
    "function show(io::IO, cc::mycomplex)\n",
    "    if cc.im >= 0\n",
    "        print(io, cc.re, \" + xi\", cc.im)\n",
    "    else \n",
    "        print(io, cc.im, \" - xi\", abs(cc.im))\n",
    "    end\n",
    "end"
   ]
  },
  {
   "cell_type": "code",
   "execution_count": 11,
   "id": "329f5351",
   "metadata": {},
   "outputs": [
    {
     "name": "stdout",
     "output_type": "stream",
     "text": [
      "-1.0 - xi1.0"
     ]
    }
   ],
   "source": [
    "show(stdout, mycomplex(2.0, -1.0))"
   ]
  },
  {
   "cell_type": "code",
   "execution_count": 13,
   "id": "3c85c263",
   "metadata": {},
   "outputs": [
    {
     "data": {
      "text/plain": [
       "\"-1.0 - i1.0\""
      ]
     },
     "metadata": {},
     "output_type": "display_data"
    }
   ],
   "source": [
    "repr(mycomplex(2.0, -1.0))"
   ]
  },
  {
   "cell_type": "code",
   "execution_count": null,
   "id": "70d6498e",
   "metadata": {},
   "outputs": [],
   "source": []
  }
 ],
 "metadata": {
  "kernelspec": {
   "display_name": "Julia 1.9.1",
   "language": "julia",
   "name": "julia-1.9"
  },
  "language_info": {
   "file_extension": ".jl",
   "mimetype": "application/julia",
   "name": "julia",
   "version": "1.9.1"
  }
 },
 "nbformat": 4,
 "nbformat_minor": 5
}
