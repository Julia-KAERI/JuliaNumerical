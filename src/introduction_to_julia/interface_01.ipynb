{
 "cells": [
  {
   "cell_type": "code",
   "execution_count": 1,
   "metadata": {},
   "outputs": [],
   "source": [
    " using Plots, BenchmarkTools\n"
   ]
  },
  {
   "cell_type": "code",
   "execution_count": null,
   "metadata": {},
   "outputs": [],
   "source": [
    "struct LogSpacingRange{T}\n",
    "    start::T\n",
    "    stop::T\n",
    "    base::T\n",
    "    size::Int64\n",
    "\n",
    "    function LogSpacingRange(start::Real, stop::Real, size::Int64, base::Real)\n",
    "        @assert base > 1\n",
    "        @assert size ≥ 1\n",
    "        ftype = promote_type(typeof(start), typeof(stop))\n",
    "        if ~(ftype <: AbstractFloat)\n",
    "            ftype = Float64\n",
    "        end\n",
    "\n",
    "        return new{ftype}(start, stop, base, size)\n",
    "    end\n",
    "end\n",
    "\n",
    "Base.size(p::LogSpacingRange) = (p.size, )\n",
    "Base.length(p::LogSpacingRange) = p.size\n",
    "Base.iterate(p::LogSpacingRange, state=1) = state > p.size ? nothing : (p[state], state+1)\n",
    "Base.eltype(p::LogSpacingRange{T}) where {T} = T\n",
    "Base.IteratorSize(::LogSpacingRange{T}) where {T} = Base.HasLength()\n",
    "Base.IteratorEltype(::LogSpacingRange{T}) where {T} = Base.HasEltype()\n",
    "Base.firstindex(p::LogSpacingRange) = (p.base)^(p.start)\n",
    "Base.lastindex(p::LogSpacingRange) = (p.base)^(p.stop)\n",
    "function Base.getindex(p::LogSpacingRange, i::Int64) \n",
    "    @assert 0 < i ≤ p.size\n",
    "    if p.size == 1\n",
    "        return p.start\n",
    "    else \n",
    "        r = p.start + (p.stop-p.start)/(p.size-1)*(i-1)\n",
    "        return (p.base)^r\n",
    "    end\n",
    "end\n",
    "\n",
    "function logspace(a, b, n::Integer=10, base::Real=10)\n",
    "    return LogSpacingRange(a, b, n, base)\n",
    "end\n",
    "\n"
   ]
  },
  {
   "cell_type": "code",
   "execution_count": null,
   "metadata": {},
   "outputs": [],
   "source": [
    "for v in logspace(1, 5, 3, 10)\n",
    "    @show v\n",
    "end "
   ]
  },
  {
   "cell_type": "code",
   "execution_count": null,
   "metadata": {},
   "outputs": [],
   "source": [
    "q = logspace(1, 5, 3, 10)\n"
   ]
  },
  {
   "cell_type": "code",
   "execution_count": null,
   "metadata": {},
   "outputs": [],
   "source": [
    "lastindex(q)"
   ]
  },
  {
   "cell_type": "code",
   "execution_count": null,
   "metadata": {},
   "outputs": [],
   "source": [
    "# @btime begin\n",
    "#     a=logspace(1, 100, 1000_0000)\n",
    "#     sin.(a)\n",
    "# end"
   ]
  },
  {
   "cell_type": "code",
   "execution_count": null,
   "metadata": {},
   "outputs": [],
   "source": [
    "# @btime begin\n",
    "#     a=10.0.^range(1.0, 100.0, length=1000_0000)\n",
    "#     sin.(a)\n",
    "# end"
   ]
  },
  {
   "cell_type": "code",
   "execution_count": 72,
   "metadata": {},
   "outputs": [
    {
     "data": {
      "text/plain": [
       "original (generic function with 1 method)"
      ]
     },
     "metadata": {},
     "output_type": "display_data"
    }
   ],
   "source": [
    "struct ShiftedIndexedArray{T, N, AA <: AbstractArray{T, N}} \n",
    "    A::AA\n",
    "    offsets::NTuple{N, Int}\n",
    "    \n",
    "    function ShiftedIndexedArray{T, N, AA}(arr::AA, offsets::NTuple{N, Int}) where {T, N, AA<:AbstractArray{T, N}}\n",
    "        return new{T, N, AA}(arr, offsets)\n",
    "    end\n",
    "end\n",
    "\n",
    "function ShiftedIndexedArray(arr::AA, offsets::NTuple{N, Int}) where {N, AA<:AbstractArray}\n",
    "    @assert ndims(arr) == N\n",
    "    return ShiftedIndexedArray{eltype(arr), ndims(arr), typeof(arr)}(arr, offsets)\n",
    "end\n",
    "\n",
    "function ShiftedIndexedArray(arr::AA, offsets::Integer) where {AA<:AbstractVector}\n",
    "    return ShiftedIndexedArray{eltype(arr), 1, typeof(arr)}(arr, (offsets, ))\n",
    "end\n",
    "\n",
    "const ShiftedIndexedVector{T, AA<: AbstractVector{T}} = ShiftedIndexedArray{T, 1, AA}\n",
    "const ShiftedIndexedMatrix{T, AA<:AbstractMatrix{T}} = ShiftedIndexedArray{T, 2, AA}\n",
    "\n",
    "ShiftedIndexedVector(vec::AbstractVector{T}, offset::Integer) where {T}= ShiftedIndexedArray(vec, offset)\n",
    "ShiftedIndexedMatrix(mat::AbstractMatrix{T}, offsets::NTuple{2, Int}) where {T} = ShiftedIndexedArray(mat, offsets)\n",
    "\n",
    "function _original_cartesian_index(S::ShiftedIndexedArray{T, N, AA}, ind::NTuple{N, Int}) where {T, N, AA<:AbstractArray{T, N}}\n",
    "    return ind .- S.offsets .+ ntuple(d->1, N)\n",
    "end\n",
    "\n",
    "function _original_linear_index(S::ShiftedIndexedArray{T, N, AA}, ind::Integer) where {T, N, AA<:AbstractArray{T, N}}\n",
    "    return ind - prod(S.offsets) + 1\n",
    "end\n",
    "\n",
    "\n",
    "Base.size(S::ShiftedIndexedArray) = size(S.A)\n",
    "\n",
    "Base.length(S::ShiftedIndexedArray) = length(S.A)\n",
    "Base.firstindex(S::ShiftedIndexedArray) = firstindex(S.A)\n",
    "Base.lastindex(S::ShiftedIndexedArray) = lastindex(S.A)\n",
    "# Base.getindex(S::ShiftedIndexedArray, i::Int) = getindex(S.A, i)\n",
    "original(S::ShiftedIndexedArray) = S.A\n",
    "\n",
    "\n"
   ]
  },
  {
   "cell_type": "code",
   "execution_count": 73,
   "metadata": {},
   "outputs": [
    {
     "data": {
      "text/plain": [
       "ShiftedIndexedArray{Float64, 2, Matrix{Float64}}([0.9871723764338934 0.8030155674686781 0.07121566341709762; 0.26737587704516685 0.19248131847314054 0.9829529557857537; 0.027456905923424202 0.8649441041072908 0.5093480981545042], (-4, -1))"
      ]
     },
     "metadata": {},
     "output_type": "display_data"
    }
   ],
   "source": [
    "B=ShiftedIndexedArray(rand(3,3), (-4, -1))"
   ]
  },
  {
   "cell_type": "code",
   "execution_count": 74,
   "metadata": {},
   "outputs": [],
   "source": [
    "function Base.getindex(S::ShiftedIndexedArray{T, N, AA}, I...) where {T, N, AA}\n",
    "    oind = _original_cartesian_index(S, I)\n",
    "    if checkbounds(Bool, S.A, oind...) \n",
    "        return getindex(S.A, oind...)\n",
    "    else\n",
    "        throw(BoundsError(S, I...))\n",
    "    end\n",
    "end\n",
    "\n",
    "function Base.getindex(S::ShiftedIndexedArray{T, N, AA}, i::Int64) where {T, N, AA}\n",
    "    oind = _original_linear_index(S, i)\n",
    "    if checkbounds(Bool, S.A, oind)\n",
    "        return getindex(S.A, oind)\n",
    "    else \n",
    "        throw(BoundsError(S, i))\n",
    "    end\n",
    "end\n",
    "\n",
    "function Base.setindex!(S::ShiftedIndexedArray{T, N, AA}, v, I... ) where {T, N, AA}\n",
    "    oind = _original_cartesian_index(S, I)\n",
    "    if checkbounds(Bool, S.A, oind...) == false\n",
    "        throw(BoundsError(S, I...))\n",
    "    else\n",
    "        return setindex!(S.A, v, oind...)\n",
    "    end\n",
    "end\n",
    "\n",
    "function Base.setindex!(S::ShiftedIndexedArray{T, N, AA}, v, i::Int ) where {T, N, AA}\n",
    "    oind = _original_liear_index(S, i)\n",
    "    if checkbounds(Bool, S.A, oind) == false\n",
    "        throw(BoundsError(S, i))\n",
    "    else\n",
    "        return setindex!(S.A, v, oind)\n",
    "    end\n",
    "end\n",
    "\n",
    "\n",
    "Base.similar(S::ShiftedIndexedArray) = ShiftedIndexedArray(Base.similar(S.A), S.offsets)\n",
    "Base.sizeof(S::ShiftedIndexedArray) = sizeof(S.A)\n",
    "\n",
    "Base.iterate(S::ShiftedIndexedArray, state=1) = iterate(S.A, state)\n",
    "Base.IndexStyle(S::ShiftedIndexedArray) = IndexStyle(S.A)\n",
    "\n",
    "# Base.keys(S::ShiftedIndexedArray) = prod(S.offsets):(prod(S.offsets) + length(S)-1)"
   ]
  },
  {
   "cell_type": "code",
   "execution_count": 75,
   "metadata": {},
   "outputs": [
    {
     "data": {
      "text/plain": [
       "ShiftedIndexedVector{Int64, Vector{Int64}}([3, 4, 5, 6], (-3,))"
      ]
     },
     "metadata": {},
     "output_type": "display_data"
    }
   ],
   "source": [
    "B = [3,4,5,6]\n",
    "A = ShiftedIndexedArray(B, -3)"
   ]
  },
  {
   "cell_type": "code",
   "execution_count": 76,
   "metadata": {},
   "outputs": [
    {
     "name": "stdout",
     "output_type": "stream",
     "text": [
      "A[v] = 3\n",
      "A[v] = 4\n",
      "A[v] = 5\n",
      "A[v] = 6\n"
     ]
    }
   ],
   "source": [
    "for v in eachindex(A)\n",
    "    @show A[v]\n",
    "end"
   ]
  },
  {
   "cell_type": "code",
   "execution_count": 77,
   "metadata": {},
   "outputs": [
    {
     "data": {
      "text/plain": [
       "ShiftedIndexedArray{Int64, 2, Matrix{Int64}}([1 4 7 10; 2 5 8 11; 3 6 9 12], (-3, -4))"
      ]
     },
     "metadata": {},
     "output_type": "display_data"
    }
   ],
   "source": [
    "X=ShiftedIndexedArray(reshape(collect(1:12), (3, 4)), (-3, -4))\n"
   ]
  },
  {
   "cell_type": "code",
   "execution_count": 65,
   "metadata": {},
   "outputs": [
    {
     "data": {
      "text/plain": [
       "4"
      ]
     },
     "metadata": {},
     "output_type": "display_data"
    }
   ],
   "source": [
    "X[-3, -3]"
   ]
  },
  {
   "cell_type": "code",
   "execution_count": 66,
   "metadata": {},
   "outputs": [
    {
     "data": {
      "text/plain": [
       "3×4 Matrix{Int64}:\n",
       " 1  4  7  10\n",
       " 2  5  8  11\n",
       " 3  6  9  12"
      ]
     },
     "metadata": {},
     "output_type": "display_data"
    }
   ],
   "source": [
    "X.A"
   ]
  },
  {
   "cell_type": "code",
   "execution_count": 79,
   "metadata": {},
   "outputs": [
    {
     "data": {
      "text/plain": [
       "12-element Vector{Any}:\n",
       "  1\n",
       "  2\n",
       "  3\n",
       "  4\n",
       "  5\n",
       "  6\n",
       "  7\n",
       "  8\n",
       "  9\n",
       " 10\n",
       " 11\n",
       " 12"
      ]
     },
     "metadata": {},
     "output_type": "display_data"
    }
   ],
   "source": [
    "collect(X)"
   ]
  },
  {
   "cell_type": "code",
   "execution_count": null,
   "metadata": {},
   "outputs": [],
   "source": [
    "IndexStyle(A)"
   ]
  },
  {
   "cell_type": "code",
   "execution_count": null,
   "metadata": {},
   "outputs": [],
   "source": [
    "B"
   ]
  },
  {
   "cell_type": "code",
   "execution_count": null,
   "metadata": {},
   "outputs": [],
   "source": [
    "eachindex(A)"
   ]
  },
  {
   "cell_type": "code",
   "execution_count": null,
   "metadata": {},
   "outputs": [],
   "source": [
    "Base.OneTo(length(B))"
   ]
  },
  {
   "cell_type": "code",
   "execution_count": null,
   "metadata": {},
   "outputs": [],
   "source": [
    "eachindex(A)"
   ]
  },
  {
   "cell_type": "code",
   "execution_count": null,
   "metadata": {},
   "outputs": [],
   "source": [
    "eachindex(A)"
   ]
  },
  {
   "cell_type": "code",
   "execution_count": null,
   "metadata": {},
   "outputs": [],
   "source": [
    "eachindex(B)"
   ]
  },
  {
   "cell_type": "code",
   "execution_count": null,
   "metadata": {},
   "outputs": [],
   "source": [
    "B[-5]"
   ]
  },
  {
   "cell_type": "code",
   "execution_count": null,
   "metadata": {},
   "outputs": [],
   "source": []
  }
 ],
 "metadata": {
  "kernelspec": {
   "display_name": "Julia 1.10.2",
   "language": "julia",
   "name": "julia-1.10"
  },
  "language_info": {
   "file_extension": ".jl",
   "mimetype": "application/julia",
   "name": "julia",
   "version": "1.10.2"
  }
 },
 "nbformat": 4,
 "nbformat_minor": 2
}
