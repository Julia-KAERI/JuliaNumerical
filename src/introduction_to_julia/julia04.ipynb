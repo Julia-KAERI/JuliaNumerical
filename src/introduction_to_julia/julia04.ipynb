{
 "cells": [
  {
   "cell_type": "code",
   "execution_count": 1,
   "metadata": {},
   "outputs": [
    {
     "data": {
      "text/plain": [
       "@myassert (macro with 1 method)"
      ]
     },
     "metadata": {},
     "output_type": "display_data"
    }
   ],
   "source": [
    "macro myassert(ex, msgs...)\n",
    "    msg = (isempty(msgs) ? ex : msgs[1]) |> string\n",
    "    :($ex ? nothing : AssertionError($msg))\n",
    "    end\n",
    "\n",
    "\n"
   ]
  },
  {
   "cell_type": "code",
   "execution_count": 18,
   "metadata": {},
   "outputs": [
    {
     "data": {
      "text/plain": [
       "@mytime (macro with 1 method)"
      ]
     },
     "metadata": {},
     "output_type": "display_data"
    }
   ],
   "source": [
    "macro mytime(ex)\n",
    "    return quote\n",
    "        t0 = time_ns()\n",
    "        val = $ex\n",
    "        println(\"t0=\", t0, \", val =\", val)\n",
    "        t1 = time_ns()\n",
    "        println(\"elapsed time: \", (t1-t0)/1e9, \" seconds\")\n",
    "        val\n",
    "    end\n",
    "end"
   ]
  },
  {
   "cell_type": "code",
   "execution_count": 30,
   "metadata": {},
   "outputs": [
    {
     "data": {
      "text/plain": [
       "@mm (macro with 1 method)"
      ]
     },
     "metadata": {},
     "output_type": "display_data"
    }
   ],
   "source": [
    "macro mm(ex)\n",
    "    return quote\n",
    "        t = 1\n",
    "        println(\"표현식 평가 이전 t = \", t)\n",
    "        val = $ex\n",
    "        println(\"표현식 평가 이후 t = \", t, \", val = \", val)\n",
    "        return val\n",
    "    end\n",
    "end\n",
    "        \n"
   ]
  },
  {
   "cell_type": "code",
   "execution_count": 31,
   "metadata": {},
   "outputs": [
    {
     "name": "stdout",
     "output_type": "stream",
     "text": [
      "표현식 평가 이전 t = 1\n",
      "표현식 평가 이후 t = 100, val = 100\n"
     ]
    },
    {
     "data": {
      "text/plain": [
       "100"
      ]
     },
     "metadata": {},
     "output_type": "display_data"
    }
   ],
   "source": [
    "@mm t=100"
   ]
  },
  {
   "cell_type": "code",
   "execution_count": 32,
   "metadata": {},
   "outputs": [],
   "source": []
  },
  {
   "cell_type": "code",
   "execution_count": 41,
   "metadata": {},
   "outputs": [
    {
     "data": {
      "text/plain": [
       "@nn (macro with 1 method)"
      ]
     },
     "metadata": {},
     "output_type": "display_data"
    }
   ],
   "source": [
    "macro nn(ex)\n",
    "    return quote\n",
    "        t = 1\n",
    "        println(\"표현식 평가 이전 t = \", t)\n",
    "        val = $(esc(ex))\n",
    "        println(\"표현식 평가 이후 t = \", t, \", val = \", val)\n",
    "        val\n",
    "    end\n",
    "end"
   ]
  },
  {
   "cell_type": "code",
   "execution_count": 42,
   "metadata": {},
   "outputs": [
    {
     "name": "stdout",
     "output_type": "stream",
     "text": [
      "표현식 평가 이전 t = 1\n",
      "표현식 평가 이후 t = 1, val = 100\n"
     ]
    },
    {
     "data": {
      "text/plain": [
       "100"
      ]
     },
     "metadata": {},
     "output_type": "display_data"
    }
   ],
   "source": [
    "@nn t=100"
   ]
  },
  {
   "cell_type": "code",
   "execution_count": 14,
   "metadata": {},
   "outputs": [
    {
     "data": {
      "text/plain": [
       "@time (macro with 1 method)"
      ]
     },
     "metadata": {},
     "output_type": "display_data"
    }
   ],
   "source": [
    "macro time(ex)\n",
    "    return quote\n",
    "        local t0 = time_ns()\n",
    "        local val = $ex\n",
    "        local t1 = time_ns()\n",
    "        println(\"elapsed time: \", (t1-t0)/1e9, \" seconds\")\n",
    "        val\n",
    "    end\n",
    "end"
   ]
  },
  {
   "cell_type": "code",
   "execution_count": 16,
   "metadata": {},
   "outputs": [
    {
     "name": "stdout",
     "output_type": "stream",
     "text": [
      "elapsed time: 3770.005013329 seconds\n"
     ]
    },
    {
     "data": {
      "text/plain": [
       "5050"
      ]
     },
     "metadata": {},
     "output_type": "display_data"
    }
   ],
   "source": [
    "@time t0=(1:100 |> sum)"
   ]
  },
  {
   "cell_type": "code",
   "execution_count": null,
   "metadata": {},
   "outputs": [],
   "source": []
  }
 ],
 "metadata": {
  "kernelspec": {
   "display_name": "Julia 1.9.3",
   "language": "julia",
   "name": "julia-1.9"
  },
  "language_info": {
   "file_extension": ".jl",
   "mimetype": "application/julia",
   "name": "julia",
   "version": "1.9.3"
  },
  "orig_nbformat": 4
 },
 "nbformat": 4,
 "nbformat_minor": 2
}
