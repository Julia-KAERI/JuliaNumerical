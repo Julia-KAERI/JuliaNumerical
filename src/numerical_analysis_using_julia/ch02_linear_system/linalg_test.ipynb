{
 "cells": [
  {
   "cell_type": "code",
   "execution_count": 1,
   "metadata": {},
   "outputs": [
    {
     "data": {
      "text/plain": [
       "decomposition_qr (generic function with 1 method)"
      ]
     },
     "execution_count": 1,
     "metadata": {},
     "output_type": "execute_result"
    }
   ],
   "source": [
    "using LinearAlgebra, Plots, BenchmarkTools\n",
    "include(\"linalg.jl\")"
   ]
  },
  {
   "cell_type": "code",
   "execution_count": 2,
   "metadata": {},
   "outputs": [
    {
     "data": {
      "text/plain": [
       "4-element Vector{Float32}:\n",
       "  4.3\n",
       " -3.6599998\n",
       " -1.3800001\n",
       "  1.5"
      ]
     },
     "metadata": {},
     "output_type": "display_data"
    }
   ],
   "source": [
    "Ac = Float32.([3 4 2 5; 5 3 4 -2; -2 -3 1 0; -2 -3 1 -2])\n",
    "b = Float32.([3, 2, 1, -2])\n",
    "l1, u1 = decomposition_lu(Ac)\n",
    "p4, l4, u4, b4 = decomposition_plu(Ac, b)\n",
    "x = solve_lu(Ac, b, true)\n",
    "x2 = solve_lu(Ac, b, false)"
   ]
  },
  {
   "cell_type": "code",
   "execution_count": 3,
   "metadata": {},
   "outputs": [
    {
     "data": {
      "text/plain": [
       "(Float32[1.0 0.0 0.0 0.0; 1.3333334 1.0 0.0 0.0; 0.6666667 -0.18181813 1.0 0.0; 1.6666666 2.8181815 1.8799998 1.0], Float32[3.0 5.0 -2.0 -2.0; 0.0 -3.666667 -0.33333325 -0.33333325; 0.0 0.0 2.2727275 2.2727275; 0.0 0.0 0.0 -2.0])"
      ]
     },
     "metadata": {},
     "output_type": "display_data"
    }
   ],
   "source": [
    "decomposition_lu(Ac')"
   ]
  },
  {
   "cell_type": "code",
   "execution_count": 4,
   "metadata": {},
   "outputs": [
    {
     "data": {
      "text/plain": [
       "([0.7071067811865475 0.4082482904638631 -0.28867513459481287 -0.5000000000000001; 0.7071067811865475 -0.4082482904638631 0.28867513459481287 0.5000000000000001; 0.0 0.8164965809277261 0.2886751345948128 0.5000000000000001; 0.0 0.0 -0.8660254037844385 0.49999999999999994], [1.414213562373095 0.7071067811865475 0.7071067811865475 0.0; 0.0 1.2247448713915892 -0.4082482904638631 0.8164965809277261; 0.0 0.0 1.1547005383792515 -0.5773502691896257; 0.0 0.0 0.0 1.0])"
      ]
     },
     "metadata": {},
     "output_type": "display_data"
    }
   ],
   "source": [
    "U = Float64.([1 1 0 0; 1 0 1 0; 0 1 0 1; 0 0 -1 1])\n",
    "V = gram_schmidt(U)\n",
    "v1, v2, v3, v4 = V[:,1], V[:,2], V[:,3], V[:,4]\n",
    "Q, R = decomposition_qr(U)"
   ]
  },
  {
   "cell_type": "code",
   "execution_count": 46,
   "metadata": {},
   "outputs": [
    {
     "data": {
      "text/plain": [
       "4-element Vector{Float64}:\n",
       "  1.0e-10\n",
       " -1.0e-10\n",
       "  0.0\n",
       "  1.0e-10"
      ]
     },
     "metadata": {},
     "output_type": "display_data"
    }
   ],
   "source": [
    "S1 = Float64.([1 1 0 1; 1 -1 0 1; 0 1 0 1; 0 0 -1 1])'\n",
    "S3 = Float64.([1 1 0 1; 1 1 0 1.0e-10; 0 1 0 1; 0 0 -1 1])'\n",
    "S5 = copy(S1)\n",
    "S5[:, 2]= S1[:, 2]*1.0e-10"
   ]
  },
  {
   "cell_type": "code",
   "execution_count": 47,
   "metadata": {},
   "outputs": [
    {
     "data": {
      "text/plain": [
       "LinearAlgebra.QRCompactWY{Float64, Matrix{Float64}, Matrix{Float64}}\n",
       "Q factor:\n",
       "4×4 LinearAlgebra.QRCompactWYQ{Float64, Matrix{Float64}, Matrix{Float64}}:\n",
       " -0.57735   0.408248   0.707107   0.0\n",
       " -0.57735  -0.816497   0.0        0.0\n",
       "  0.0       0.0        0.0       -1.0\n",
       " -0.57735   0.408248  -0.707107   0.0\n",
       "R factor:\n",
       "4×4 Matrix{Float64}:\n",
       " -1.73205  -5.7735e-11   -1.1547    -0.57735\n",
       "  0.0       1.63299e-10  -0.408248   0.408248\n",
       "  0.0       0.0          -0.707107  -0.707107\n",
       "  0.0       0.0           0.0        1.0"
      ]
     },
     "metadata": {},
     "output_type": "display_data"
    }
   ],
   "source": [
    "Q1, R1 = decomposition_qr(S1)\n",
    "Q2, R2 = qr(S1);\n",
    "Q3, R3 = decomposition_qr(S3)\n",
    "Q4, R4 = qr(S3)\n",
    "Q5, R5 = decomposition_qr(S5)\n",
    "Q6, R6 = qr(S5)\n"
   ]
  },
  {
   "cell_type": "code",
   "execution_count": 77,
   "metadata": {},
   "outputs": [
    {
     "name": "stdout",
     "output_type": "stream",
     "text": [
      "1.5150195551219547e-12\n",
      "6.249040998204669e-13\n"
     ]
    }
   ],
   "source": [
    "N=50\n",
    "SS = zeros(Float64, N, N)\n",
    "while(true)\n",
    "    SS = rand(N, N)\n",
    "    if abs(det(SS)) > 1.0e-6\n",
    "        break\n",
    "    end\n",
    "end\n",
    "Q1, R1 = decomposition_qr(SS);\n",
    "Q2, R2 = qr(SS);\n",
    "println(sum(abs.(Q1*R1 .- SS)))\n",
    "println(sum(abs.(Q2*R2 .- SS)))"
   ]
  },
  {
   "cell_type": "code",
   "execution_count": 70,
   "metadata": {},
   "outputs": [],
   "source": []
  },
  {
   "cell_type": "code",
   "execution_count": 61,
   "metadata": {},
   "outputs": [
    {
     "data": {
      "text/plain": [
       "1.401597154310208e-12"
      ]
     },
     "metadata": {},
     "output_type": "display_data"
    }
   ],
   "source": [
    "sum(abs.(Q1*R1 .- SS))"
   ]
  },
  {
   "cell_type": "code",
   "execution_count": 62,
   "metadata": {},
   "outputs": [
    {
     "data": {
      "text/plain": [
       "2.2111999731233567e-13"
      ]
     },
     "metadata": {},
     "output_type": "display_data"
    }
   ],
   "source": [
    "sum(abs.(Q2*R2 .- SS))"
   ]
  },
  {
   "cell_type": "code",
   "execution_count": 52,
   "metadata": {},
   "outputs": [
    {
     "data": {
      "text/plain": [
       "4×4 Matrix{Float64}:\n",
       " 1.0   1.0e-10  3.10696e-16   1.21169e-16\n",
       " 1.0  -1.0e-10  1.0           9.1108e-17\n",
       " 0.0   0.0      0.0          -1.0\n",
       " 1.0   1.0e-10  1.0           1.0"
      ]
     },
     "metadata": {},
     "output_type": "display_data"
    }
   ],
   "source": [
    "Q5*R5"
   ]
  },
  {
   "cell_type": "code",
   "execution_count": 53,
   "metadata": {},
   "outputs": [
    {
     "data": {
      "text/plain": [
       "4×4 Matrix{Float64}:\n",
       " 1.0   1.0e-10  -2.22045e-16   0.0\n",
       " 1.0  -1.0e-10   1.0           0.0\n",
       " 0.0   0.0       0.0          -1.0\n",
       " 1.0   1.0e-10   1.0           1.0"
      ]
     },
     "metadata": {},
     "output_type": "display_data"
    }
   ],
   "source": [
    "Q6*R6"
   ]
  },
  {
   "cell_type": "code",
   "execution_count": 54,
   "metadata": {},
   "outputs": [
    {
     "data": {
      "text/plain": [
       "4×4 Matrix{Float64}:\n",
       " 1.0   1.0  0.0   0.0\n",
       " 1.0  -1.0  1.0   0.0\n",
       " 0.0   0.0  0.0  -1.0\n",
       " 1.0   1.0  1.0   1.0"
      ]
     },
     "metadata": {},
     "output_type": "display_data"
    }
   ],
   "source": [
    "S2=Matrix(S')"
   ]
  },
  {
   "cell_type": "code",
   "execution_count": 19,
   "metadata": {},
   "outputs": [
    {
     "data": {
      "text/plain": [
       "4×4 Matrix{Float64}:\n",
       " 0.707107  0.0   0.0  NaN\n",
       " 0.707107  0.0   0.0  NaN\n",
       " 0.0       1.0   0.0  NaN\n",
       " 0.0       0.0  -1.0  NaN"
      ]
     },
     "metadata": {},
     "output_type": "display_data"
    }
   ],
   "source": [
    "gram_schmidt(S)"
   ]
  },
  {
   "cell_type": "code",
   "execution_count": 20,
   "metadata": {},
   "outputs": [
    {
     "data": {
      "text/plain": [
       "4×4 LinearAlgebra.QRCompactWYQ{Float64, Matrix{Float64}, Matrix{Float64}}:\n",
       " -0.707107   0.0  0.0   0.707107\n",
       " -0.707107   0.0  0.0  -0.707107\n",
       "  0.0       -1.0  0.0   0.0\n",
       "  0.0        0.0  1.0   0.0"
      ]
     },
     "metadata": {},
     "output_type": "display_data"
    }
   ],
   "source": [
    "Q1"
   ]
  },
  {
   "cell_type": "code",
   "execution_count": 27,
   "metadata": {},
   "outputs": [
    {
     "data": {
      "text/plain": [
       "4×4 Matrix{Int64}:\n",
       "  1  1  0   1\n",
       "  1  1  0   1\n",
       " -1  0  0   1\n",
       "  1  0  1  -1"
      ]
     },
     "metadata": {},
     "output_type": "display_data"
    }
   ],
   "source": [
    "S2=[1 1 0 1; 1 1 0 1; -1 0 0 1; 1 0 1 -1]"
   ]
  },
  {
   "cell_type": "code",
   "execution_count": 33,
   "metadata": {},
   "outputs": [
    {
     "data": {
      "text/plain": [
       "LinearAlgebra.QRCompactWY{Float64, Matrix{Float64}, Matrix{Float64}}\n",
       "Q factor:\n",
       "4×4 LinearAlgebra.QRCompactWYQ{Float64, Matrix{Float64}, Matrix{Float64}}:\n",
       " -0.5  -0.5   1.66533e-16  -0.707107\n",
       " -0.5  -0.5  -1.66533e-16   0.707107\n",
       "  0.5  -0.5  -0.707107      0.0\n",
       " -0.5   0.5  -0.707107      1.11022e-16\n",
       "R factor:\n",
       "4×4 Matrix{Float64}:\n",
       " -2.0  -1.0  -0.5        0.0\n",
       "  0.0  -1.0   0.5       -2.0\n",
       "  0.0   0.0  -0.707107  -7.39557e-32\n",
       "  0.0   0.0   0.0        3.14018e-16"
      ]
     },
     "metadata": {},
     "output_type": "display_data"
    }
   ],
   "source": [
    "Q2, R2 = qr(S2)"
   ]
  },
  {
   "cell_type": "code",
   "execution_count": 41,
   "metadata": {},
   "outputs": [
    {
     "data": {
      "text/plain": [
       "1.0"
      ]
     },
     "metadata": {},
     "output_type": "display_data"
    }
   ],
   "source": [
    "norm(Q2[:,4])"
   ]
  },
  {
   "cell_type": "code",
   "execution_count": 32,
   "metadata": {},
   "outputs": [
    {
     "ename": "UndefVarError",
     "evalue": "UndefVarError: Q2 not defined",
     "output_type": "error",
     "traceback": [
      "UndefVarError: Q2 not defined\n"
     ]
    }
   ],
   "source": [
    "Q2"
   ]
  },
  {
   "cell_type": "code",
   "execution_count": null,
   "metadata": {},
   "outputs": [],
   "source": [
    "Q"
   ]
  }
 ],
 "metadata": {
  "kernelspec": {
   "display_name": "Julia_12 threads 1.8.2",
   "language": "julia",
   "name": "julia_12-threads-1.8"
  },
  "language_info": {
   "file_extension": ".jl",
   "mimetype": "application/julia",
   "name": "julia",
   "version": "1.8.2"
  },
  "orig_nbformat": 4
 },
 "nbformat": 4,
 "nbformat_minor": 2
}
