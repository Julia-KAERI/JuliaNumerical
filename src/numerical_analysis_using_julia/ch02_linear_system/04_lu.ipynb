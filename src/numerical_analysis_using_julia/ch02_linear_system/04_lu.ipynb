{
 "cells": [
  {
   "cell_type": "code",
   "execution_count": 3,
   "metadata": {},
   "outputs": [],
   "source": [
    "using LinearAlgebra, BenchmarkTools"
   ]
  },
  {
   "cell_type": "code",
   "execution_count": 4,
   "metadata": {},
   "outputs": [
    {
     "data": {
      "text/plain": [
       "([1.0 0.0; 0.0 1.0], [2.0 4.0; 0.0 3.0])"
      ]
     },
     "metadata": {},
     "output_type": "display_data"
    }
   ],
   "source": [
    "#u_{11}=2,\\, u_{12}=3,\\, l_{21}=1,\\, l_{22}=-1 \n",
    "u11=2\n",
    "u12=4\n",
    "l21=0.0/u11\n",
    "u22=3.0 - (l21*u12) \n",
    "L, U = [1 0; l21 1], [u11 u12;0 u22]"
   ]
  },
  {
   "cell_type": "code",
   "execution_count": 286,
   "metadata": {},
   "outputs": [
    {
     "data": {
      "text/plain": [
       "plufact (generic function with 1 method)"
      ]
     },
     "metadata": {},
     "output_type": "display_data"
    }
   ],
   "source": [
    "function PLU(A::Matrix{T}; eptols = 1.0e-10) where T<:Real\n",
    "    M, N = size(A)\n",
    "    @assert M == N\n",
    "\n",
    "    L, P, U = one(A), one(A), zero(A)\n",
    "    B = copy(A)\n",
    "    \n",
    "    for i in 1:(M-1)\n",
    "        p = argmax(abs.(B[i:end, i])) + i -1\n",
    "        \n",
    "        if abs(B[p, i]) < eptols\n",
    "            error(\"Singularity error\")    \n",
    "        end\n",
    "\n",
    "        P[i,:], P[p, :] = P[p, :], P[i, :]\n",
    "        B[i,:], B[p, :] = B[p, :], B[i, :]\n",
    "        \n",
    "        if i>1\n",
    "            L[i,1:i-1], L[p, 1:i-1] = L[p, 1:i-1], L[i, 1:i-1]\n",
    "        end\n",
    "        \n",
    "        U[i, i] = B[i, i]\n",
    "        U[i, (i+1):end] = B[i, (i+1):end]\n",
    "        L[(i+1):end, i] = B[(i+1):end, i] / B[i, i]\n",
    "        B[(i+1):end, (i+1):end] = B[(i+1):end, (i+1):end] - (L[(i+1):end, i:i] * U[i:i, (i+1):end])\n",
    "    end\n",
    "    U[M, M] = B[M, M]\n",
    "    return P, L, U\n",
    "end\n",
    "\n",
    "function plufact(A)\n",
    "    n = size(A,1)\n",
    "    L = zeros(n,n)\n",
    "    U = zeros(n,n)\n",
    "    p = fill(0,n)\n",
    "    Aₖ = float(copy(A))\n",
    "\n",
    "    # Reduction by outer products\n",
    "    for k in 1:n-1\n",
    "        p[k] = argmax(abs.(Aₖ[:,k]))\n",
    "        U[k,:] = Aₖ[p[k],:]\n",
    "        L[:,k] = Aₖ[:,k]/U[k,k]\n",
    "        Aₖ -= L[:,k]*U[k,:]'\n",
    "    end\n",
    "    p[n] = argmax(abs.(Aₖ[:,n]))\n",
    "    U[n,n] = Aₖ[p[n],n]\n",
    "    L[:,n] = Aₖ[:,n]/U[n,n]\n",
    "    return p,  LowerTriangular(L[p,:]), U\n",
    "end"
   ]
  },
  {
   "cell_type": "code",
   "execution_count": 293,
   "metadata": {},
   "outputs": [
    {
     "data": {
      "text/plain": [
       "([1.0 0.0 … 0.0 0.0; 0.0 0.0 … 0.0 1.0; … ; 0.0 0.0 … 0.0 0.0; 0.0 0.0 … 0.0 0.0], [1.0 0.0 … 0.0 0.0; 0.04 1.0 … 0.0 0.0; … ; 0.52 -0.0993150684931507 … 1.0 0.0; 0.32 0.8082191780821918 … -0.7568729799322469 1.0], [100.0 23.0 … 27.0 33.0; 0.0 70.08 … 25.92 86.68; … ; 0.0 0.0 … 54.29836021589808 -6.149290364661873; 0.0 0.0 … 0.0 13.52412409106661])"
      ]
     },
     "metadata": {},
     "output_type": "display_data"
    }
   ],
   "source": [
    "n=10\n",
    "A = float.(rand(1:100, (n, n)))\n",
    "P, L, U = PLU(A)"
   ]
  },
  {
   "cell_type": "code",
   "execution_count": 294,
   "metadata": {},
   "outputs": [
    {
     "data": {
      "text/plain": [
       "10×10 Matrix{Float64}:\n",
       " 1.0    0.0         0.0        …   0.0       0.0        0.0       0.0\n",
       " 0.04   1.0         0.0            0.0       0.0        0.0       0.0\n",
       " 0.59   0.0204053   1.0            0.0       0.0        0.0       0.0\n",
       " 0.57   0.854595    0.658493       0.0       0.0        0.0       0.0\n",
       " 0.73   0.659389    0.533538       0.0       0.0        0.0       0.0\n",
       " 0.81   0.561787    0.431572   …   0.0       0.0        0.0       0.0\n",
       " 0.06   0.865011    0.671655       1.0       0.0        0.0       0.0\n",
       " 0.24   0.163813   -0.0375045      0.720983  1.0        0.0       0.0\n",
       " 0.52  -0.0993151  -0.432474      -0.177569  0.42989    1.0       0.0\n",
       " 0.32   0.808219    0.0227191      0.712318  0.972258  -0.756873  1.0"
      ]
     },
     "metadata": {},
     "output_type": "display_data"
    }
   ],
   "source": [
    "L"
   ]
  },
  {
   "cell_type": "code",
   "execution_count": 295,
   "metadata": {},
   "outputs": [
    {
     "data": {
      "text/plain": [
       "10×10 Matrix{Float64}:\n",
       " 0.0          0.0   0.0           0.0          …   0.0           0.0\n",
       " 0.0          0.0   0.0           0.0              0.0           0.0\n",
       " 0.0          0.0   0.0           0.0              0.0           0.0\n",
       " 7.10543e-15  0.0   1.42109e-14   1.42109e-14      0.0           0.0\n",
       " 0.0          0.0   0.0           1.42109e-14     -7.10543e-15   0.0\n",
       " 0.0          0.0   0.0           0.0          …   0.0          -1.42109e-14\n",
       " 0.0          0.0   0.0           1.06581e-14      0.0           0.0\n",
       " 0.0          0.0   0.0           0.0              1.42109e-14   0.0\n",
       " 0.0          0.0   0.0           0.0              0.0           1.77636e-14\n",
       " 0.0          0.0  -1.42109e-14  -3.55271e-15      0.0           0.0"
      ]
     },
     "metadata": {},
     "output_type": "display_data"
    }
   ],
   "source": [
    "P*A-L*U"
   ]
  },
  {
   "cell_type": "code",
   "execution_count": 276,
   "metadata": {},
   "outputs": [
    {
     "data": {
      "text/plain": [
       "([1, 5, 2, 4, 3], [1.0 0.0 … 0.0 0.0; 0.125 1.0 … 0.0 0.0; … ; 0.625 -0.28695652173913044 … 1.0 0.0; 0.125 0.9304347826086956 … -0.7107517106081629 1.0], [16.0 13.0 … 4.0 15.0; 0.0 14.375 … 11.5 9.125; … ; 0.0 0.0 … 5.2735301539237955 5.334595003785012; 0.0 0.0 … 0.0 -1.4317431456050533])"
      ]
     },
     "metadata": {},
     "output_type": "display_data"
    }
   ],
   "source": [
    "p1, L1, U1 = plufact(A)"
   ]
  },
  {
   "cell_type": "code",
   "execution_count": 279,
   "metadata": {},
   "outputs": [
    {
     "data": {
      "text/plain": [
       "5×5 Matrix{Float64}:\n",
       " 0.0   0.0   0.0  0.0   0.0\n",
       " 0.0  -1.0   0.0  0.0   1.0\n",
       " 0.0   0.0  -1.0  0.0   0.0\n",
       " 0.0   0.0   0.0  0.0   0.0\n",
       " 0.0   0.0   0.0  0.0  -1.0"
      ]
     },
     "metadata": {},
     "output_type": "display_data"
    }
   ],
   "source": [
    "L-L1"
   ]
  },
  {
   "cell_type": "code",
   "execution_count": 278,
   "metadata": {},
   "outputs": [
    {
     "data": {
      "text/plain": [
       "5×5 Matrix{Float64}:\n",
       " 16.0  13.0     1.0      4.0      15.0\n",
       "  0.0  14.375  10.875   11.5       9.125\n",
       "  0.0   0.0    17.2304  19.6      -9.40435\n",
       "  0.0   0.0     0.0      5.27353   5.3346\n",
       "  0.0   0.0     0.0      0.0      -1.43174"
      ]
     },
     "metadata": {},
     "output_type": "display_data"
    }
   ],
   "source": [
    "U1"
   ]
  },
  {
   "cell_type": "code",
   "execution_count": 273,
   "metadata": {},
   "outputs": [
    {
     "data": {
      "text/plain": [
       "5×5 Matrix{Float64}:\n",
       " 0.0  0.0   0.0          0.0  0.0\n",
       " 0.0  0.0   0.0          0.0  0.0\n",
       " 0.0  0.0  -1.77636e-15  0.0  0.0\n",
       " 0.0  0.0   0.0          0.0  0.0\n",
       " 0.0  0.0   0.0          0.0  0.0"
      ]
     },
     "metadata": {},
     "output_type": "display_data"
    }
   ],
   "source": [
    "A[p1,:] - L1*U1"
   ]
  },
  {
   "cell_type": "code",
   "execution_count": 237,
   "metadata": {},
   "outputs": [
    {
     "data": {
      "text/plain": [
       "5×5 Matrix{Float64}:\n",
       " 0.0  1.0  0.0  0.0  0.0\n",
       " 1.0  0.0  0.0  0.0  0.0\n",
       " 0.0  0.0  1.0  0.0  0.0\n",
       " 0.0  0.0  0.0  0.0  1.0\n",
       " 0.0  0.0  0.0  1.0  0.0"
      ]
     },
     "metadata": {},
     "output_type": "display_data"
    }
   ],
   "source": [
    "P"
   ]
  },
  {
   "cell_type": "code",
   "execution_count": 147,
   "metadata": {},
   "outputs": [
    {
     "data": {
      "text/plain": [
       "LU (generic function with 1 method)"
      ]
     },
     "metadata": {},
     "output_type": "display_data"
    }
   ],
   "source": [
    "function LU(A::Matrix{T}; eptols = 1.0e-10) where T<:Real\n",
    "    M, N = size(A)\n",
    "    @assert M == N\n",
    "\n",
    "    L, U = one(A), one(A), zero(A)\n",
    "    B = copy(A)\n",
    "    \n",
    "    for i in 1:(M-1)\n",
    "        p = argmax(abs.(B[i:end, i])) + i -1\n",
    "        \n",
    "        if abs(B[p, i]) < eptols\n",
    "            error(\"Singularity error\")    \n",
    "        end\n",
    "        \n",
    "        U[i, :] = B[i, :]\n",
    "        U[i, :] .= B[i, :]\n",
    "        L[(i+1):end, i] .= B[(i+1):end, i] ./ U[i, i]\n",
    "        B[(i+1):end, (i+1):end] .= B[(i+1):end, (i+1):end] - (L[(i+1):end, i:i] * U[i:i, (i+1):end])\n",
    "    end\n",
    "    U[N,N] = B[N,N]\n",
    "    L[:,N] = B[:,N]/U[N,N]\n",
    "    return P, L, U\n",
    "end"
   ]
  },
  {
   "cell_type": "code",
   "execution_count": 148,
   "metadata": {},
   "outputs": [
    {
     "data": {
      "text/plain": [
       "LU1 (generic function with 1 method)"
      ]
     },
     "metadata": {},
     "output_type": "display_data"
    }
   ],
   "source": [
    "function LU2(A::Matrix{T}) where T<:AbstractFloat\n",
    "    U = copy(A)\n",
    "    M, N = size(U)[1:2]\n",
    "    @assert M == N\n",
    "    L = one(A)\n",
    "    for i in 2:N\n",
    "        L[i, 1] = A[i, 1]/A[1, 1]\n",
    "        U[i, 1] = 0.0 \n",
    "    end\n",
    "    for i = 2:N \n",
    "        for j = 2:N \n",
    "            fc = zero(T)\n",
    "            for k = 1:i-1\n",
    "                fc += L[i, k]*U[k, j]\n",
    "            end\n",
    "            if i>j\n",
    "                L[i, j] = (A[i, j] - fc)/U[j, j]\n",
    "                U[i, j] = zero(T)\n",
    "            else \n",
    "                U[i, j] = (A[i, j] - fc) \n",
    "            end\n",
    "        end\n",
    "    end\n",
    "    return L, U\n",
    "end\n",
    "\n",
    "function LU1(A::Matrix{T}) where T<:AbstractFloat\n",
    "    U = copy(A)\n",
    "    M, N = size(U)[1:2]\n",
    "    @assert M == N\n",
    "    L = one(A)x\n",
    "\n",
    "    for i = 2:N \n",
    "        for j = 2:N \n",
    "            fc = zero(T)\n",
    "            for k = 1:i-1\n",
    "                fc += L[i, k]*U[k, j]\n",
    "            end\n",
    "            if i>j\n",
    "                L[i, j] = (A[i, j] - fc)/U[j, j]  \n",
    "                U[i, j] = zero(T)\n",
    "            else \n",
    "                U[i, j] = (A[i, j] - fc) \n",
    "            end\n",
    "        end\n",
    "    end\n",
    "    return L, U\n",
    "end\n"
   ]
  },
  {
   "cell_type": "code",
   "execution_count": 80,
   "metadata": {},
   "outputs": [
    {
     "data": {
      "text/plain": [
       "([1.0 0.0 0.0 0.0; 1.6666666666666667 1.0 0.0 0.0; -0.6666666666666666 0.09090909090909094 1.0 0.0; -0.6666666666666666 0.09090909090909094 1.0 1.0], [3.0 4.0 2.0 5.0; 0.0 -3.666666666666667 0.6666666666666665 -10.333333333333334; 0.0 0.0 2.2727272727272725 4.2727272727272725; 0.0 0.0 0.0 -2.0])"
      ]
     },
     "metadata": {},
     "output_type": "display_data"
    }
   ],
   "source": [
    "Ac = Float64.([3 4 2 5; 5 3 4 -2; -2 -3 1 0; -2 -3 1 -2])\n",
    "b = Float64.([3, 2, 1, -2])\n",
    "l1, u1 = LU(Ac)"
   ]
  },
  {
   "cell_type": "code",
   "execution_count": 90,
   "metadata": {},
   "outputs": [
    {
     "data": {
      "text/plain": [
       "4×4 Matrix{Int64}:\n",
       " 1  5   9  13\n",
       " 2  6  10  14\n",
       " 3  7  11  15\n",
       " 4  8  12  16"
      ]
     },
     "metadata": {},
     "output_type": "display_data"
    }
   ],
   "source": [
    "A=reshape(collect(1:16), (4, 4))"
   ]
  },
  {
   "cell_type": "code",
   "execution_count": 91,
   "metadata": {},
   "outputs": [
    {
     "data": {
      "text/plain": [
       "([3, 7, 11, 15], [1, 2, 3, 4])"
      ]
     },
     "metadata": {},
     "output_type": "display_data"
    }
   ],
   "source": [
    "A[1, :], A[3, :] = A[3, :], A[:, 1]"
   ]
  },
  {
   "cell_type": "code",
   "execution_count": 114,
   "metadata": {},
   "outputs": [
    {
     "name": "stdout",
     "output_type": "stream",
     "text": [
      "A = [0.7876136060778486 0.24140264640800413 0.9883308798271858 5.0 0.8489136798606083; 0.6136753245309301 0.45169857158927706 0.28445889363912746 0.7461957362532627 0.25910228196949836; 0.6410401021823309 4.0 0.5858200156319991 0.5398806153414019 0.6846274278328139; 0.7079054600652507 0.7546581498147679 0.031131735623354806 0.3835467507327587 0.9438646751260223; 0.3492444116453274 0.08153239911663812 0.7018301516069582 0.31184691724967606 0.795967203835045]\n"
     ]
    },
    {
     "data": {
      "text/plain": [
       "5×5 Matrix{Float64}:\n",
       " 0.787614  0.241403   0.988331   5.0       0.848914\n",
       " 0.613675  0.451699   0.284459   0.746196  0.259102\n",
       " 0.64104   4.0        0.58582    0.539881  0.684627\n",
       " 0.707905  0.754658   0.0311317  0.383547  0.943865\n",
       " 0.349244  0.0815324  0.70183    0.311847  0.795967"
      ]
     },
     "metadata": {},
     "output_type": "display_data"
    }
   ],
   "source": [
    "@show A"
   ]
  },
  {
   "cell_type": "code",
   "execution_count": 117,
   "metadata": {},
   "outputs": [
    {
     "name": "stdout",
     "output_type": "stream",
     "text": [
      "A = [0.7876136060778486 0.24140264640800413 0.9883308798271858 5.0 0.8489136798606083; 0.6136753245309301 0.45169857158927706 0.28445889363912746 0.7461957362532627 0.25910228196949836; 0.6410401021823309 4.0 0.5858200156319991 0.5398806153414019 0.6846274278328139; 0.7079054600652507 0.7546581498147679 0.031131735623354806 0.3835467507327587 0.9438646751260223; 0.3492444116453274 0.08153239911663812 0.7018301516069582 0.31184691724967606 0.795967203835045]\n"
     ]
    },
    {
     "data": {
      "text/plain": [
       "5×5 Matrix{Float64}:\n",
       " 0.787614  0.241403   0.988331   5.0       0.848914\n",
       " 0.613675  0.451699   0.284459   0.746196  0.259102\n",
       " 0.64104   4.0        0.58582    0.539881  0.684627\n",
       " 0.707905  0.754658   0.0311317  0.383547  0.943865\n",
       " 0.349244  0.0815324  0.70183    0.311847  0.795967"
      ]
     },
     "metadata": {},
     "output_type": "display_data"
    }
   ],
   "source": [
    "@show A"
   ]
  },
  {
   "cell_type": "code",
   "execution_count": null,
   "metadata": {},
   "outputs": [],
   "source": []
  }
 ],
 "metadata": {
  "kernelspec": {
   "display_name": "Julia 1.8.5",
   "language": "julia",
   "name": "julia-1.8"
  },
  "language_info": {
   "file_extension": ".jl",
   "mimetype": "application/julia",
   "name": "julia",
   "version": "1.8.5"
  },
  "orig_nbformat": 4
 },
 "nbformat": 4,
 "nbformat_minor": 2
}
