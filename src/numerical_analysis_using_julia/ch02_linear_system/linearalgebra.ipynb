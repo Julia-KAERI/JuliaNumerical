{
 "cells": [
  {
   "cell_type": "code",
   "execution_count": 1,
   "metadata": {},
   "outputs": [],
   "source": [
    "using BenchmarkTools, LinearAlgebra"
   ]
  },
  {
   "cell_type": "code",
   "execution_count": 2,
   "metadata": {},
   "outputs": [
    {
     "data": {
      "text/plain": [
       "Us (generic function with 1 method)"
      ]
     },
     "metadata": {},
     "output_type": "display_data"
    }
   ],
   "source": [
    "function Ls(L::Matrix{T}, b::Vector{T}) where T<:Number\n",
    "    n = size(L)[1]\n",
    "    x = zeros(T, n)\n",
    "    x[1] = b[1]/L[1, 1]\n",
    "    for i in 2:1:n\n",
    "        x[i] = b[i]\n",
    "        for j in 1:1:(i-1)\n",
    "            x[i] -= L[i, j]*x[j]\n",
    "        end\n",
    "        x[i] = x[i]/L[i, i]\n",
    "    end\n",
    "    return x\n",
    "end\n",
    "\n",
    "function Us(U::Matrix{T}, b::Vector{T})::Vector{T} where T<:Number\n",
    "    n = size(U)[1]\n",
    "    x = zeros(T, n)\n",
    "    x[n] = b[n]/U[n, n]\n",
    "    for i in (n-1):-1:1\n",
    "        x[i] = b[i]\n",
    "        for j in (i+1):1:n\n",
    "            x[i] -= U[i, j] * x[j]\n",
    "        end\n",
    "        x[i] = x[i]/U[i, i]\n",
    "    end\n",
    "    return x\n",
    "end\n"
   ]
  },
  {
   "cell_type": "code",
   "execution_count": 3,
   "metadata": {},
   "outputs": [
    {
     "data": {
      "text/plain": [
       "4-element Vector{Float64}:\n",
       " -11.38095238095238\n",
       "   2.711904761904762\n",
       "   1.5904761904761904\n",
       "   0.8571428571428571"
      ]
     },
     "metadata": {},
     "output_type": "display_data"
    }
   ],
   "source": [
    "A = [1. 2. 3. 5.; 0. 2. 1. -2.; 0. 0. -3. 3.; 0. 0. 0. 7.]\n",
    "b = [3.1; 5.3; -2.2; 6.0]\n",
    "x = Us(A, b) "
   ]
  },
  {
   "cell_type": "code",
   "execution_count": 4,
   "metadata": {},
   "outputs": [
    {
     "data": {
      "text/plain": [
       "4-element Vector{Float64}:\n",
       "  3.1000000000000005\n",
       "  5.3\n",
       " -2.2\n",
       "  6.0"
      ]
     },
     "metadata": {},
     "output_type": "display_data"
    }
   ],
   "source": [
    "A*x"
   ]
  },
  {
   "cell_type": "code",
   "execution_count": 5,
   "metadata": {},
   "outputs": [
    {
     "data": {
      "text/plain": [
       "3-element Vector{Float64}:\n",
       " -3.1582784131957885e15\n",
       "  1.41540030987187e8\n",
       " -2.600356012377695"
      ]
     },
     "metadata": {},
     "output_type": "display_data"
    }
   ],
   "source": [
    "A1= [0.531656 1.18632e7 1.0599e7; 0.0 0.25809 1.40481e7 ;0.0 0.0 0.846038]\n",
    "b1 = [3.1; 5.3; -2.2]\n",
    "x1 = Us(A1, b1)"
   ]
  },
  {
   "cell_type": "code",
   "execution_count": 6,
   "metadata": {},
   "outputs": [
    {
     "data": {
      "text/plain": [
       "3-element Vector{Float64}:\n",
       "  3.1248088106513023\n",
       "  5.299999997019768\n",
       " -2.2"
      ]
     },
     "metadata": {},
     "output_type": "display_data"
    }
   ],
   "source": [
    "A1*x1\n"
   ]
  },
  {
   "cell_type": "code",
   "execution_count": 7,
   "metadata": {},
   "outputs": [
    {
     "data": {
      "text/plain": [
       "GE1 (generic function with 1 method)"
      ]
     },
     "metadata": {},
     "output_type": "display_data"
    }
   ],
   "source": [
    "function GE1(M::Matrix{T})::Array{T, 2} where T<:Number\n",
    "    A = copy(M)\n",
    "    m, n = size(A)[1:2]\n",
    "    M = min(m, n)\n",
    "    for i in 1:1:M, j in (i+1):1:m\n",
    "        A[j, :] = A[j, :] .- (A[i, :] .* (A[j , i]/A[i, i]))\n",
    "    end\n",
    "    return A\n",
    "end"
   ]
  },
  {
   "cell_type": "code",
   "execution_count": 8,
   "metadata": {},
   "outputs": [
    {
     "data": {
      "text/plain": [
       "3×3 Matrix{Float64}:\n",
       " 1.0    3.0   2.0\n",
       " 0.0  -13.0  -4.0\n",
       " 0.0    0.0  -3.15385"
      ]
     },
     "metadata": {},
     "output_type": "display_data"
    }
   ],
   "source": [
    "A1 = Float64.([1 3 2; 3 -4 2; 3 3 1])\n",
    "GE1(A1)"
   ]
  },
  {
   "cell_type": "code",
   "execution_count": 9,
   "metadata": {},
   "outputs": [
    {
     "data": {
      "text/plain": [
       "4×3 Matrix{Float64}:\n",
       "   1.0    2.0    3.0\n",
       "   0.0   -1.0   -2.0\n",
       "   0.0    0.0    0.0\n",
       " NaN    NaN    NaN"
      ]
     },
     "metadata": {},
     "output_type": "display_data"
    }
   ],
   "source": [
    "A2 = Float64.([1 2 3 ; 2 3 4 ; 3 4 5; 1 2 2])\n",
    "GE1(A2)"
   ]
  },
  {
   "cell_type": "code",
   "execution_count": 11,
   "metadata": {},
   "outputs": [
    {
     "data": {
      "text/plain": [
       "GE2 (generic function with 1 method)"
      ]
     },
     "metadata": {},
     "output_type": "display_data"
    }
   ],
   "source": [
    "function find_nonzero_rows_after(M::Matrix{T}, i::Integer) where T<:Number\n",
    "    h, w = size(M)\n",
    "    k = 0\n",
    "    for j in i+1:1:h\n",
    "        if M[j, i] ≠ 0.0\n",
    "            k = j\n",
    "            break\n",
    "        end\n",
    "    end\n",
    "    return k\n",
    "end\n",
    "\n",
    "function GE2(M::Array{T, 2})::Matrix{T, 2} where T<:Number\n",
    "    A = copy(M)\n",
    "    m, n = size(A)[1:2]\n",
    "    M = min(m, n)\n",
    "    for i in 1:1:M, j in (i+1):1:m\n",
    "        if A[i, i] == 0.0\n",
    "            k = find_nonzero_rows_after(A, i)\n",
    "            if k ≠ nothing\n",
    "                A[i, :], A[k, :] = A[k, :], A[i, :]\n",
    "            else\n",
    "                continue\n",
    "            end\n",
    "        end\n",
    "        A[j, :] = A[j, :] .- (A[i, :] .* (A[j , i]/A[i, i]))\n",
    "        A[j, i] = 0.0\n",
    "    end\n",
    "    return A\n",
    "end"
   ]
  },
  {
   "cell_type": "code",
   "execution_count": null,
   "metadata": {},
   "outputs": [],
   "source": []
  }
 ],
 "metadata": {
  "kernelspec": {
   "display_name": "Julia 1.8.5",
   "language": "julia",
   "name": "julia-1.8"
  },
  "language_info": {
   "file_extension": ".jl",
   "mimetype": "application/julia",
   "name": "julia",
   "version": "1.8.5"
  },
  "orig_nbformat": 4
 },
 "nbformat": 4,
 "nbformat_minor": 2
}
