{
 "cells": [
  {
   "cell_type": "code",
   "execution_count": 1,
   "metadata": {},
   "outputs": [],
   "source": [
    "using LinearAlgebra, BenchmarkTools"
   ]
  },
  {
   "cell_type": "code",
   "execution_count": 9,
   "metadata": {},
   "outputs": [
    {
     "data": {
      "text/plain": [
       "3×3 Matrix{Float64}:\n",
       " 1.0  0.091378   0.462786\n",
       " 0.0  1.0       -0.0205982\n",
       " 0.0  0.0        1.0"
      ]
     },
     "metadata": {},
     "output_type": "display_data"
    }
   ],
   "source": [
    "include(\"ch02_02_elimination.jl\")"
   ]
  },
  {
   "cell_type": "code",
   "execution_count": 3,
   "metadata": {},
   "outputs": [
    {
     "name": "stdout",
     "output_type": "stream",
     "text": [
      "[-11.38095238095238, 2.711904761904762, 1.5904761904761904, 0.8571428571428571]\n"
     ]
    },
    {
     "data": {
      "text/plain": [
       "4.440892098500626e-16"
      ]
     },
     "metadata": {},
     "output_type": "display_data"
    }
   ],
   "source": [
    "A = [1. 2. 3. 5.; 0. 2. 1. -2.; 0. 0. -3. 3.; 0. 0. 0. 7.]\n",
    "b = [3.1; 5.3; -2.2; 6.0]\n",
    "x = Us(A, b)\n",
    "println(x)\n",
    "sum(abs.(A*x-b))"
   ]
  },
  {
   "cell_type": "code",
   "execution_count": 4,
   "metadata": {},
   "outputs": [
    {
     "data": {
      "text/plain": [
       "0.02480881363153431"
      ]
     },
     "metadata": {},
     "output_type": "display_data"
    }
   ],
   "source": [
    "A1= [0.531656 1.18632e7 1.0599e7; 0.0 0.25809 1.40481e7 ;0.0 0.0 0.846038]\n",
    "b1 = [3.1; 5.3; -2.2]\n",
    "x1 = Us(A1, b1)\n",
    "sum(abs.(A1*x1-b1))"
   ]
  },
  {
   "cell_type": "code",
   "execution_count": 10,
   "metadata": {},
   "outputs": [
    {
     "data": {
      "text/plain": [
       "3×3 Matrix{Float64}:\n",
       " 1.0    3.0   2.0\n",
       " 0.0  -13.0  -4.0\n",
       " 0.0    0.0  -3.15385"
      ]
     },
     "metadata": {},
     "output_type": "display_data"
    }
   ],
   "source": [
    "A1 = Float64.([1 3 2; 3 -4 2; 3 3 1])\n",
    "GE1(A1)"
   ]
  },
  {
   "cell_type": "code",
   "execution_count": 8,
   "metadata": {},
   "outputs": [
    {
     "data": {
      "text/plain": [
       "3-element Vector{Float64}:\n",
       "  0.0\n",
       " -2.9802320611338473e-9\n",
       "  0.20000000000000018"
      ]
     },
     "metadata": {},
     "output_type": "display_data"
    }
   ],
   "source": [
    "Matrix(A1')*x1-b1"
   ]
  },
  {
   "cell_type": "code",
   "execution_count": 3,
   "metadata": {},
   "outputs": [
    {
     "data": {
      "text/plain": [
       "2×2 Matrix{ComplexF64}:\n",
       " 1.0+0.0im  2.0+0.0im\n",
       " 3.0+1.0im  4.0+0.0im"
      ]
     },
     "metadata": {},
     "output_type": "display_data"
    }
   ],
   "source": [
    "AA = [1 2; 3.0+1im 4.0]"
   ]
  },
  {
   "cell_type": "code",
   "execution_count": 7,
   "metadata": {},
   "outputs": [
    {
     "data": {
      "text/plain": [
       "2×2 adjoint(::Matrix{ComplexF64}) with eltype ComplexF64:\n",
       " 1.0-0.0im  3.0-1.0im\n",
       " 2.0-0.0im  4.0-0.0im"
      ]
     },
     "metadata": {},
     "output_type": "display_data"
    }
   ],
   "source": [
    "AA'"
   ]
  },
  {
   "cell_type": "code",
   "execution_count": 6,
   "metadata": {},
   "outputs": [
    {
     "data": {
      "text/plain": [
       "2×2 adjoint(::Matrix{ComplexF64}) with eltype ComplexF64:\n",
       " 1.0-0.0im  3.0-1.0im\n",
       " 2.0-0.0im  4.0-0.0im"
      ]
     },
     "metadata": {},
     "output_type": "display_data"
    }
   ],
   "source": [
    "adjoint(AA)"
   ]
  },
  {
   "cell_type": "code",
   "execution_count": 8,
   "metadata": {},
   "outputs": [
    {
     "data": {
      "text/plain": [
       "2×2 transpose(::Matrix{ComplexF64}) with eltype ComplexF64:\n",
       " 1.0+0.0im  3.0+1.0im\n",
       " 2.0+0.0im  4.0+0.0im"
      ]
     },
     "metadata": {},
     "output_type": "display_data"
    }
   ],
   "source": [
    "transpose(AA)"
   ]
  },
  {
   "cell_type": "code",
   "execution_count": 11,
   "metadata": {},
   "outputs": [
    {
     "data": {
      "text/plain": [
       "5-element Vector{Float64}:\n",
       " 0.0\n",
       " 0.0\n",
       " 1.0\n",
       " 0.0\n",
       " 0.0"
      ]
     },
     "metadata": {},
     "output_type": "display_data"
    }
   ],
   "source": [
    "e_i = Matrix{Float64}(I, 5, 5)[:,3]"
   ]
  },
  {
   "cell_type": "code",
   "execution_count": 12,
   "metadata": {},
   "outputs": [
    {
     "data": {
      "text/plain": [
       "2×4 Matrix{Int64}:\n",
       " 1  3  3  2\n",
       " 2  4  4  3"
      ]
     },
     "metadata": {},
     "output_type": "display_data"
    }
   ],
   "source": [
    "A = [1 3;2 4]\n",
    "B = [3 2; 4 3]\n",
    "[A B]"
   ]
  },
  {
   "cell_type": "code",
   "execution_count": null,
   "metadata": {},
   "outputs": [],
   "source": []
  }
 ],
 "metadata": {
  "kernelspec": {
   "display_name": "Julia 1.8.5",
   "language": "julia",
   "name": "julia-1.8"
  },
  "language_info": {
   "file_extension": ".jl",
   "mimetype": "application/julia",
   "name": "julia",
   "version": "1.8.5"
  },
  "orig_nbformat": 4
 },
 "nbformat": 4,
 "nbformat_minor": 2
}
