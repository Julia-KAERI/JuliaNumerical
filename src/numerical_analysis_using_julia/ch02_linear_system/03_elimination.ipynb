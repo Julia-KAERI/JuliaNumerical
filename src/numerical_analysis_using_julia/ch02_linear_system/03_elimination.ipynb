{
 "cells": [
  {
   "cell_type": "code",
   "execution_count": 1,
   "metadata": {},
   "outputs": [],
   "source": [
    "using LinearAlgebra, BenchmarkTools"
   ]
  },
  {
   "cell_type": "code",
   "execution_count": 5,
   "metadata": {},
   "outputs": [
    {
     "data": {
      "text/plain": [
       "Us"
      ]
     },
     "metadata": {},
     "output_type": "display_data"
    }
   ],
   "source": [
    "\"\"\"\n",
    "    Ls(A, b)\n",
    "\n",
    "하삼각행렬 L 에 대해 Lx=b 의 해 x 를 구한다.\n",
    "\"\"\"\n",
    "function Ls(L::Matrix{T}, b::Union{Vector{T}, Matrix{T}}) where T<:Number\n",
    "    M, N = size(L)    \n",
    "    @assert M == N == size(b)[1]\n",
    "    x = zeros(T, N)\n",
    "    x[1] = b[1]/L[1, 1]\n",
    "    for i in 2:N\n",
    "        x[i] = b[i]\n",
    "        for j in 1:1:(i-1)\n",
    "            x[i] -= L[i, j]*x[j]\n",
    "        end\n",
    "        x[i] = x[i]/L[i, i]\n",
    "    end\n",
    "    return x\n",
    "end\n",
    "\n",
    "\n",
    "\"\"\"\n",
    "    Us(A, b)\n",
    "\n",
    "상삼각행렬 U 에 대해 Ux=b 의 해 x 를 구한다.\n",
    "\"\"\"\n",
    "function Us(U::Matrix{T},b::Union{Vector{T}, Matrix{T}}) where T<:Number\n",
    "    M, N = size(U)    \n",
    "    @assert M == N\n",
    "    x = zeros(T, N)\n",
    "    x[N] = b[N]/U[N, N]\n",
    "    for i in (N-1):-1:1\n",
    "        x[i] = b[i]\n",
    "        for j in (i+1):1:N\n",
    "            x[i] -= U[i, j] * x[j]\n",
    "        end\n",
    "        x[i] = x[i]/U[i, i]\n",
    "    end\n",
    "    return x\n",
    "end\n"
   ]
  },
  {
   "cell_type": "code",
   "execution_count": 25,
   "metadata": {},
   "outputs": [
    {
     "data": {
      "text/plain": [
       "gauss_jordan_elimination (generic function with 2 methods)"
      ]
     },
     "metadata": {},
     "output_type": "display_data"
    }
   ],
   "source": [
    "function gauss_jordan_elimination(A::Matrix{T}, b::Union{Nothing, Vector{T}, Matrix{T}}=nothing; eptols = 1.0e-10) where T<:Real\n",
    "    M, N = size(A)\n",
    "\n",
    "    if b ≠ nothing\n",
    "        @assert M == size(b)[1]\n",
    "        B = [A b]\n",
    "    else\n",
    "        B = A\n",
    "    end\n",
    "    \n",
    "    ld = 0 #선행 1 성분의 column index\n",
    "\n",
    "    for i in 1:M\n",
    "        termination = true # 종료 조건\n",
    "        for j in (ld+1):N\n",
    "            p = argmax(abs.(B[i:end, j])) + i -1\n",
    "            \n",
    "            if abs(B[p, j]) > eptols\n",
    "                B[i,:], B[p, :] = B[p, :], B[i,:]\n",
    "                ld = j\n",
    "                termination = false\n",
    "                break\n",
    "            end\n",
    "        end\n",
    "\n",
    "        if termination \n",
    "            break\n",
    "        end\n",
    "        \n",
    "        B[i, :] .= B[i, :]./B[i, ld]\n",
    "        \n",
    "        # 선행 1 성분의 열을 자신을 제외하고는 제거\n",
    "        for k in 1:M\n",
    "            if k ≠ i \n",
    "                B[k, :] .= B[k, :] .- (B[k, ld].*B[i, :])\n",
    "            end\n",
    "        end\n",
    "    end\n",
    "\n",
    "    if b ≠ nothing \n",
    "         return B[:, 1:N], B[:,(N+1):end]\n",
    "    else \n",
    "         return B\n",
    "    end\n",
    "end"
   ]
  },
  {
   "cell_type": "code",
   "execution_count": 26,
   "metadata": {},
   "outputs": [
    {
     "data": {
      "text/plain": [
       "([1.0 0.0 0.0; 0.0 1.0 0.0; 0.0 0.0 1.0], [-4.666666666666667; 3.0; 7.333333333333333;;])"
      ]
     },
     "metadata": {},
     "output_type": "display_data"
    }
   ],
   "source": [
    "A, b = Float64.([2 1 1;0 1 0;3 -2 3]), [1., 3, 2]\n",
    "A1, b1 = gauss_jordan_elimination(A, b)"
   ]
  },
  {
   "cell_type": "code",
   "execution_count": 27,
   "metadata": {},
   "outputs": [
    {
     "data": {
      "text/plain": [
       "([1.0 0.0 0.0; 0.0 1.0 0.0; 0.0 0.0 1.0], [1.0 -1.6666666666666665 -0.3333333333333335; 0.0 1.0 0.0; -1.0 2.333333333333333 0.6666666666666667])"
      ]
     },
     "metadata": {},
     "output_type": "display_data"
    }
   ],
   "source": [
    "A1, A2=gauss_jordan_elimination(A, one(A))"
   ]
  },
  {
   "cell_type": "code",
   "execution_count": 28,
   "metadata": {},
   "outputs": [
    {
     "data": {
      "text/plain": [
       "3×3 Matrix{Float64}:\n",
       " 1.0   4.44089e-16  -4.44089e-16\n",
       " 0.0   1.0           0.0\n",
       " 0.0  -4.44089e-16   1.0"
      ]
     },
     "metadata": {},
     "output_type": "display_data"
    }
   ],
   "source": [
    "A2*A"
   ]
  },
  {
   "cell_type": "code",
   "execution_count": 11,
   "metadata": {},
   "outputs": [],
   "source": []
  },
  {
   "cell_type": "code",
   "execution_count": 33,
   "metadata": {},
   "outputs": [
    {
     "data": {
      "text/plain": [
       "gauss0 (generic function with 2 methods)"
      ]
     },
     "metadata": {},
     "output_type": "display_data"
    }
   ],
   "source": [
    "function gauss0(A::Matrix{T}, b::Union{Nothing, Vector{T}, Matrix{T}}=nothing; eptols = 1.0e-10) where T<:Real\n",
    "    M, N = size(A)\n",
    "\n",
    "    if b ≠ nothing\n",
    "        @assert M == size(b)[1]\n",
    "        U = [A b]\n",
    "    else\n",
    "        U = copy(A)\n",
    "    end\n",
    "\n",
    "    ld = 0 #선행 1 성분의 column index\n",
    "\n",
    "    for i in 1:M\n",
    "        termination = true # 종료 조건\n",
    "        for j in (ld+1):N\n",
    "            p = argmax(abs.(U[i:end, j])) + i -1\n",
    "            \n",
    "            if abs(U[p, j]) > eptols\n",
    "                U[i,:], U[p, :] = U[p, :], U[i,:]\n",
    "                ld = j\n",
    "                termination = false\n",
    "                break\n",
    "            end\n",
    "        end\n",
    "\n",
    "        if termination \n",
    "            break\n",
    "        end\n",
    "        \n",
    "        # 선행 성분의 열을 자신을 제외하고는 제거\n",
    "        for k in (i+1):M\n",
    "            if k ≠ i \n",
    "                U[k, :] .= U[k, :] .- (U[k, ld].*U[i, :])./U[i, ld]\n",
    "            end\n",
    "        end\n",
    "    end\n",
    "\n",
    "    if b ≠ nothing \n",
    "        return U[:, 1:N], U[:,(N+1):end]\n",
    "   else \n",
    "        return U\n",
    "   end\n",
    "end"
   ]
  },
  {
   "cell_type": "code",
   "execution_count": 36,
   "metadata": {},
   "outputs": [
    {
     "data": {
      "text/plain": [
       "([3.0 -2.0 3.0; 0.0 2.333333333333333 -1.0; 0.0 0.0 0.4285714285714286], [2.0; -0.33333333333333326; 3.142857142857143;;])"
      ]
     },
     "metadata": {},
     "output_type": "display_data"
    }
   ],
   "source": [
    " A3, b3=gauss0(A, b)"
   ]
  },
  {
   "cell_type": "code",
   "execution_count": 42,
   "metadata": {},
   "outputs": [
    {
     "data": {
      "text/plain": [
       "3-element Vector{Float64}:\n",
       " -4.666666666666667\n",
       "  3.0000000000000004\n",
       "  7.333333333333333"
      ]
     },
     "metadata": {},
     "output_type": "display_data"
    }
   ],
   "source": [
    "xx = Us(A3, b3)"
   ]
  },
  {
   "cell_type": "code",
   "execution_count": 44,
   "metadata": {},
   "outputs": [
    {
     "data": {
      "text/plain": [
       "3-element Vector{Float64}:\n",
       " 0.9999999999999991\n",
       " 3.0000000000000004\n",
       " 2.0"
      ]
     },
     "metadata": {},
     "output_type": "display_data"
    }
   ],
   "source": [
    "A*xx"
   ]
  },
  {
   "cell_type": "code",
   "execution_count": 110,
   "metadata": {},
   "outputs": [
    {
     "data": {
      "text/plain": [
       "PLU (generic function with 1 method)"
      ]
     },
     "metadata": {},
     "output_type": "display_data"
    }
   ],
   "source": [
    "function PLU(A::Matrix{T}; eptols = 1.0e-10) where T<:Real\n",
    "    M, N = size(A)\n",
    "    @assert M == N\n",
    "\n",
    "    L, P, U = one(A), one(A), one(A)\n",
    "    B = copy(A)\n",
    "    \n",
    "    for i in 1:(M)\n",
    "        p = argmax(abs.(B[i:end, i])) + i -1\n",
    "        \n",
    "        if abs(B[p, i]) < eptols\n",
    "            error(\"Singularity error\")    \n",
    "        end\n",
    "\n",
    "        P[i,:], P[p, :] = P[p, :], P[i, :]\n",
    "        B[i,:], B[p, :] = B[p, :], B[i, :]\n",
    "        \n",
    "        U[i, i] = B[i, i]\n",
    "        U[i, i+1:end] .= B[i, i+1:end]\n",
    "        L[i+1:end, i] .= B[i+1:end, i] ./ U[i, i]\n",
    "        B[i+1:end, i+1:end] .= B[i+1:end, i+1:end] - (L[i+1:end, i:i] * U[i:i, i+1:end])\n",
    "    end\n",
    "    return L, U, P\n",
    "end"
   ]
  },
  {
   "cell_type": "code",
   "execution_count": 125,
   "metadata": {},
   "outputs": [
    {
     "data": {
      "text/plain": [
       "12×12 Matrix{Float64}:\n",
       " 3.97335    0.0109225  0.547702   0.649882   …  0.188207  0.177987   0.554972\n",
       " 0.977061   3.75282    0.151345   0.728188      0.126441  0.696274   0.346121\n",
       " 0.026027   0.994871   3.89925    0.990191      0.387402  0.350711   0.695096\n",
       " 0.271917   0.609679   0.59676    3.62555       0.727354  0.838565   0.799854\n",
       " 0.063271   0.499874   0.575026   0.365036      0.126075  0.0607189  0.41274\n",
       " 0.771585   0.716798   0.144201   0.14546    …  0.461099  0.0863546  0.221212\n",
       " 0.108126   0.0960933  0.803818   0.383693      0.418134  0.38503    0.847912\n",
       " 0.98581    0.379122   0.0398761  0.391686      0.957993  0.339588   0.842759\n",
       " 0.0169151  0.678634   0.396327   0.735744      0.183008  0.694117   0.135908\n",
       " 0.876935   0.0956017  0.669662   0.337535      3.74942   0.959084   0.630445\n",
       " 0.537954   0.726942   0.574854   0.0604795  …  0.962293  3.12479    0.693873\n",
       " 0.66475    0.26575    0.171625   0.619644      0.7966    0.0675967  3.01487"
      ]
     },
     "metadata": {},
     "output_type": "display_data"
    }
   ],
   "source": [
    "CC=rand(Float64, (12, 12)) + 3*I"
   ]
  },
  {
   "cell_type": "code",
   "execution_count": 126,
   "metadata": {},
   "outputs": [
    {
     "data": {
      "text/plain": [
       "([1.0 0.0 … 0.0 0.0; 0.24590349361647845 1.0 … 0.0 0.0; … ; 0.13539056206509953 0.19344968970961185 … 1.0 0.0; 0.16730197455558576 0.07037671152300816 … -0.07557964017944593 1.0], [3.9733513095805613 0.010922527983854957 … 0.17798724827264611 0.5549721536640151; 0.0 3.750137222346635 … 0.65250646253448 0.2096515912819225; … ; 0.0 0.0 … 2.7641837997770304 0.23419259750740537; 0.0 0.0 … 0.0 2.623196491440411], [1.0 0.0 … 0.0 0.0; 0.0 1.0 … 0.0 0.0; … ; 0.0 0.0 … 1.0 0.0; 0.0 0.0 … 0.0 1.0])"
      ]
     },
     "metadata": {},
     "output_type": "display_data"
    }
   ],
   "source": [
    "L1, U1, P1=PLU(CC)"
   ]
  },
  {
   "cell_type": "code",
   "execution_count": 129,
   "metadata": {},
   "outputs": [
    {
     "data": {
      "text/plain": [
       "8.881784197001252e-16"
      ]
     },
     "metadata": {},
     "output_type": "display_data"
    }
   ],
   "source": [
    "maximum(abs.(P1*CC - L1*U1))"
   ]
  },
  {
   "cell_type": "code",
   "execution_count": 122,
   "metadata": {},
   "outputs": [
    {
     "data": {
      "text/plain": [
       "5×5 Matrix{Float64}:\n",
       " 1.0        0.0        0.0          0.0        0.0\n",
       " 0.0744654  1.0        0.0          0.0        0.0\n",
       " 0.0511688  0.285629   1.0          0.0        0.0\n",
       " 0.0388027  0.18208   -0.00844316   1.0        0.0\n",
       " 0.0722443  0.270631  -0.0354912   -0.0608272  1.0"
      ]
     },
     "metadata": {},
     "output_type": "display_data"
    }
   ],
   "source": [
    "L1"
   ]
  },
  {
   "cell_type": "code",
   "execution_count": 123,
   "metadata": {},
   "outputs": [
    {
     "data": {
      "text/plain": [
       "5×5 Matrix{Float64}:\n",
       " 3.68344  0.293117  0.78976   0.312552  0.178957\n",
       " 0.0      3.27244   0.620451  0.824096  0.0827883\n",
       " 0.0      0.0       3.33487   0.601478  0.396173\n",
       " 0.0      0.0       0.0       3.134     0.70968\n",
       " 0.0      0.0       0.0       0.0       3.0551"
      ]
     },
     "metadata": {},
     "output_type": "display_data"
    }
   ],
   "source": [
    "U1"
   ]
  },
  {
   "cell_type": "code",
   "execution_count": 124,
   "metadata": {},
   "outputs": [
    {
     "data": {
      "text/plain": [
       "LU{Float64, Matrix{Float64}, Vector{Int64}}\n",
       "L factor:\n",
       "5×5 Matrix{Float64}:\n",
       " 1.0        0.0        0.0          0.0        0.0\n",
       " 0.0744654  1.0        0.0          0.0        0.0\n",
       " 0.0511688  0.285629   1.0          0.0        0.0\n",
       " 0.0388027  0.18208   -0.00844316   1.0        0.0\n",
       " 0.0722443  0.270631  -0.0354912   -0.0608272  1.0\n",
       "U factor:\n",
       "5×5 Matrix{Float64}:\n",
       " 3.68344  0.293117  0.78976   0.312552  0.178957\n",
       " 0.0      3.27244   0.620451  0.824096  0.0827883\n",
       " 0.0      0.0       3.33487   0.601478  0.396173\n",
       " 0.0      0.0       0.0       3.134     0.70968\n",
       " 0.0      0.0       0.0       0.0       3.0551"
      ]
     },
     "metadata": {},
     "output_type": "display_data"
    }
   ],
   "source": [
    "lu(CC)"
   ]
  },
  {
   "cell_type": "code",
   "execution_count": null,
   "metadata": {},
   "outputs": [],
   "source": []
  }
 ],
 "metadata": {
  "kernelspec": {
   "display_name": "Julia 1.8.5",
   "language": "julia",
   "name": "julia-1.8"
  },
  "language_info": {
   "file_extension": ".jl",
   "mimetype": "application/julia",
   "name": "julia",
   "version": "1.8.5"
  },
  "orig_nbformat": 4
 },
 "nbformat": 4,
 "nbformat_minor": 2
}
