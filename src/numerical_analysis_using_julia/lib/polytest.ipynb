{
 "cells": [
  {
   "cell_type": "code",
   "execution_count": 1,
   "metadata": {},
   "outputs": [],
   "source": [
    "using LinearAlgebra, BenchmarkTools\n",
    "include(\"simplepolynomials.jl\");"
   ]
  },
  {
   "cell_type": "code",
   "execution_count": 2,
   "metadata": {},
   "outputs": [
    {
     "data": {
      "text/plain": [
       "SimplePolynomial(1 x^1 - 1)\n"
      ]
     },
     "metadata": {},
     "output_type": "display_data"
    }
   ],
   "source": [
    "p1 = SimplePolynomial([1, 1, 1, 1, 1, 1])\n",
    "p2 = SimplePolynomial([-1, 1])"
   ]
  },
  {
   "cell_type": "code",
   "execution_count": 3,
   "metadata": {},
   "outputs": [
    {
     "data": {
      "text/plain": [
       "2.0"
      ]
     },
     "metadata": {},
     "output_type": "display_data"
    }
   ],
   "source": [
    "p3=integrate(SimplePolynomial([0, 2, 3]), 0, 1)"
   ]
  },
  {
   "cell_type": "code",
   "execution_count": 6,
   "metadata": {},
   "outputs": [
    {
     "data": {
      "text/plain": [
       "3-element Vector{Int64}:\n",
       "   6\n",
       "  63\n",
       " 364"
      ]
     },
     "metadata": {},
     "output_type": "display_data"
    }
   ],
   "source": [
    "p1.([1, 2, 3])"
   ]
  },
  {
   "cell_type": "code",
   "execution_count": 8,
   "metadata": {},
   "outputs": [
    {
     "data": {
      "text/plain": [
       "SimplePolynomial(1 x^1 - 1)\n"
      ]
     },
     "metadata": {},
     "output_type": "display_data"
    }
   ],
   "source": [
    "SimplePolynomial(p2.coeffs)"
   ]
  },
  {
   "cell_type": "code",
   "execution_count": 9,
   "metadata": {},
   "outputs": [
    {
     "data": {
      "text/plain": [
       "polynomial_from_roots2 (generic function with 1 method)"
      ]
     },
     "metadata": {},
     "output_type": "display_data"
    }
   ],
   "source": [
    "function polynomial_from_roots2(xp::AbstractVector{T}) where T<:Number \n",
    "    return prod([SimplePolynomial([-x0, 1]) for x0 in xp])\n",
    "end\n"
   ]
  },
  {
   "cell_type": "code",
   "execution_count": 10,
   "metadata": {},
   "outputs": [
    {
     "data": {
      "text/plain": [
       "SimplePolynomial(1 x^3 - 6 x^2 + 11 x^1 - 6)\n"
      ]
     },
     "metadata": {},
     "output_type": "display_data"
    }
   ],
   "source": [
    "q3=polynomial_from_roots2([1,2,3])"
   ]
  },
  {
   "cell_type": "code",
   "execution_count": 11,
   "metadata": {},
   "outputs": [
    {
     "data": {
      "text/plain": [
       "(0.0, 0.0, 6)"
      ]
     },
     "metadata": {},
     "output_type": "display_data"
    }
   ],
   "source": [
    "q3(1.0), q3(2.0), q3(4)"
   ]
  },
  {
   "cell_type": "code",
   "execution_count": 3,
   "metadata": {},
   "outputs": [],
   "source": [
    "xp = -3.0:1:3.0\n",
    "\n",
    "\n",
    "V = Array{Float64}(undef, length(xp), length(xp))\n",
    "\n",
    "for (i, x) in enumerate(xp), j in eachindex(xp)\n",
    "    V[i, j] = x^(j-1)\n",
    "end\n"
   ]
  },
  {
   "cell_type": "code",
   "execution_count": 59,
   "metadata": {},
   "outputs": [],
   "source": [
    "\n"
   ]
  },
  {
   "cell_type": "code",
   "execution_count": 65,
   "metadata": {},
   "outputs": [
    {
     "data": {
      "text/plain": [
       "7×7 Matrix{Float64}:\n",
       " 1.0  -3.0  9.0  -27.0  81.0  -243.0  729.0\n",
       " 1.0  -2.0  4.0   -8.0  16.0   -32.0   64.0\n",
       " 1.0  -1.0  1.0   -1.0   1.0    -1.0    1.0\n",
       " 1.0   0.0  0.0    0.0   0.0     0.0    0.0\n",
       " 1.0   1.0  1.0    1.0   1.0     1.0    1.0\n",
       " 1.0   2.0  4.0    8.0  16.0    32.0   64.0\n",
       " 1.0   3.0  9.0   27.0  81.0   243.0  729.0"
      ]
     },
     "metadata": {},
     "output_type": "display_data"
    }
   ],
   "source": [
    "[x^(j-1) for x in xp, j in 1:length(xp)]"
   ]
  },
  {
   "cell_type": "code",
   "execution_count": 66,
   "metadata": {},
   "outputs": [
    {
     "data": {
      "text/plain": [
       "7×7 Matrix{Float64}:\n",
       " 1.0  -3.0  9.0  -27.0  81.0  -243.0  729.0\n",
       " 1.0  -2.0  4.0   -8.0  16.0   -32.0   64.0\n",
       " 1.0  -1.0  1.0   -1.0   1.0    -1.0    1.0\n",
       " 1.0   0.0  0.0    0.0   0.0     0.0    0.0\n",
       " 1.0   1.0  1.0    1.0   1.0     1.0    1.0\n",
       " 1.0   2.0  4.0    8.0  16.0    32.0   64.0\n",
       " 1.0   3.0  9.0   27.0  81.0   243.0  729.0"
      ]
     },
     "metadata": {},
     "output_type": "display_data"
    }
   ],
   "source": [
    "V"
   ]
  },
  {
   "cell_type": "code",
   "execution_count": 4,
   "metadata": {},
   "outputs": [
    {
     "data": {
      "text/plain": [
       "7-element Vector{Float64}:\n",
       " 1.3330746771726132\n",
       " 2.0510876638189917\n",
       " 3.131436886614822\n",
       " 4.135843339788845\n",
       " 5.412622068176436\n",
       " 6.486209057468546\n",
       " 7.492981664077061"
      ]
     },
     "metadata": {},
     "output_type": "display_data"
    }
   ],
   "source": [
    "yp = (rand(Float64, size(xp)) .+ Vector(1:(length(xp))))"
   ]
  },
  {
   "cell_type": "code",
   "execution_count": 7,
   "metadata": {},
   "outputs": [
    {
     "data": {
      "text/plain": [
       "SimplePolynomial(0.004230963249467241 x^6 - 0.0007277194995237464 x^5 - 0.05548311037835385 x^4 - 0.006965483291854135 x^3 + 0.18743828473567056 x^2 + 1.1482857935721855 x^1 + 4.135843339788846)\n"
      ]
     },
     "metadata": {},
     "output_type": "display_data"
    }
   ],
   "source": [
    "pv=valdermond_polynomial(xp, yp)"
   ]
  },
  {
   "cell_type": "code",
   "execution_count": 11,
   "metadata": {},
   "outputs": [
    {
     "data": {
      "text/plain": [
       "7.492981664077062"
      ]
     },
     "metadata": {},
     "output_type": "display_data"
    }
   ],
   "source": [
    "pv(xp[end])"
   ]
  },
  {
   "cell_type": "code",
   "execution_count": 75,
   "metadata": {},
   "outputs": [
    {
     "data": {
      "text/plain": [
       "2.7708532264171364"
      ]
     },
     "metadata": {},
     "output_type": "display_data"
    }
   ],
   "source": [
    "p(-2.0)"
   ]
  },
  {
   "cell_type": "code",
   "execution_count": 74,
   "metadata": {},
   "outputs": [
    {
     "data": {
      "text/plain": [
       "7-element Vector{Float64}:\n",
       " 1.196225974061195\n",
       " 2.7708532264171364\n",
       " 3.086657290980158\n",
       " 4.65889290390719\n",
       " 5.570711433105355\n",
       " 6.260081730429041\n",
       " 7.633270034014658"
      ]
     },
     "metadata": {},
     "output_type": "display_data"
    }
   ],
   "source": [
    "yp"
   ]
  },
  {
   "cell_type": "code",
   "execution_count": null,
   "metadata": {},
   "outputs": [],
   "source": []
  }
 ],
 "metadata": {
  "kernelspec": {
   "display_name": "Julia 1.9.1",
   "language": "julia",
   "name": "julia-1.9"
  },
  "language_info": {
   "file_extension": ".jl",
   "mimetype": "application/julia",
   "name": "julia",
   "version": "1.9.1"
  },
  "orig_nbformat": 4
 },
 "nbformat": 4,
 "nbformat_minor": 2
}
