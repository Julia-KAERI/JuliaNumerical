{
 "cells": [
  {
   "cell_type": "code",
   "execution_count": 1,
   "metadata": {},
   "outputs": [],
   "source": [
    "using Plots, LaTeXStrings, LinearAlgebra, CairoMakie, SparseArrays, Printf, BenchmarkTools\n",
    "using NAJ"
   ]
  },
  {
   "cell_type": "code",
   "execution_count": 6,
   "metadata": {},
   "outputs": [
    {
     "data": {
      "text/plain": [
       "neville2 (generic function with 1 method)"
      ]
     },
     "metadata": {},
     "output_type": "display_data"
    }
   ],
   "source": [
    "# function neville(\n",
    "#     xp::AbstractVector{T1}, \n",
    "#     yp::AbstractVector{T2}, \n",
    "#     x::Real) where {T1<:Real, T2<:Real}\n",
    "#     @assert length(xp) == length(yp)\n",
    "#     P = copy(yp)\n",
    "#     for i in 1:(length(xp)-1)\n",
    "#         P = [((x-xp[j+i])*P[j] - (x-xp[j])*P[j+1])/(xp[j]-xp[j+i]) for j in 1:(length(xp)-i)]\n",
    "#     end\n",
    "#     return P[1]\n",
    "# end\n",
    "\n",
    "function neville2(xp::AbstractVector{T1}, \n",
    "        yp::AbstractVector{T2}, \n",
    "        x::Real) where {T1<:Real, T2<:Real}\n",
    "        @assert length(xp) == length(yp)\n",
    "        P = copy(yp)\n",
    "        for i in 1:(length(xp)-1)\n",
    "            P = [((x-xp[j+i])*P[j] - (x-xp[j])*P[j+1])/(xp[j]-xp[j+i]) for j in 1:(length(xp)-i)]\n",
    "            println(P)\n",
    "        end\n",
    "        return P[1]\n",
    "    end"
   ]
  },
  {
   "cell_type": "code",
   "execution_count": 7,
   "metadata": {},
   "outputs": [
    {
     "name": "stdout",
     "output_type": "stream",
     "text": [
      "[26.072153180817075, 58.17497939595872, 123.62337625305737, 403.4287934927351]\n",
      "[106.3292187186712, 189.07177311015602, 403.4287934927351]\n",
      "[244.23347603781258, 403.4287934927351]\n",
      "[403.4287934927351]\n"
     ]
    },
    {
     "data": {
      "text/plain": [
       "-5.684341886080802e-14"
      ]
     },
     "metadata": {},
     "output_type": "display_data"
    }
   ],
   "source": [
    "xp = [1, 2, 3, 4, 6]\n",
    "yp = exp.(xp)\n",
    "x = 6.0\n",
    "p_val = valdermond_polynomial(xp, yp)\n",
    "neville2(xp, yp, x) - p_val(x)"
   ]
  },
  {
   "cell_type": "code",
   "execution_count": 5,
   "metadata": {},
   "outputs": [
    {
     "name": "stdout",
     "output_type": "stream",
     "text": [
      "[0.7651977, 0.620086, 0.4554022, 0.2818186, 0.1103623]\n",
      "[0.5233448666666667, 0.5102968, 0.5132634, 0.5104269999999997]\n",
      "[0.5124714777777778, 0.5112856666666666, 0.5137361333333335]\n",
      "[0.5118126938271604, 0.5118302148148148]\n"
     ]
    },
    {
     "data": {
      "text/plain": [
       "0.5118199942386831"
      ]
     },
     "metadata": {},
     "output_type": "display_data"
    }
   ],
   "source": [
    "xp = [1.0, 1.3, 1.6, 1.9, 2.2]\n",
    "yp = [0.7651977, 0.6200860, 0.4554022, 0.2818186, 0.1103623]\n",
    "x = 5.0\n",
    "neville(xp, yp, 1.5) "
   ]
  },
  {
   "cell_type": "code",
   "execution_count": 6,
   "metadata": {},
   "outputs": [
    {
     "data": {
      "text/plain": [
       "148.4131591025766"
      ]
     },
     "metadata": {},
     "output_type": "display_data"
    }
   ],
   "source": [
    "exp(5.0)"
   ]
  },
  {
   "cell_type": "code",
   "execution_count": 7,
   "metadata": {},
   "outputs": [
    {
     "name": "stdout",
     "output_type": "stream",
     "text": [
      "  4.128 μs (138 allocations: 9.88 KiB)\n"
     ]
    }
   ],
   "source": [
    "@btime lagrange_polynomial(xp, yp);"
   ]
  },
  {
   "cell_type": "code",
   "execution_count": 10,
   "metadata": {},
   "outputs": [],
   "source": []
  },
  {
   "cell_type": "code",
   "execution_count": null,
   "metadata": {},
   "outputs": [],
   "source": []
  }
 ],
 "metadata": {
  "kernelspec": {
   "display_name": "Julia 1.10.2",
   "language": "julia",
   "name": "julia-1.10"
  },
  "language_info": {
   "file_extension": ".jl",
   "mimetype": "application/julia",
   "name": "julia",
   "version": "1.10.2"
  }
 },
 "nbformat": 4,
 "nbformat_minor": 2
}
