{
 "cells": [
  {
   "cell_type": "code",
   "execution_count": 6,
   "metadata": {},
   "outputs": [
    {
     "data": {
      "text/plain": [
       "newton_secant (generic function with 4 methods)"
      ]
     },
     "metadata": {},
     "output_type": "display_data"
    }
   ],
   "source": [
    "using Plots, LaTeXStrings, BenchmarkTools\n",
    "include(\"onevariable_basic.jl\")"
   ]
  },
  {
   "cell_type": "code",
   "execution_count": 16,
   "metadata": {},
   "outputs": [
    {
     "name": "stdout",
     "output_type": "stream",
     "text": [
      "Number of Iterlation = 36\n",
      "Number of Iterlation = 38\n",
      "One solution from nonrecursive bisection method is = 0.4581453659920953\n",
      "One solution from nonrecursive bisection method is = -5.715274899022766e-11\n"
     ]
    }
   ],
   "source": [
    "function myfunc(x::T)::T where T <:AbstractFloat\n",
    "    return -10.0+4*exp(2.0*x)\n",
    "end\n",
    "\n",
    "function myfunc2(x::T)::T where T<:AbstractFloat\n",
    "    return sign(x)\n",
    "end\n",
    "\n",
    "solution1 = bisection(myfunc, 0.0, 4.0)\n",
    "solution2 = bisection(myfunc2, -12.73, 4.0)\n",
    "println(\"One solution from nonrecursive bisection method is = $solution1\")\n",
    "println(\"One solution from nonrecursive bisection method is = $solution2\")"
   ]
  },
  {
   "cell_type": "code",
   "execution_count": 8,
   "metadata": {},
   "outputs": [
    {
     "data": {
      "text/plain": [
       "(-6.0, 11913.831948166913)"
      ]
     },
     "metadata": {},
     "output_type": "display_data"
    }
   ],
   "source": [
    "myfunc(0.0), myfunc(4.0)"
   ]
  },
  {
   "cell_type": "code",
   "execution_count": 9,
   "metadata": {},
   "outputs": [
    {
     "name": "stdout",
     "output_type": "stream",
     "text": [
      "Number of Iterlation = 36\n",
      "실제값 = 1.4142135623730951, 계산값 = 1.4142135623260401, 차이 = 4.705502654189786e-11\n"
     ]
    }
   ],
   "source": [
    "# bisection_recursive(myfunc, 0.0, 4.0)\n",
    "sqrt2 = bisection(x -> x^2-2, 0.0, 4.0)\n",
    "realsqrt2 = sqrt(2.0)\n",
    "difference = realsqrt2-sqrt2\n",
    "println(\"실제값 = $realsqrt2, 계산값 = $sqrt2, 차이 = $difference\")\n"
   ]
  },
  {
   "cell_type": "code",
   "execution_count": 12,
   "metadata": {},
   "outputs": [
    {
     "data": {
      "image/png": "[encoded data removed]",
      "image/svg+xml": "<?xml version=\"1.0\" encoding=\"utf-8\"?>\n<svg xmlns=\"http://www.w3.org/2000/svg\" xmlns:xlink=\"http://www.w3.org/1999/xlink\" width=\"600\" height=\"400\" viewBox=\"0 0 2400 1600\">\n<defs>\n  <clipPath id=\"clip240\">\n    <rect x=\"0\" y=\"0\" width=\"2400\" height=\"1600\"/>\n  </clipPath>\n</defs>\n<path clip-path=\"url(#clip240)\" d=\"\nM0 1600 L2400 1600 L2400 0 L0 0  Z\n  \" fill=\"#ffffff\" fill-rule=\"evenodd\" fill-opacity=\"1\"/>\n<defs>\n  <clipPath id=\"clip241\">\n    <rect x=\"480\" y=\"0\" width=\"1681\" height=\"1600\"/>\n  </clipPath>\n</defs>\n<path clip-path=\"url(#clip240)\" d=\"\nM147.478 1486.45 L2352.76 1486.45 L2352.76 47.2441 L147.478 47.2441  Z\n  \" fill=\"#ffffff\" fill-rule=\"evenodd\" fill-opacity=\"1\"/>\n<defs>\n  <clipPath id=\"clip242\">\n    <rect x=\"147\" y=\"47\" width=\"2206\" height=\"1440\"/>\n  </clipPath>\n</defs>\n<polyline clip-path=\"url(#clip242)\" style=\"stroke:#000000; stroke-linecap:round; stroke-linejoin:round; stroke-width:2; stroke-opacity:0.1; fill:none\" points=\"\n  358.495,1486.45 358.495,47.2441 \n  \"/>\n<polyline clip-path=\"url(#clip242)\" style=\"stroke:#000000; stroke-linecap:round; stroke-linejoin:round; stroke-width:2; stroke-opacity:0.1; fill:none\" points=\"\n  655.702,1486.45 655.702,47.2441 \n  \"/>\n<polyline clip-path=\"url(#clip242)\" style=\"stroke:#000000; stroke-linecap:round; stroke-linejoin:round; stroke-width:2; stroke-opacity:0.1; fill:none\" points=\"\n  952.91,1486.45 952.91,47.2441 \n  \"/>\n<polyline clip-path=\"url(#clip242)\" style=\"stroke:#000000; stroke-linecap:round; stroke-linejoin:round; stroke-width:2; stroke-opacity:0.1; fill:none\" points=\"\n  1250.12,1486.45 1250.12,47.2441 \n  \"/>\n<polyline clip-path=\"url(#clip242)\" style=\"stroke:#000000; stroke-linecap:round; stroke-linejoin:round; stroke-width:2; stroke-opacity:0.1; fill:none\" points=\"\n  1547.32,1486.45 1547.32,47.2441 \n  \"/>\n<polyline clip-path=\"url(#clip242)\" style=\"stroke:#000000; stroke-linecap:round; stroke-linejoin:round; stroke-width:2; stroke-opacity:0.1; fill:none\" points=\"\n  1844.53,1486.45 1844.53,47.2441 \n  \"/>\n<polyline clip-path=\"url(#clip242)\" style=\"stroke:#000000; stroke-linecap:round; stroke-linejoin:round; stroke-width:2; stroke-opacity:0.1; fill:none\" points=\"\n  2141.74,1486.45 2141.74,47.2441 \n  \"/>\n<polyline clip-path=\"url(#clip240)\" style=\"stroke:#000000; stroke-linecap:round; stroke-linejoin:round; stroke-width:4; stroke-opacity:1; fill:none\" points=\"\n  147.478,1486.45 2352.76,1486.45 \n  \"/>\n<polyline clip-path=\"url(#clip240)\" style=\"stroke:#000000; stroke-linecap:round; stroke-linejoin:round; stroke-width:4; stroke-opacity:1; fill:none\" points=\"\n  358.495,1486.45 358.495,1467.55 \n  \"/>\n<polyline clip-path=\"url(#clip240)\" style=\"stroke:#000000; stroke-linecap:round; stroke-linejoin:round; stroke-width:4; stroke-opacity:1; fill:none\" points=\"\n  655.702,1486.45 655.702,1467.55 \n  \"/>\n<polyline clip-path=\"url(#clip240)\" style=\"stroke:#000000; stroke-linecap:round; stroke-linejoin:round; stroke-width:4; stroke-opacity:1; fill:none\" points=\"\n  952.91,1486.45 952.91,1467.55 \n  \"/>\n<polyline clip-path=\"url(#clip240)\" style=\"stroke:#000000; stroke-linecap:round; stroke-linejoin:round; stroke-width:4; stroke-opacity:1; fill:none\" points=\"\n  1250.12,1486.45 1250.12,1467.55 \n  \"/>\n<polyline clip-path=\"url(#clip240)\" style=\"stroke:#000000; stroke-linecap:round; stroke-linejoin:round; stroke-width:4; stroke-opacity:1; fill:none\" points=\"\n  1547.32,1486.45 1547.32,1467.55 \n  \"/>\n<polyline clip-path=\"url(#clip240)\" style=\"stroke:#000000; stroke-linecap:round; stroke-linejoin:round; stroke-width:4; stroke-opacity:1; fill:none\" points=\"\n  1844.53,1486.45 1844.53,1467.55 \n  \"/>\n<polyline clip-path=\"url(#clip240)\" style=\"stroke:#000000; stroke-linecap:round; stroke-linejoin:round; stroke-width:4; stroke-opacity:1; fill:none\" points=\"\n  2141.74,1486.45 2141.74,1467.55 \n  \"/>\n<path clip-path=\"url(#clip240)\" d=\"M305.822 1532.02 L335.498 1532.02 L335.498 1535.95 L305.822 1535.95 L305.822 1532.02 Z\" fill=\"#000000\" fill-rule=\"evenodd\" fill-opacity=\"1\" /><path clip-path=\"url(#clip240)\" d=\"M355.59 1517.37 Q351.979 1517.37 350.15 1520.93 Q348.345 1524.47 348.345 1531.6 Q348.345 1538.71 350.15 1542.27 Q351.979 1545.82 355.59 1545.82 Q359.224 1545.82 361.03 1542.27 Q362.858 1538.71 362.858 1531.6 Q362.858 1524.47 361.03 1520.93 Q359.224 1517.37 355.59 1517.37 M355.59 1513.66 Q361.4 1513.66 364.456 1518.27 Q367.534 1522.85 367.534 1531.6 Q367.534 1540.33 364.456 1544.94 Q361.4 1549.52 355.59 1549.52 Q349.78 1549.52 346.701 1544.94 Q343.646 1540.33 343.646 1531.6 Q343.646 1522.85 346.701 1518.27 Q349.78 1513.66 355.59 1513.66 Z\" fill=\"#000000\" fill-rule=\"evenodd\" fill-opacity=\"1\" /><path clip-path=\"url(#clip240)\" d=\"M375.752 1542.97 L380.636 1542.97 L380.636 1548.85 L375.752 1548.85 L375.752 1542.97 Z\" fill=\"#000000\" fill-rule=\"evenodd\" fill-opacity=\"1\" /><path clip-path=\"url(#clip240)\" d=\"M394.849 1544.91 L411.168 1544.91 L411.168 1548.85 L389.224 1548.85 L389.224 1544.91 Q391.886 1542.16 396.469 1537.53 Q401.076 1532.88 402.256 1531.53 Q404.502 1529.01 405.381 1527.27 Q406.284 1525.51 406.284 1523.82 Q406.284 1521.07 404.34 1519.33 Q402.418 1517.6 399.317 1517.6 Q397.118 1517.6 394.664 1518.36 Q392.233 1519.13 389.456 1520.68 L389.456 1515.95 Q392.28 1514.82 394.733 1514.24 Q397.187 1513.66 399.224 1513.66 Q404.594 1513.66 407.789 1516.35 Q410.983 1519.03 410.983 1523.52 Q410.983 1525.65 410.173 1527.57 Q409.386 1529.47 407.28 1532.07 Q406.701 1532.74 403.599 1535.95 Q400.497 1539.15 394.849 1544.91 Z\" fill=\"#000000\" fill-rule=\"evenodd\" fill-opacity=\"1\" /><path clip-path=\"url(#clip240)\" d=\"M633.087 1517.37 Q629.476 1517.37 627.647 1520.93 Q625.841 1524.47 625.841 1531.6 Q625.841 1538.71 627.647 1542.27 Q629.476 1545.82 633.087 1545.82 Q636.721 1545.82 638.527 1542.27 Q640.355 1538.71 640.355 1531.6 Q640.355 1524.47 638.527 1520.93 Q636.721 1517.37 633.087 1517.37 M633.087 1513.66 Q638.897 1513.66 641.952 1518.27 Q645.031 1522.85 645.031 1531.6 Q645.031 1540.33 641.952 1544.94 Q638.897 1549.52 633.087 1549.52 Q627.277 1549.52 624.198 1544.94 Q621.142 1540.33 621.142 1531.6 Q621.142 1522.85 624.198 1518.27 Q627.277 1513.66 633.087 1513.66 Z\" fill=\"#000000\" fill-rule=\"evenodd\" fill-opacity=\"1\" /><path clip-path=\"url(#clip240)\" d=\"M653.249 1542.97 L658.133 1542.97 L658.133 1548.85 L653.249 1548.85 L653.249 1542.97 Z\" fill=\"#000000\" fill-rule=\"evenodd\" fill-opacity=\"1\" /><path clip-path=\"url(#clip240)\" d=\"M678.318 1517.37 Q674.707 1517.37 672.878 1520.93 Q671.073 1524.47 671.073 1531.6 Q671.073 1538.71 672.878 1542.27 Q674.707 1545.82 678.318 1545.82 Q681.952 1545.82 683.758 1542.27 Q685.586 1538.71 685.586 1531.6 Q685.586 1524.47 683.758 1520.93 Q681.952 1517.37 678.318 1517.37 M678.318 1513.66 Q684.128 1513.66 687.184 1518.27 Q690.262 1522.85 690.262 1531.6 Q690.262 1540.33 687.184 1544.94 Q684.128 1549.52 678.318 1549.52 Q672.508 1549.52 669.429 1544.94 Q666.374 1540.33 666.374 1531.6 Q666.374 1522.85 669.429 1518.27 Q672.508 1513.66 678.318 1513.66 Z\" fill=\"#000000\" fill-rule=\"evenodd\" fill-opacity=\"1\" /><path clip-path=\"url(#clip240)\" d=\"M931.093 1517.37 Q927.482 1517.37 925.653 1520.93 Q923.847 1524.47 923.847 1531.6 Q923.847 1538.71 925.653 1542.27 Q927.482 1545.82 931.093 1545.82 Q934.727 1545.82 936.532 1542.27 Q938.361 1538.71 938.361 1531.6 Q938.361 1524.47 936.532 1520.93 Q934.727 1517.37 931.093 1517.37 M931.093 1513.66 Q936.903 1513.66 939.958 1518.27 Q943.037 1522.85 943.037 1531.6 Q943.037 1540.33 939.958 1544.94 Q936.903 1549.52 931.093 1549.52 Q925.282 1549.52 922.204 1544.94 Q919.148 1540.33 919.148 1531.6 Q919.148 1522.85 922.204 1518.27 Q925.282 1513.66 931.093 1513.66 Z\" fill=\"#000000\" fill-rule=\"evenodd\" fill-opacity=\"1\" /><path clip-path=\"url(#clip240)\" d=\"M951.255 1542.97 L956.139 1542.97 L956.139 1548.85 L951.255 1548.85 L951.255 1542.97 Z\" fill=\"#000000\" fill-rule=\"evenodd\" fill-opacity=\"1\" /><path clip-path=\"url(#clip240)\" d=\"M970.352 1544.91 L986.671 1544.91 L986.671 1548.85 L964.727 1548.85 L964.727 1544.91 Q967.389 1542.16 971.972 1537.53 Q976.578 1532.88 977.759 1531.53 Q980.004 1529.01 980.884 1527.27 Q981.787 1525.51 981.787 1523.82 Q981.787 1521.07 979.842 1519.33 Q977.921 1517.6 974.819 1517.6 Q972.62 1517.6 970.166 1518.36 Q967.736 1519.13 964.958 1520.68 L964.958 1515.95 Q967.782 1514.82 970.236 1514.24 Q972.69 1513.66 974.727 1513.66 Q980.097 1513.66 983.291 1516.35 Q986.486 1519.03 986.486 1523.52 Q986.486 1525.65 985.676 1527.57 Q984.889 1529.47 982.782 1532.07 Q982.203 1532.74 979.102 1535.95 Q976 1539.15 970.352 1544.91 Z\" fill=\"#000000\" fill-rule=\"evenodd\" fill-opacity=\"1\" /><path clip-path=\"url(#clip240)\" d=\"M1227.26 1517.37 Q1223.65 1517.37 1221.82 1520.93 Q1220.01 1524.47 1220.01 1531.6 Q1220.01 1538.71 1221.82 1542.27 Q1223.65 1545.82 1227.26 1545.82 Q1230.89 1545.82 1232.7 1542.27 Q1234.53 1538.71 1234.53 1531.6 Q1234.53 1524.47 1232.7 1520.93 Q1230.89 1517.37 1227.26 1517.37 M1227.26 1513.66 Q1233.07 1513.66 1236.12 1518.27 Q1239.2 1522.85 1239.2 1531.6 Q1239.2 1540.33 1236.12 1544.94 Q1233.07 1549.52 1227.26 1549.52 Q1221.45 1549.52 1218.37 1544.94 Q1215.31 1540.33 1215.31 1531.6 Q1215.31 1522.85 1218.37 1518.27 Q1221.45 1513.66 1227.26 1513.66 Z\" fill=\"#000000\" fill-rule=\"evenodd\" fill-opacity=\"1\" /><path clip-path=\"url(#clip240)\" d=\"M1247.42 1542.97 L1252.3 1542.97 L1252.3 1548.85 L1247.42 1548.85 L1247.42 1542.97 Z\" fill=\"#000000\" fill-rule=\"evenodd\" fill-opacity=\"1\" /><path clip-path=\"url(#clip240)\" d=\"M1275.34 1518.36 L1263.53 1536.81 L1275.34 1536.81 L1275.34 1518.36 M1274.11 1514.29 L1279.99 1514.29 L1279.99 1536.81 L1284.92 1536.81 L1284.92 1540.7 L1279.99 1540.7 L1279.99 1548.85 L1275.34 1548.85 L1275.34 1540.7 L1259.73 1540.7 L1259.73 1536.19 L1274.11 1514.29 Z\" fill=\"#000000\" fill-rule=\"evenodd\" fill-opacity=\"1\" /><path clip-path=\"url(#clip240)\" d=\"M1524.63 1517.37 Q1521.02 1517.37 1519.19 1520.93 Q1517.38 1524.47 1517.38 1531.6 Q1517.38 1538.71 1519.19 1542.27 Q1521.02 1545.82 1524.63 1545.82 Q1528.26 1545.82 1530.07 1542.27 Q1531.9 1538.71 1531.9 1531.6 Q1531.9 1524.47 1530.07 1520.93 Q1528.26 1517.37 1524.63 1517.37 M1524.63 1513.66 Q1530.44 1513.66 1533.49 1518.27 Q1536.57 1522.85 1536.57 1531.6 Q1536.57 1540.33 1533.49 1544.94 Q1530.44 1549.52 1524.63 1549.52 Q1518.82 1549.52 1515.74 1544.94 Q1512.68 1540.33 1512.68 1531.6 Q1512.68 1522.85 1515.74 1518.27 Q1518.82 1513.66 1524.63 1513.66 Z\" fill=\"#000000\" fill-rule=\"evenodd\" fill-opacity=\"1\" /><path clip-path=\"url(#clip240)\" d=\"M1544.79 1542.97 L1549.67 1542.97 L1549.67 1548.85 L1544.79 1548.85 L1544.79 1542.97 Z\" fill=\"#000000\" fill-rule=\"evenodd\" fill-opacity=\"1\" /><path clip-path=\"url(#clip240)\" d=\"M1570.44 1529.7 Q1567.29 1529.7 1565.44 1531.86 Q1563.61 1534.01 1563.61 1537.76 Q1563.61 1541.49 1565.44 1543.66 Q1567.29 1545.82 1570.44 1545.82 Q1573.59 1545.82 1575.41 1543.66 Q1577.27 1541.49 1577.27 1537.76 Q1577.27 1534.01 1575.41 1531.86 Q1573.59 1529.7 1570.44 1529.7 M1579.72 1515.05 L1579.72 1519.31 Q1577.96 1518.48 1576.16 1518.04 Q1574.37 1517.6 1572.61 1517.6 Q1567.98 1517.6 1565.53 1520.72 Q1563.1 1523.85 1562.75 1530.17 Q1564.12 1528.15 1566.18 1527.09 Q1568.24 1526 1570.72 1526 Q1575.92 1526 1578.93 1529.17 Q1581.97 1532.32 1581.97 1537.76 Q1581.97 1543.08 1578.82 1546.3 Q1575.67 1549.52 1570.44 1549.52 Q1564.44 1549.52 1561.27 1544.94 Q1558.1 1540.33 1558.1 1531.6 Q1558.1 1523.41 1561.99 1518.55 Q1565.88 1513.66 1572.43 1513.66 Q1574.19 1513.66 1575.97 1514.01 Q1577.78 1514.36 1579.72 1515.05 Z\" fill=\"#000000\" fill-rule=\"evenodd\" fill-opacity=\"1\" /><path clip-path=\"url(#clip240)\" d=\"M1821.96 1517.37 Q1818.35 1517.37 1816.52 1520.93 Q1814.72 1524.47 1814.72 1531.6 Q1814.72 1538.71 1816.52 1542.27 Q1818.35 1545.82 1821.96 1545.82 Q1825.6 1545.82 1827.4 1542.27 Q1829.23 1538.71 1829.23 1531.6 Q1829.23 1524.47 1827.4 1520.93 Q1825.6 1517.37 1821.96 1517.37 M1821.96 1513.66 Q1827.77 1513.66 1830.83 1518.27 Q1833.91 1522.85 1833.91 1531.6 Q1833.91 1540.33 1830.83 1544.94 Q1827.77 1549.52 1821.96 1549.52 Q1816.15 1549.52 1813.07 1544.94 Q1810.02 1540.33 1810.02 1531.6 Q1810.02 1522.85 1813.07 1518.27 Q1816.15 1513.66 1821.96 1513.66 Z\" fill=\"#000000\" fill-rule=\"evenodd\" fill-opacity=\"1\" /><path clip-path=\"url(#clip240)\" d=\"M1842.12 1542.97 L1847.01 1542.97 L1847.01 1548.85 L1842.12 1548.85 L1842.12 1542.97 Z\" fill=\"#000000\" fill-rule=\"evenodd\" fill-opacity=\"1\" /><path clip-path=\"url(#clip240)\" d=\"M1867.19 1532.44 Q1863.86 1532.44 1861.94 1534.22 Q1860.04 1536 1860.04 1539.13 Q1860.04 1542.25 1861.94 1544.03 Q1863.86 1545.82 1867.19 1545.82 Q1870.53 1545.82 1872.45 1544.03 Q1874.37 1542.23 1874.37 1539.13 Q1874.37 1536 1872.45 1534.22 Q1870.55 1532.44 1867.19 1532.44 M1862.52 1530.45 Q1859.51 1529.7 1857.82 1527.64 Q1856.15 1525.58 1856.15 1522.62 Q1856.15 1518.48 1859.09 1516.07 Q1862.05 1513.66 1867.19 1513.66 Q1872.36 1513.66 1875.3 1516.07 Q1878.23 1518.48 1878.23 1522.62 Q1878.23 1525.58 1876.55 1527.64 Q1874.88 1529.7 1871.89 1530.45 Q1875.27 1531.23 1877.15 1533.52 Q1879.05 1535.82 1879.05 1539.13 Q1879.05 1544.15 1875.97 1546.83 Q1872.91 1549.52 1867.19 1549.52 Q1861.48 1549.52 1858.4 1546.83 Q1855.34 1544.15 1855.34 1539.13 Q1855.34 1535.82 1857.24 1533.52 Q1859.14 1531.23 1862.52 1530.45 M1860.8 1523.06 Q1860.8 1525.75 1862.47 1527.25 Q1864.16 1528.76 1867.19 1528.76 Q1870.2 1528.76 1871.89 1527.25 Q1873.61 1525.75 1873.61 1523.06 Q1873.61 1520.38 1871.89 1518.87 Q1870.2 1517.37 1867.19 1517.37 Q1864.16 1517.37 1862.47 1518.87 Q1860.8 1520.38 1860.8 1523.06 Z\" fill=\"#000000\" fill-rule=\"evenodd\" fill-opacity=\"1\" /><path clip-path=\"url(#clip240)\" d=\"M2108.89 1544.91 L2116.53 1544.91 L2116.53 1518.55 L2108.22 1520.21 L2108.22 1515.95 L2116.48 1514.29 L2121.16 1514.29 L2121.16 1544.91 L2128.8 1544.91 L2128.8 1548.85 L2108.89 1548.85 L2108.89 1544.91 Z\" fill=\"#000000\" fill-rule=\"evenodd\" fill-opacity=\"1\" /><path clip-path=\"url(#clip240)\" d=\"M2138.24 1542.97 L2143.13 1542.97 L2143.13 1548.85 L2138.24 1548.85 L2138.24 1542.97 Z\" fill=\"#000000\" fill-rule=\"evenodd\" fill-opacity=\"1\" /><path clip-path=\"url(#clip240)\" d=\"M2163.31 1517.37 Q2159.7 1517.37 2157.87 1520.93 Q2156.07 1524.47 2156.07 1531.6 Q2156.07 1538.71 2157.87 1542.27 Q2159.7 1545.82 2163.31 1545.82 Q2166.95 1545.82 2168.75 1542.27 Q2170.58 1538.71 2170.58 1531.6 Q2170.58 1524.47 2168.75 1520.93 Q2166.95 1517.37 2163.31 1517.37 M2163.31 1513.66 Q2169.12 1513.66 2172.18 1518.27 Q2175.26 1522.85 2175.26 1531.6 Q2175.26 1540.33 2172.18 1544.94 Q2169.12 1549.52 2163.31 1549.52 Q2157.5 1549.52 2154.42 1544.94 Q2151.37 1540.33 2151.37 1531.6 Q2151.37 1522.85 2154.42 1518.27 Q2157.5 1513.66 2163.31 1513.66 Z\" fill=\"#000000\" fill-rule=\"evenodd\" fill-opacity=\"1\" /><polyline clip-path=\"url(#clip242)\" style=\"stroke:#000000; stroke-linecap:round; stroke-linejoin:round; stroke-width:2; stroke-opacity:0.1; fill:none\" points=\"\n  147.478,1434 2352.76,1434 \n  \"/>\n<polyline clip-path=\"url(#clip242)\" style=\"stroke:#000000; stroke-linecap:round; stroke-linejoin:round; stroke-width:2; stroke-opacity:0.1; fill:none\" points=\"\n  147.478,1077.27 2352.76,1077.27 \n  \"/>\n<polyline clip-path=\"url(#clip242)\" style=\"stroke:#000000; stroke-linecap:round; stroke-linejoin:round; stroke-width:2; stroke-opacity:0.1; fill:none\" points=\"\n  147.478,720.534 2352.76,720.534 \n  \"/>\n<polyline clip-path=\"url(#clip242)\" style=\"stroke:#000000; stroke-linecap:round; stroke-linejoin:round; stroke-width:2; stroke-opacity:0.1; fill:none\" points=\"\n  147.478,363.803 2352.76,363.803 \n  \"/>\n<polyline clip-path=\"url(#clip240)\" style=\"stroke:#000000; stroke-linecap:round; stroke-linejoin:round; stroke-width:4; stroke-opacity:1; fill:none\" points=\"\n  147.478,1486.45 147.478,47.2441 \n  \"/>\n<polyline clip-path=\"url(#clip240)\" style=\"stroke:#000000; stroke-linecap:round; stroke-linejoin:round; stroke-width:4; stroke-opacity:1; fill:none\" points=\"\n  147.478,1434 166.376,1434 \n  \"/>\n<polyline clip-path=\"url(#clip240)\" style=\"stroke:#000000; stroke-linecap:round; stroke-linejoin:round; stroke-width:4; stroke-opacity:1; fill:none\" points=\"\n  147.478,1077.27 166.376,1077.27 \n  \"/>\n<polyline clip-path=\"url(#clip240)\" style=\"stroke:#000000; stroke-linecap:round; stroke-linejoin:round; stroke-width:4; stroke-opacity:1; fill:none\" points=\"\n  147.478,720.534 166.376,720.534 \n  \"/>\n<polyline clip-path=\"url(#clip240)\" style=\"stroke:#000000; stroke-linecap:round; stroke-linejoin:round; stroke-width:4; stroke-opacity:1; fill:none\" points=\"\n  147.478,363.803 166.376,363.803 \n  \"/>\n<path clip-path=\"url(#clip240)\" d=\"M50.9921 1434.45 L80.6679 1434.45 L80.6679 1438.38 L50.9921 1438.38 L50.9921 1434.45 Z\" fill=\"#000000\" fill-rule=\"evenodd\" fill-opacity=\"1\" /><path clip-path=\"url(#clip240)\" d=\"M91.5706 1447.34 L99.2095 1447.34 L99.2095 1420.98 L90.8993 1422.64 L90.8993 1418.38 L99.1632 1416.72 L103.839 1416.72 L103.839 1447.34 L111.478 1447.34 L111.478 1451.28 L91.5706 1451.28 L91.5706 1447.34 Z\" fill=\"#000000\" fill-rule=\"evenodd\" fill-opacity=\"1\" /><path clip-path=\"url(#clip240)\" d=\"M99.5335 1063.06 Q95.9224 1063.06 94.0937 1066.63 Q92.2882 1070.17 92.2882 1077.3 Q92.2882 1084.41 94.0937 1087.97 Q95.9224 1091.51 99.5335 1091.51 Q103.168 1091.51 104.973 1087.97 Q106.802 1084.41 106.802 1077.3 Q106.802 1070.17 104.973 1066.63 Q103.168 1063.06 99.5335 1063.06 M99.5335 1059.36 Q105.344 1059.36 108.399 1063.97 Q111.478 1068.55 111.478 1077.3 Q111.478 1086.03 108.399 1090.63 Q105.344 1095.22 99.5335 1095.22 Q93.7234 1095.22 90.6447 1090.63 Q87.5892 1086.03 87.5892 1077.3 Q87.5892 1068.55 90.6447 1063.97 Q93.7234 1059.36 99.5335 1059.36 Z\" fill=\"#000000\" fill-rule=\"evenodd\" fill-opacity=\"1\" /><path clip-path=\"url(#clip240)\" d=\"M91.5706 733.879 L99.2095 733.879 L99.2095 707.513 L90.8993 709.18 L90.8993 704.921 L99.1632 703.254 L103.839 703.254 L103.839 733.879 L111.478 733.879 L111.478 737.814 L91.5706 737.814 L91.5706 733.879 Z\" fill=\"#000000\" fill-rule=\"evenodd\" fill-opacity=\"1\" /><path clip-path=\"url(#clip240)\" d=\"M95.1586 377.148 L111.478 377.148 L111.478 381.083 L89.5336 381.083 L89.5336 377.148 Q92.1956 374.393 96.7789 369.763 Q101.385 365.111 102.566 363.768 Q104.811 361.245 105.691 359.509 Q106.594 357.75 106.594 356.06 Q106.594 353.305 104.649 351.569 Q102.728 349.833 99.6261 349.833 Q97.4271 349.833 94.9734 350.597 Q92.5428 351.361 89.7651 352.912 L89.7651 348.189 Q92.5891 347.055 95.0428 346.476 Q97.4965 345.898 99.5335 345.898 Q104.904 345.898 108.098 348.583 Q111.293 351.268 111.293 355.759 Q111.293 357.888 110.483 359.81 Q109.696 361.708 107.589 364.3 Q107.01 364.972 103.909 368.189 Q100.807 371.384 95.1586 377.148 Z\" fill=\"#000000\" fill-rule=\"evenodd\" fill-opacity=\"1\" /><polyline clip-path=\"url(#clip242)\" style=\"stroke:#009af9; stroke-linecap:round; stroke-linejoin:round; stroke-width:4; stroke-opacity:1; fill:none\" points=\"\n  209.891,1445.72 284.193,1423.56 358.495,1400.05 432.797,1375.13 507.099,1348.73 581.401,1320.81 655.702,1291.3 730.004,1260.15 804.306,1227.27 878.608,1192.62 \n  952.91,1156.12 1027.21,1117.69 1101.51,1077.27 1175.82,1034.77 1250.12,990.123 1324.42,943.243 1398.72,894.045 1473.02,842.442 1547.32,788.343 1621.63,731.657 \n  1695.93,672.285 1770.23,610.129 1844.53,545.085 1918.83,477.047 1993.14,405.906 2067.44,331.548 2141.74,253.855 2216.04,172.706 2290.34,87.9763 \n  \"/>\n<path clip-path=\"url(#clip240)\" d=\"\nM1981.79 198.898 L2279.25 198.898 L2279.25 95.2176 L1981.79 95.2176  Z\n  \" fill=\"#ffffff\" fill-rule=\"evenodd\" fill-opacity=\"1\"/>\n<polyline clip-path=\"url(#clip240)\" style=\"stroke:#000000; stroke-linecap:round; stroke-linejoin:round; stroke-width:4; stroke-opacity:1; fill:none\" points=\"\n  1981.79,198.898 2279.25,198.898 2279.25,95.2176 1981.79,95.2176 1981.79,198.898 \n  \"/>\n<polyline clip-path=\"url(#clip240)\" style=\"stroke:#009af9; stroke-linecap:round; stroke-linejoin:round; stroke-width:4; stroke-opacity:1; fill:none\" points=\"\n  2006.29,147.058 2153.31,147.058 \n  \"/>\n<path clip-path=\"url(#clip240)\" d=\"M2191.65 166.745 Q2189.85 171.375 2188.13 172.787 Q2186.42 174.199 2183.55 174.199 L2180.15 174.199 L2180.15 170.634 L2182.65 170.634 Q2184.41 170.634 2185.38 169.8 Q2186.35 168.967 2187.53 165.865 L2188.3 163.921 L2177.81 138.412 L2182.32 138.412 L2190.43 158.689 L2198.53 138.412 L2203.04 138.412 L2191.65 166.745 Z\" fill=\"#000000\" fill-rule=\"evenodd\" fill-opacity=\"1\" /><path clip-path=\"url(#clip240)\" d=\"M2210.33 160.402 L2217.97 160.402 L2217.97 134.037 L2209.66 135.703 L2209.66 131.444 L2217.93 129.778 L2222.6 129.778 L2222.6 160.402 L2230.24 160.402 L2230.24 164.338 L2210.33 164.338 L2210.33 160.402 Z\" fill=\"#000000\" fill-rule=\"evenodd\" fill-opacity=\"1\" /></svg>\n",
      "text/html": [
       "<?xml version=\"1.0\" encoding=\"utf-8\"?>\n",
       "<svg xmlns=\"http://www.w3.org/2000/svg\" xmlns:xlink=\"http://www.w3.org/1999/xlink\" width=\"600\" height=\"400\" viewBox=\"0 0 2400 1600\">\n",
       "<defs>\n",
       "  <clipPath id=\"clip290\">\n",
       "    <rect x=\"0\" y=\"0\" width=\"2400\" height=\"1600\"/>\n",
       "  </clipPath>\n",
       "</defs>\n",
       "<path clip-path=\"url(#clip290)\" d=\"\n",
       "M0 1600 L2400 1600 L2400 0 L0 0  Z\n",
       "  \" fill=\"#ffffff\" fill-rule=\"evenodd\" fill-opacity=\"1\"/>\n",
       "<defs>\n",
       "  <clipPath id=\"clip291\">\n",
       "    <rect x=\"480\" y=\"0\" width=\"1681\" height=\"1600\"/>\n",
       "  </clipPath>\n",
       "</defs>\n",
       "<path clip-path=\"url(#clip290)\" d=\"\n",
       "M147.478 1486.45 L2352.76 1486.45 L2352.76 47.2441 L147.478 47.2441  Z\n",
       "  \" fill=\"#ffffff\" fill-rule=\"evenodd\" fill-opacity=\"1\"/>\n",
       "<defs>\n",
       "  <clipPath id=\"clip292\">\n",
       "    <rect x=\"147\" y=\"47\" width=\"2206\" height=\"1440\"/>\n",
       "  </clipPath>\n",
       "</defs>\n",
       "<polyline clip-path=\"url(#clip292)\" style=\"stroke:#000000; stroke-linecap:round; stroke-linejoin:round; stroke-width:2; stroke-opacity:0.1; fill:none\" points=\"\n",
       "  358.495,1486.45 358.495,47.2441 \n",
       "  \"/>\n",
       "<polyline clip-path=\"url(#clip292)\" style=\"stroke:#000000; stroke-linecap:round; stroke-linejoin:round; stroke-width:2; stroke-opacity:0.1; fill:none\" points=\"\n",
       "  655.702,1486.45 655.702,47.2441 \n",
       "  \"/>\n",
       "<polyline clip-path=\"url(#clip292)\" style=\"stroke:#000000; stroke-linecap:round; stroke-linejoin:round; stroke-width:2; stroke-opacity:0.1; fill:none\" points=\"\n",
       "  952.91,1486.45 952.91,47.2441 \n",
       "  \"/>\n",
       "<polyline clip-path=\"url(#clip292)\" style=\"stroke:#000000; stroke-linecap:round; stroke-linejoin:round; stroke-width:2; stroke-opacity:0.1; fill:none\" points=\"\n",
       "  1250.12,1486.45 1250.12,47.2441 \n",
       "  \"/>\n",
       "<polyline clip-path=\"url(#clip292)\" style=\"stroke:#000000; stroke-linecap:round; stroke-linejoin:round; stroke-width:2; stroke-opacity:0.1; fill:none\" points=\"\n",
       "  1547.32,1486.45 1547.32,47.2441 \n",
       "  \"/>\n",
       "<polyline clip-path=\"url(#clip292)\" style=\"stroke:#000000; stroke-linecap:round; stroke-linejoin:round; stroke-width:2; stroke-opacity:0.1; fill:none\" points=\"\n",
       "  1844.53,1486.45 1844.53,47.2441 \n",
       "  \"/>\n",
       "<polyline clip-path=\"url(#clip292)\" style=\"stroke:#000000; stroke-linecap:round; stroke-linejoin:round; stroke-width:2; stroke-opacity:0.1; fill:none\" points=\"\n",
       "  2141.74,1486.45 2141.74,47.2441 \n",
       "  \"/>\n",
       "<polyline clip-path=\"url(#clip290)\" style=\"stroke:#000000; stroke-linecap:round; stroke-linejoin:round; stroke-width:4; stroke-opacity:1; fill:none\" points=\"\n",
       "  147.478,1486.45 2352.76,1486.45 \n",
       "  \"/>\n",
       "<polyline clip-path=\"url(#clip290)\" style=\"stroke:#000000; stroke-linecap:round; stroke-linejoin:round; stroke-width:4; stroke-opacity:1; fill:none\" points=\"\n",
       "  358.495,1486.45 358.495,1467.55 \n",
       "  \"/>\n",
       "<polyline clip-path=\"url(#clip290)\" style=\"stroke:#000000; stroke-linecap:round; stroke-linejoin:round; stroke-width:4; stroke-opacity:1; fill:none\" points=\"\n",
       "  655.702,1486.45 655.702,1467.55 \n",
       "  \"/>\n",
       "<polyline clip-path=\"url(#clip290)\" style=\"stroke:#000000; stroke-linecap:round; stroke-linejoin:round; stroke-width:4; stroke-opacity:1; fill:none\" points=\"\n",
       "  952.91,1486.45 952.91,1467.55 \n",
       "  \"/>\n",
       "<polyline clip-path=\"url(#clip290)\" style=\"stroke:#000000; stroke-linecap:round; stroke-linejoin:round; stroke-width:4; stroke-opacity:1; fill:none\" points=\"\n",
       "  1250.12,1486.45 1250.12,1467.55 \n",
       "  \"/>\n",
       "<polyline clip-path=\"url(#clip290)\" style=\"stroke:#000000; stroke-linecap:round; stroke-linejoin:round; stroke-width:4; stroke-opacity:1; fill:none\" points=\"\n",
       "  1547.32,1486.45 1547.32,1467.55 \n",
       "  \"/>\n",
       "<polyline clip-path=\"url(#clip290)\" style=\"stroke:#000000; stroke-linecap:round; stroke-linejoin:round; stroke-width:4; stroke-opacity:1; fill:none\" points=\"\n",
       "  1844.53,1486.45 1844.53,1467.55 \n",
       "  \"/>\n",
       "<polyline clip-path=\"url(#clip290)\" style=\"stroke:#000000; stroke-linecap:round; stroke-linejoin:round; stroke-width:4; stroke-opacity:1; fill:none\" points=\"\n",
       "  2141.74,1486.45 2141.74,1467.55 \n",
       "  \"/>\n",
       "<path clip-path=\"url(#clip290)\" d=\"M305.822 1532.02 L335.498 1532.02 L335.498 1535.95 L305.822 1535.95 L305.822 1532.02 Z\" fill=\"#000000\" fill-rule=\"evenodd\" fill-opacity=\"1\" /><path clip-path=\"url(#clip290)\" d=\"M355.59 1517.37 Q351.979 1517.37 350.15 1520.93 Q348.345 1524.47 348.345 1531.6 Q348.345 1538.71 350.15 1542.27 Q351.979 1545.82 355.59 1545.82 Q359.224 1545.82 361.03 1542.27 Q362.858 1538.71 362.858 1531.6 Q362.858 1524.47 361.03 1520.93 Q359.224 1517.37 355.59 1517.37 M355.59 1513.66 Q361.4 1513.66 364.456 1518.27 Q367.534 1522.85 367.534 1531.6 Q367.534 1540.33 364.456 1544.94 Q361.4 1549.52 355.59 1549.52 Q349.78 1549.52 346.701 1544.94 Q343.646 1540.33 343.646 1531.6 Q343.646 1522.85 346.701 1518.27 Q349.78 1513.66 355.59 1513.66 Z\" fill=\"#000000\" fill-rule=\"evenodd\" fill-opacity=\"1\" /><path clip-path=\"url(#clip290)\" d=\"M375.752 1542.97 L380.636 1542.97 L380.636 1548.85 L375.752 1548.85 L375.752 1542.97 Z\" fill=\"#000000\" fill-rule=\"evenodd\" fill-opacity=\"1\" /><path clip-path=\"url(#clip290)\" d=\"M394.849 1544.91 L411.168 1544.91 L411.168 1548.85 L389.224 1548.85 L389.224 1544.91 Q391.886 1542.16 396.469 1537.53 Q401.076 1532.88 402.256 1531.53 Q404.502 1529.01 405.381 1527.27 Q406.284 1525.51 406.284 1523.82 Q406.284 1521.07 404.34 1519.33 Q402.418 1517.6 399.317 1517.6 Q397.118 1517.6 394.664 1518.36 Q392.233 1519.13 389.456 1520.68 L389.456 1515.95 Q392.28 1514.82 394.733 1514.24 Q397.187 1513.66 399.224 1513.66 Q404.594 1513.66 407.789 1516.35 Q410.983 1519.03 410.983 1523.52 Q410.983 1525.65 410.173 1527.57 Q409.386 1529.47 407.28 1532.07 Q406.701 1532.74 403.599 1535.95 Q400.497 1539.15 394.849 1544.91 Z\" fill=\"#000000\" fill-rule=\"evenodd\" fill-opacity=\"1\" /><path clip-path=\"url(#clip290)\" d=\"M633.087 1517.37 Q629.476 1517.37 627.647 1520.93 Q625.841 1524.47 625.841 1531.6 Q625.841 1538.71 627.647 1542.27 Q629.476 1545.82 633.087 1545.82 Q636.721 1545.82 638.527 1542.27 Q640.355 1538.71 640.355 1531.6 Q640.355 1524.47 638.527 1520.93 Q636.721 1517.37 633.087 1517.37 M633.087 1513.66 Q638.897 1513.66 641.952 1518.27 Q645.031 1522.85 645.031 1531.6 Q645.031 1540.33 641.952 1544.94 Q638.897 1549.52 633.087 1549.52 Q627.277 1549.52 624.198 1544.94 Q621.142 1540.33 621.142 1531.6 Q621.142 1522.85 624.198 1518.27 Q627.277 1513.66 633.087 1513.66 Z\" fill=\"#000000\" fill-rule=\"evenodd\" fill-opacity=\"1\" /><path clip-path=\"url(#clip290)\" d=\"M653.249 1542.97 L658.133 1542.97 L658.133 1548.85 L653.249 1548.85 L653.249 1542.97 Z\" fill=\"#000000\" fill-rule=\"evenodd\" fill-opacity=\"1\" /><path clip-path=\"url(#clip290)\" d=\"M678.318 1517.37 Q674.707 1517.37 672.878 1520.93 Q671.073 1524.47 671.073 1531.6 Q671.073 1538.71 672.878 1542.27 Q674.707 1545.82 678.318 1545.82 Q681.952 1545.82 683.758 1542.27 Q685.586 1538.71 685.586 1531.6 Q685.586 1524.47 683.758 1520.93 Q681.952 1517.37 678.318 1517.37 M678.318 1513.66 Q684.128 1513.66 687.184 1518.27 Q690.262 1522.85 690.262 1531.6 Q690.262 1540.33 687.184 1544.94 Q684.128 1549.52 678.318 1549.52 Q672.508 1549.52 669.429 1544.94 Q666.374 1540.33 666.374 1531.6 Q666.374 1522.85 669.429 1518.27 Q672.508 1513.66 678.318 1513.66 Z\" fill=\"#000000\" fill-rule=\"evenodd\" fill-opacity=\"1\" /><path clip-path=\"url(#clip290)\" d=\"M931.093 1517.37 Q927.482 1517.37 925.653 1520.93 Q923.847 1524.47 923.847 1531.6 Q923.847 1538.71 925.653 1542.27 Q927.482 1545.82 931.093 1545.82 Q934.727 1545.82 936.532 1542.27 Q938.361 1538.71 938.361 1531.6 Q938.361 1524.47 936.532 1520.93 Q934.727 1517.37 931.093 1517.37 M931.093 1513.66 Q936.903 1513.66 939.958 1518.27 Q943.037 1522.85 943.037 1531.6 Q943.037 1540.33 939.958 1544.94 Q936.903 1549.52 931.093 1549.52 Q925.282 1549.52 922.204 1544.94 Q919.148 1540.33 919.148 1531.6 Q919.148 1522.85 922.204 1518.27 Q925.282 1513.66 931.093 1513.66 Z\" fill=\"#000000\" fill-rule=\"evenodd\" fill-opacity=\"1\" /><path clip-path=\"url(#clip290)\" d=\"M951.255 1542.97 L956.139 1542.97 L956.139 1548.85 L951.255 1548.85 L951.255 1542.97 Z\" fill=\"#000000\" fill-rule=\"evenodd\" fill-opacity=\"1\" /><path clip-path=\"url(#clip290)\" d=\"M970.352 1544.91 L986.671 1544.91 L986.671 1548.85 L964.727 1548.85 L964.727 1544.91 Q967.389 1542.16 971.972 1537.53 Q976.578 1532.88 977.759 1531.53 Q980.004 1529.01 980.884 1527.27 Q981.787 1525.51 981.787 1523.82 Q981.787 1521.07 979.842 1519.33 Q977.921 1517.6 974.819 1517.6 Q972.62 1517.6 970.166 1518.36 Q967.736 1519.13 964.958 1520.68 L964.958 1515.95 Q967.782 1514.82 970.236 1514.24 Q972.69 1513.66 974.727 1513.66 Q980.097 1513.66 983.291 1516.35 Q986.486 1519.03 986.486 1523.52 Q986.486 1525.65 985.676 1527.57 Q984.889 1529.47 982.782 1532.07 Q982.203 1532.74 979.102 1535.95 Q976 1539.15 970.352 1544.91 Z\" fill=\"#000000\" fill-rule=\"evenodd\" fill-opacity=\"1\" /><path clip-path=\"url(#clip290)\" d=\"M1227.26 1517.37 Q1223.65 1517.37 1221.82 1520.93 Q1220.01 1524.47 1220.01 1531.6 Q1220.01 1538.71 1221.82 1542.27 Q1223.65 1545.82 1227.26 1545.82 Q1230.89 1545.82 1232.7 1542.27 Q1234.53 1538.71 1234.53 1531.6 Q1234.53 1524.47 1232.7 1520.93 Q1230.89 1517.37 1227.26 1517.37 M1227.26 1513.66 Q1233.07 1513.66 1236.12 1518.27 Q1239.2 1522.85 1239.2 1531.6 Q1239.2 1540.33 1236.12 1544.94 Q1233.07 1549.52 1227.26 1549.52 Q1221.45 1549.52 1218.37 1544.94 Q1215.31 1540.33 1215.31 1531.6 Q1215.31 1522.85 1218.37 1518.27 Q1221.45 1513.66 1227.26 1513.66 Z\" fill=\"#000000\" fill-rule=\"evenodd\" fill-opacity=\"1\" /><path clip-path=\"url(#clip290)\" d=\"M1247.42 1542.97 L1252.3 1542.97 L1252.3 1548.85 L1247.42 1548.85 L1247.42 1542.97 Z\" fill=\"#000000\" fill-rule=\"evenodd\" fill-opacity=\"1\" /><path clip-path=\"url(#clip290)\" d=\"M1275.34 1518.36 L1263.53 1536.81 L1275.34 1536.81 L1275.34 1518.36 M1274.11 1514.29 L1279.99 1514.29 L1279.99 1536.81 L1284.92 1536.81 L1284.92 1540.7 L1279.99 1540.7 L1279.99 1548.85 L1275.34 1548.85 L1275.34 1540.7 L1259.73 1540.7 L1259.73 1536.19 L1274.11 1514.29 Z\" fill=\"#000000\" fill-rule=\"evenodd\" fill-opacity=\"1\" /><path clip-path=\"url(#clip290)\" d=\"M1524.63 1517.37 Q1521.02 1517.37 1519.19 1520.93 Q1517.38 1524.47 1517.38 1531.6 Q1517.38 1538.71 1519.19 1542.27 Q1521.02 1545.82 1524.63 1545.82 Q1528.26 1545.82 1530.07 1542.27 Q1531.9 1538.71 1531.9 1531.6 Q1531.9 1524.47 1530.07 1520.93 Q1528.26 1517.37 1524.63 1517.37 M1524.63 1513.66 Q1530.44 1513.66 1533.49 1518.27 Q1536.57 1522.85 1536.57 1531.6 Q1536.57 1540.33 1533.49 1544.94 Q1530.44 1549.52 1524.63 1549.52 Q1518.82 1549.52 1515.74 1544.94 Q1512.68 1540.33 1512.68 1531.6 Q1512.68 1522.85 1515.74 1518.27 Q1518.82 1513.66 1524.63 1513.66 Z\" fill=\"#000000\" fill-rule=\"evenodd\" fill-opacity=\"1\" /><path clip-path=\"url(#clip290)\" d=\"M1544.79 1542.97 L1549.67 1542.97 L1549.67 1548.85 L1544.79 1548.85 L1544.79 1542.97 Z\" fill=\"#000000\" fill-rule=\"evenodd\" fill-opacity=\"1\" /><path clip-path=\"url(#clip290)\" d=\"M1570.44 1529.7 Q1567.29 1529.7 1565.44 1531.86 Q1563.61 1534.01 1563.61 1537.76 Q1563.61 1541.49 1565.44 1543.66 Q1567.29 1545.82 1570.44 1545.82 Q1573.59 1545.82 1575.41 1543.66 Q1577.27 1541.49 1577.27 1537.76 Q1577.27 1534.01 1575.41 1531.86 Q1573.59 1529.7 1570.44 1529.7 M1579.72 1515.05 L1579.72 1519.31 Q1577.96 1518.48 1576.16 1518.04 Q1574.37 1517.6 1572.61 1517.6 Q1567.98 1517.6 1565.53 1520.72 Q1563.1 1523.85 1562.75 1530.17 Q1564.12 1528.15 1566.18 1527.09 Q1568.24 1526 1570.72 1526 Q1575.92 1526 1578.93 1529.17 Q1581.97 1532.32 1581.97 1537.76 Q1581.97 1543.08 1578.82 1546.3 Q1575.67 1549.52 1570.44 1549.52 Q1564.44 1549.52 1561.27 1544.94 Q1558.1 1540.33 1558.1 1531.6 Q1558.1 1523.41 1561.99 1518.55 Q1565.88 1513.66 1572.43 1513.66 Q1574.19 1513.66 1575.97 1514.01 Q1577.78 1514.36 1579.72 1515.05 Z\" fill=\"#000000\" fill-rule=\"evenodd\" fill-opacity=\"1\" /><path clip-path=\"url(#clip290)\" d=\"M1821.96 1517.37 Q1818.35 1517.37 1816.52 1520.93 Q1814.72 1524.47 1814.72 1531.6 Q1814.72 1538.71 1816.52 1542.27 Q1818.35 1545.82 1821.96 1545.82 Q1825.6 1545.82 1827.4 1542.27 Q1829.23 1538.71 1829.23 1531.6 Q1829.23 1524.47 1827.4 1520.93 Q1825.6 1517.37 1821.96 1517.37 M1821.96 1513.66 Q1827.77 1513.66 1830.83 1518.27 Q1833.91 1522.85 1833.91 1531.6 Q1833.91 1540.33 1830.83 1544.94 Q1827.77 1549.52 1821.96 1549.52 Q1816.15 1549.52 1813.07 1544.94 Q1810.02 1540.33 1810.02 1531.6 Q1810.02 1522.85 1813.07 1518.27 Q1816.15 1513.66 1821.96 1513.66 Z\" fill=\"#000000\" fill-rule=\"evenodd\" fill-opacity=\"1\" /><path clip-path=\"url(#clip290)\" d=\"M1842.12 1542.97 L1847.01 1542.97 L1847.01 1548.85 L1842.12 1548.85 L1842.12 1542.97 Z\" fill=\"#000000\" fill-rule=\"evenodd\" fill-opacity=\"1\" /><path clip-path=\"url(#clip290)\" d=\"M1867.19 1532.44 Q1863.86 1532.44 1861.94 1534.22 Q1860.04 1536 1860.04 1539.13 Q1860.04 1542.25 1861.94 1544.03 Q1863.86 1545.82 1867.19 1545.82 Q1870.53 1545.82 1872.45 1544.03 Q1874.37 1542.23 1874.37 1539.13 Q1874.37 1536 1872.45 1534.22 Q1870.55 1532.44 1867.19 1532.44 M1862.52 1530.45 Q1859.51 1529.7 1857.82 1527.64 Q1856.15 1525.58 1856.15 1522.62 Q1856.15 1518.48 1859.09 1516.07 Q1862.05 1513.66 1867.19 1513.66 Q1872.36 1513.66 1875.3 1516.07 Q1878.23 1518.48 1878.23 1522.62 Q1878.23 1525.58 1876.55 1527.64 Q1874.88 1529.7 1871.89 1530.45 Q1875.27 1531.23 1877.15 1533.52 Q1879.05 1535.82 1879.05 1539.13 Q1879.05 1544.15 1875.97 1546.83 Q1872.91 1549.52 1867.19 1549.52 Q1861.48 1549.52 1858.4 1546.83 Q1855.34 1544.15 1855.34 1539.13 Q1855.34 1535.82 1857.24 1533.52 Q1859.14 1531.23 1862.52 1530.45 M1860.8 1523.06 Q1860.8 1525.75 1862.47 1527.25 Q1864.16 1528.76 1867.19 1528.76 Q1870.2 1528.76 1871.89 1527.25 Q1873.61 1525.75 1873.61 1523.06 Q1873.61 1520.38 1871.89 1518.87 Q1870.2 1517.37 1867.19 1517.37 Q1864.16 1517.37 1862.47 1518.87 Q1860.8 1520.38 1860.8 1523.06 Z\" fill=\"#000000\" fill-rule=\"evenodd\" fill-opacity=\"1\" /><path clip-path=\"url(#clip290)\" d=\"M2108.89 1544.91 L2116.53 1544.91 L2116.53 1518.55 L2108.22 1520.21 L2108.22 1515.95 L2116.48 1514.29 L2121.16 1514.29 L2121.16 1544.91 L2128.8 1544.91 L2128.8 1548.85 L2108.89 1548.85 L2108.89 1544.91 Z\" fill=\"#000000\" fill-rule=\"evenodd\" fill-opacity=\"1\" /><path clip-path=\"url(#clip290)\" d=\"M2138.24 1542.97 L2143.13 1542.97 L2143.13 1548.85 L2138.24 1548.85 L2138.24 1542.97 Z\" fill=\"#000000\" fill-rule=\"evenodd\" fill-opacity=\"1\" /><path clip-path=\"url(#clip290)\" d=\"M2163.31 1517.37 Q2159.7 1517.37 2157.87 1520.93 Q2156.07 1524.47 2156.07 1531.6 Q2156.07 1538.71 2157.87 1542.27 Q2159.7 1545.82 2163.31 1545.82 Q2166.95 1545.82 2168.75 1542.27 Q2170.58 1538.71 2170.58 1531.6 Q2170.58 1524.47 2168.75 1520.93 Q2166.95 1517.37 2163.31 1517.37 M2163.31 1513.66 Q2169.12 1513.66 2172.18 1518.27 Q2175.26 1522.85 2175.26 1531.6 Q2175.26 1540.33 2172.18 1544.94 Q2169.12 1549.52 2163.31 1549.52 Q2157.5 1549.52 2154.42 1544.94 Q2151.37 1540.33 2151.37 1531.6 Q2151.37 1522.85 2154.42 1518.27 Q2157.5 1513.66 2163.31 1513.66 Z\" fill=\"#000000\" fill-rule=\"evenodd\" fill-opacity=\"1\" /><polyline clip-path=\"url(#clip292)\" style=\"stroke:#000000; stroke-linecap:round; stroke-linejoin:round; stroke-width:2; stroke-opacity:0.1; fill:none\" points=\"\n",
       "  147.478,1434 2352.76,1434 \n",
       "  \"/>\n",
       "<polyline clip-path=\"url(#clip292)\" style=\"stroke:#000000; stroke-linecap:round; stroke-linejoin:round; stroke-width:2; stroke-opacity:0.1; fill:none\" points=\"\n",
       "  147.478,1077.27 2352.76,1077.27 \n",
       "  \"/>\n",
       "<polyline clip-path=\"url(#clip292)\" style=\"stroke:#000000; stroke-linecap:round; stroke-linejoin:round; stroke-width:2; stroke-opacity:0.1; fill:none\" points=\"\n",
       "  147.478,720.534 2352.76,720.534 \n",
       "  \"/>\n",
       "<polyline clip-path=\"url(#clip292)\" style=\"stroke:#000000; stroke-linecap:round; stroke-linejoin:round; stroke-width:2; stroke-opacity:0.1; fill:none\" points=\"\n",
       "  147.478,363.803 2352.76,363.803 \n",
       "  \"/>\n",
       "<polyline clip-path=\"url(#clip290)\" style=\"stroke:#000000; stroke-linecap:round; stroke-linejoin:round; stroke-width:4; stroke-opacity:1; fill:none\" points=\"\n",
       "  147.478,1486.45 147.478,47.2441 \n",
       "  \"/>\n",
       "<polyline clip-path=\"url(#clip290)\" style=\"stroke:#000000; stroke-linecap:round; stroke-linejoin:round; stroke-width:4; stroke-opacity:1; fill:none\" points=\"\n",
       "  147.478,1434 166.376,1434 \n",
       "  \"/>\n",
       "<polyline clip-path=\"url(#clip290)\" style=\"stroke:#000000; stroke-linecap:round; stroke-linejoin:round; stroke-width:4; stroke-opacity:1; fill:none\" points=\"\n",
       "  147.478,1077.27 166.376,1077.27 \n",
       "  \"/>\n",
       "<polyline clip-path=\"url(#clip290)\" style=\"stroke:#000000; stroke-linecap:round; stroke-linejoin:round; stroke-width:4; stroke-opacity:1; fill:none\" points=\"\n",
       "  147.478,720.534 166.376,720.534 \n",
       "  \"/>\n",
       "<polyline clip-path=\"url(#clip290)\" style=\"stroke:#000000; stroke-linecap:round; stroke-linejoin:round; stroke-width:4; stroke-opacity:1; fill:none\" points=\"\n",
       "  147.478,363.803 166.376,363.803 \n",
       "  \"/>\n",
       "<path clip-path=\"url(#clip290)\" d=\"M50.9921 1434.45 L80.6679 1434.45 L80.6679 1438.38 L50.9921 1438.38 L50.9921 1434.45 Z\" fill=\"#000000\" fill-rule=\"evenodd\" fill-opacity=\"1\" /><path clip-path=\"url(#clip290)\" d=\"M91.5706 1447.34 L99.2095 1447.34 L99.2095 1420.98 L90.8993 1422.64 L90.8993 1418.38 L99.1632 1416.72 L103.839 1416.72 L103.839 1447.34 L111.478 1447.34 L111.478 1451.28 L91.5706 1451.28 L91.5706 1447.34 Z\" fill=\"#000000\" fill-rule=\"evenodd\" fill-opacity=\"1\" /><path clip-path=\"url(#clip290)\" d=\"M99.5335 1063.06 Q95.9224 1063.06 94.0937 1066.63 Q92.2882 1070.17 92.2882 1077.3 Q92.2882 1084.41 94.0937 1087.97 Q95.9224 1091.51 99.5335 1091.51 Q103.168 1091.51 104.973 1087.97 Q106.802 1084.41 106.802 1077.3 Q106.802 1070.17 104.973 1066.63 Q103.168 1063.06 99.5335 1063.06 M99.5335 1059.36 Q105.344 1059.36 108.399 1063.97 Q111.478 1068.55 111.478 1077.3 Q111.478 1086.03 108.399 1090.63 Q105.344 1095.22 99.5335 1095.22 Q93.7234 1095.22 90.6447 1090.63 Q87.5892 1086.03 87.5892 1077.3 Q87.5892 1068.55 90.6447 1063.97 Q93.7234 1059.36 99.5335 1059.36 Z\" fill=\"#000000\" fill-rule=\"evenodd\" fill-opacity=\"1\" /><path clip-path=\"url(#clip290)\" d=\"M91.5706 733.879 L99.2095 733.879 L99.2095 707.513 L90.8993 709.18 L90.8993 704.921 L99.1632 703.254 L103.839 703.254 L103.839 733.879 L111.478 733.879 L111.478 737.814 L91.5706 737.814 L91.5706 733.879 Z\" fill=\"#000000\" fill-rule=\"evenodd\" fill-opacity=\"1\" /><path clip-path=\"url(#clip290)\" d=\"M95.1586 377.148 L111.478 377.148 L111.478 381.083 L89.5336 381.083 L89.5336 377.148 Q92.1956 374.393 96.7789 369.763 Q101.385 365.111 102.566 363.768 Q104.811 361.245 105.691 359.509 Q106.594 357.75 106.594 356.06 Q106.594 353.305 104.649 351.569 Q102.728 349.833 99.6261 349.833 Q97.4271 349.833 94.9734 350.597 Q92.5428 351.361 89.7651 352.912 L89.7651 348.189 Q92.5891 347.055 95.0428 346.476 Q97.4965 345.898 99.5335 345.898 Q104.904 345.898 108.098 348.583 Q111.293 351.268 111.293 355.759 Q111.293 357.888 110.483 359.81 Q109.696 361.708 107.589 364.3 Q107.01 364.972 103.909 368.189 Q100.807 371.384 95.1586 377.148 Z\" fill=\"#000000\" fill-rule=\"evenodd\" fill-opacity=\"1\" /><polyline clip-path=\"url(#clip292)\" style=\"stroke:#009af9; stroke-linecap:round; stroke-linejoin:round; stroke-width:4; stroke-opacity:1; fill:none\" points=\"\n",
       "  209.891,1445.72 284.193,1423.56 358.495,1400.05 432.797,1375.13 507.099,1348.73 581.401,1320.81 655.702,1291.3 730.004,1260.15 804.306,1227.27 878.608,1192.62 \n",
       "  952.91,1156.12 1027.21,1117.69 1101.51,1077.27 1175.82,1034.77 1250.12,990.123 1324.42,943.243 1398.72,894.045 1473.02,842.442 1547.32,788.343 1621.63,731.657 \n",
       "  1695.93,672.285 1770.23,610.129 1844.53,545.085 1918.83,477.047 1993.14,405.906 2067.44,331.548 2141.74,253.855 2216.04,172.706 2290.34,87.9763 \n",
       "  \"/>\n",
       "<path clip-path=\"url(#clip290)\" d=\"\n",
       "M1981.79 198.898 L2279.25 198.898 L2279.25 95.2176 L1981.79 95.2176  Z\n",
       "  \" fill=\"#ffffff\" fill-rule=\"evenodd\" fill-opacity=\"1\"/>\n",
       "<polyline clip-path=\"url(#clip290)\" style=\"stroke:#000000; stroke-linecap:round; stroke-linejoin:round; stroke-width:4; stroke-opacity:1; fill:none\" points=\"\n",
       "  1981.79,198.898 2279.25,198.898 2279.25,95.2176 1981.79,95.2176 1981.79,198.898 \n",
       "  \"/>\n",
       "<polyline clip-path=\"url(#clip290)\" style=\"stroke:#009af9; stroke-linecap:round; stroke-linejoin:round; stroke-width:4; stroke-opacity:1; fill:none\" points=\"\n",
       "  2006.29,147.058 2153.31,147.058 \n",
       "  \"/>\n",
       "<path clip-path=\"url(#clip290)\" d=\"M2191.65 166.745 Q2189.85 171.375 2188.13 172.787 Q2186.42 174.199 2183.55 174.199 L2180.15 174.199 L2180.15 170.634 L2182.65 170.634 Q2184.41 170.634 2185.38 169.8 Q2186.35 168.967 2187.53 165.865 L2188.3 163.921 L2177.81 138.412 L2182.32 138.412 L2190.43 158.689 L2198.53 138.412 L2203.04 138.412 L2191.65 166.745 Z\" fill=\"#000000\" fill-rule=\"evenodd\" fill-opacity=\"1\" /><path clip-path=\"url(#clip290)\" d=\"M2210.33 160.402 L2217.97 160.402 L2217.97 134.037 L2209.66 135.703 L2209.66 131.444 L2217.93 129.778 L2222.6 129.778 L2222.6 160.402 L2230.24 160.402 L2230.24 164.338 L2210.33 164.338 L2210.33 160.402 Z\" fill=\"#000000\" fill-rule=\"evenodd\" fill-opacity=\"1\" /></svg>\n"
      ]
     },
     "metadata": {},
     "output_type": "display_data"
    }
   ],
   "source": [
    "function ff(x)\n",
    "    return 2 .*(x-0.3) .* exp.(x .* 0.5)\n",
    "end\n",
    "\n",
    "function dff(x) \n",
    "    return 2 .* exp.(x .* 0.5 ) .+ x .* exp.(x.*0.5)\n",
    "end    \n",
    "    \n",
    "xx = collect(-0.3:.05:1.1)\n",
    "xt=1.0\n",
    "\n",
    "plot(xx, ff.(xx))\n",
    "\n",
    "# for i in 1:1:4\n",
    "#     #plot(xx, ff.(xt))# .+ (xx .- xt ) .* dff.(xt))\n",
    "#     # ax.axvline(x=xt, ymin=2.0/7.0, ymax=(2+ff(xt))/7.0, c=\"k\")\n",
    "#     # xstring = \"x_\"+str(i)\n",
    "#     # ax.text(xt, -0.5, f\"$x_{i}$\", fontsize=12)\n",
    "#     # xt = -ff(xt)/dff(xt)+xt\n",
    "# end\n",
    "# # ax.text(-0.25, 3, \"$f(x) = 2xe^{x/2}$\", fontsize=15)\n",
    "\n",
    "# # ax.set_ylim(-2.0, 5.0)\n"
   ]
  },
  {
   "cell_type": "code",
   "execution_count": 37,
   "metadata": {},
   "outputs": [],
   "source": [
    "t= 2\n",
    "while t<10\n",
    "    t*=1\n",
    "end\n",
    "println(\"??\")"
   ]
  },
  {
   "cell_type": "code",
   "execution_count": 13,
   "metadata": {},
   "outputs": [
    {
     "ename": "UndefVarError",
     "evalue": "UndefVarError: x not defined",
     "output_type": "error",
     "traceback": [
      "UndefVarError: x not defined\n",
      "\n",
      "Stacktrace:\n",
      " [1] top-level scope\n",
      "   @ /Volumes/SJYData/devdoc/Numerical analysis using Julia/ch03_onevariable_basic/ch03.ipynb:4"
     ]
    }
   ],
   "source": [
    "δ1=0.01\n",
    "δ2 = 0.1\n",
    "x1=Array(-10:δ2:10)\n",
    "y = exp.(x)\n",
    "y1 = (exp.(x.+δ1/2) .- exp.(x.-δ1/2))./δ\n",
    "\n",
    "plot(x, abs.(y .- yy) ./y, label=L\"f(x)-f'(x)\", legend=:top)"
   ]
  },
  {
   "cell_type": "code",
   "execution_count": 13,
   "metadata": {},
   "outputs": [
    {
     "data": {
      "text/plain": [
       "-1.0"
      ]
     },
     "execution_count": 13,
     "metadata": {},
     "output_type": "execute_result"
    }
   ],
   "source": [
    "sign(-1.0)"
   ]
  },
  {
   "cell_type": "code",
   "execution_count": 32,
   "metadata": {},
   "outputs": [
    {
     "data": {
      "text/plain": [
       "qq (generic function with 3 methods)"
      ]
     },
     "execution_count": 32,
     "metadata": {},
     "output_type": "execute_result"
    }
   ],
   "source": [
    "function qq(a::T, b::N)::Int64 where {T<:Integer, N<:Integer}\n",
    "    println(\"type of a = $(typeof(a)), b=$(typeof(b))\")\n",
    "    return a+b\n",
    "end"
   ]
  },
  {
   "cell_type": "code",
   "execution_count": 35,
   "metadata": {},
   "outputs": [
    {
     "ename": "LoadError",
     "evalue": "MethodError: no method matching qq(::UInt32, ::Float64)\n\u001b[0mClosest candidates are:\n\u001b[0m  qq(::T, \u001b[91m::T\u001b[39m) where T<:Integer at In[20]:1\n\u001b[0m  qq(::T, \u001b[91m::N\u001b[39m) where {T<:Integer, N<:Integer} at In[32]:1",
     "output_type": "error",
     "traceback": [
      "MethodError: no method matching qq(::UInt32, ::Float64)\n\u001b[0mClosest candidates are:\n\u001b[0m  qq(::T, \u001b[91m::T\u001b[39m) where T<:Integer at In[20]:1\n\u001b[0m  qq(::T, \u001b[91m::N\u001b[39m) where {T<:Integer, N<:Integer} at In[32]:1",
      "",
      "Stacktrace:",
      " [1] top-level scope",
      "   @ In[35]:1",
      " [2] eval",
      "   @ ./boot.jl:373 [inlined]",
      " [3] include_string(mapexpr::typeof(REPL.softscope), mod::Module, code::String, filename::String)",
      "   @ Base ./loading.jl:1196"
     ]
    }
   ],
   "source": [
    "c = qq(UInt32(3), 5.3)\n",
    "println(typeof(c))"
   ]
  },
  {
   "cell_type": "code",
   "execution_count": 34,
   "metadata": {},
   "outputs": [
    {
     "ename": "LoadError",
     "evalue": "InexactError: Int32(5.3)",
     "output_type": "error",
     "traceback": [
      "InexactError: Int32(5.3)",
      "",
      "Stacktrace:",
      " [1] Int32(x::Float64)",
      "   @ Base ./float.jl:791",
      " [2] top-level scope",
      "   @ In[34]:1",
      " [3] eval",
      "   @ ./boot.jl:373 [inlined]",
      " [4] include_string(mapexpr::typeof(REPL.softscope), mod::Module, code::String, filename::String)",
      "   @ Base ./loading.jl:1196"
     ]
    }
   ],
   "source": [
    "Int32(5.3)"
   ]
  },
  {
   "cell_type": "code",
   "execution_count": null,
   "metadata": {},
   "outputs": [],
   "source": []
  }
 ],
 "metadata": {
  "kernelspec": {
   "display_name": "Julia 1.8.1",
   "language": "julia",
   "name": "julia-1.8"
  },
  "language_info": {
   "file_extension": ".jl",
   "mimetype": "application/julia",
   "name": "julia",
   "version": "1.8.1"
  },
  "orig_nbformat": 4,
  "vscode": {
   "interpreter": {
    "hash": "c6e4e9f98eb68ad3b7c296f83d20e6de614cb42e90992a65aa266555a3137d0d"
   }
  }
 },
 "nbformat": 4,
 "nbformat_minor": 2
}
