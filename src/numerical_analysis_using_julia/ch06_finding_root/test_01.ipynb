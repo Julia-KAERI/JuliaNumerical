{
 "cells": [
  {
   "cell_type": "code",
   "execution_count": 2,
   "metadata": {},
   "outputs": [],
   "source": [
    "using Plots, LinearAlgebra, BenchmarkTools"
   ]
  },
  {
   "cell_type": "code",
   "execution_count": 34,
   "metadata": {},
   "outputs": [
    {
     "data": {
      "text/plain": [
       "5×4 Matrix{Float64}:\n",
       " -0.447214   0.223607   0.866025      1.77828e-16\n",
       " -0.447214  -0.894427  -2.22045e-16   8.49922e-18\n",
       " -0.447214   0.223607  -0.288675      0.816497\n",
       " -0.447214   0.223607  -0.288675     -0.408248\n",
       " -0.447214   0.223607  -0.288675     -0.408248"
      ]
     },
     "metadata": {},
     "output_type": "display_data"
    }
   ],
   "source": [
    "a1 = [1 1 1 1 1]'\n",
    "a2 = [1 -1 1 1 1]'\n",
    "a3 = [0 2 0 0 0]'\n",
    "A1=Matrix([a1 a2 a3 [0 0 1 0 0]'])\n",
    "#A1=Matrix([1 1 0 0 0; 1 -1 0 0 0; -2 0 0 0 0; 0 0 1 0 0]')\n",
    "Q1, R1 = qr(A1); Q1=Matrix(Q1)"
   ]
  },
  {
   "cell_type": "code",
   "execution_count": 35,
   "metadata": {},
   "outputs": [
    {
     "data": {
      "text/plain": [
       "4×4 Matrix{Float64}:\n",
       " -2.23607  -1.34164  -0.894427     -0.447214\n",
       "  0.0       1.78885  -1.78885       0.223607\n",
       "  0.0       0.0      -4.88585e-16  -0.288675\n",
       "  0.0       0.0       0.0           0.816497"
      ]
     },
     "metadata": {},
     "output_type": "display_data"
    }
   ],
   "source": [
    "R1"
   ]
  },
  {
   "cell_type": "code",
   "execution_count": 31,
   "metadata": {},
   "outputs": [
    {
     "data": {
      "text/plain": [
       "5×4 Matrix{Int64}:\n",
       " 1   1  -2  0\n",
       " 1  -1   0  0\n",
       " 0   0   0  1\n",
       " 0   0   0  0\n",
       " 0   0   0  0"
      ]
     },
     "metadata": {},
     "output_type": "display_data"
    }
   ],
   "source": [
    "A1"
   ]
  },
  {
   "cell_type": "code",
   "execution_count": 21,
   "metadata": {},
   "outputs": [
    {
     "data": {
      "text/plain": [
       "true"
      ]
     },
     "metadata": {},
     "output_type": "display_data"
    }
   ],
   "source": [
    "UniformScaling(3.0) == 3.0I"
   ]
  },
  {
   "cell_type": "code",
   "execution_count": 22,
   "metadata": {},
   "outputs": [
    {
     "data": {
      "text/plain": [
       "7.0"
      ]
     },
     "metadata": {},
     "output_type": "display_data"
    }
   ],
   "source": [
    "3.0I+4"
   ]
  },
  {
   "cell_type": "code",
   "execution_count": null,
   "metadata": {},
   "outputs": [],
   "source": []
  }
 ],
 "metadata": {
  "kernelspec": {
   "display_name": "Julia 1.8.1",
   "language": "julia",
   "name": "julia-1.8"
  },
  "language_info": {
   "file_extension": ".jl",
   "mimetype": "application/julia",
   "name": "julia",
   "version": "1.8.1"
  },
  "orig_nbformat": 4
 },
 "nbformat": 4,
 "nbformat_minor": 2
}
