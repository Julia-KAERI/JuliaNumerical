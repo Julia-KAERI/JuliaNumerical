{
 "cells": [
  {
   "cell_type": "code",
   "execution_count": 1,
   "metadata": {},
   "outputs": [],
   "source": [
    "using Plots, LinearAlgebra, BenchmarkTools"
   ]
  },
  {
   "cell_type": "code",
   "execution_count": 2,
   "metadata": {},
   "outputs": [
    {
     "data": {
      "text/plain": [
       "spectral_radius (generic function with 1 method)"
      ]
     },
     "metadata": {},
     "output_type": "display_data"
    }
   ],
   "source": [
    "function spectral_radius(A::Matrix{T}) where T<:Number\n",
    "    eigs = eigvals(A)\n",
    "    return findmax([abs(x) for x in eigs])[1]\n",
    "end\n"
   ]
  },
  {
   "cell_type": "code",
   "execution_count": 3,
   "metadata": {},
   "outputs": [
    {
     "name": "stdout",
     "output_type": "stream",
     "text": [
      "6.437171043518958, 6.151051861499603\n"
     ]
    }
   ],
   "source": [
    "A = [2 1; 2 -2]\n",
    "B = [2 4; 1 -3]\n",
    "println(spectral_radius(A+B), \", \", spectral_radius(A) + spectral_radius(B))\n",
    "#spectral_radius(A)"
   ]
  },
  {
   "cell_type": "code",
   "execution_count": 4,
   "metadata": {},
   "outputs": [
    {
     "data": {
      "text/plain": [
       "3.7015621187164243"
      ]
     },
     "metadata": {},
     "output_type": "display_data"
    }
   ],
   "source": [
    "spectral_radius(B)"
   ]
  },
  {
   "cell_type": "code",
   "execution_count": 5,
   "metadata": {},
   "outputs": [
    {
     "data": {
      "text/plain": [
       "2-element Vector{Float64}:\n",
       " -2.449489742783178\n",
       "  2.4494897427831788"
      ]
     },
     "metadata": {},
     "output_type": "display_data"
    }
   ],
   "source": [
    "eigvals(A)"
   ]
  },
  {
   "cell_type": "code",
   "execution_count": 28,
   "metadata": {},
   "outputs": [
    {
     "data": {
      "text/plain": [
       "sor_iteration (generic function with 1 method)"
      ]
     },
     "metadata": {},
     "output_type": "display_data"
    }
   ],
   "source": [
    "function jacobi_iteration(\n",
    "    A::AbstractMatrix, \n",
    "    b::Vector, \n",
    "    x0::Vector; \n",
    "    etol::Number = 1.0e-5,\n",
    "    Maxiter = 100_000)\n",
    "    @assert size(A)[1] == size(A)[2] == size(b)[1]\n",
    "    \n",
    "    x = similar(x0)\n",
    "\n",
    "    D = Diagonal(A)\n",
    "    L = -LowerTriangular(A) .+ D\n",
    "    U = -UpperTriangular(A) .+ D\n",
    "\n",
    "    Dinv = inv(D)\n",
    "    T = Dinv*(L+U) \n",
    "    c = Dinv * b\n",
    "    for i in 1:Maxiter\n",
    "        x = T*x0 + c\n",
    "        if norm(x .- x0, Inf)/norm(x, Inf)< etol\n",
    "            nitter = i\n",
    "            print(nitter)\n",
    "            return x\n",
    "        else \n",
    "            x0 = x\n",
    "        end\n",
    "    end\n",
    "    return nothing\n",
    "end\n",
    "\n",
    "function gauss_siedel_iteration(\n",
    "    A::AbstractMatrix, \n",
    "    b::Vector, \n",
    "    x0::Vector; \n",
    "    etol::Number = 1.0e-5, \n",
    "    Maxiter = 100_000)\n",
    "    @assert size(A)[1] == size(A)[2] == size(b)[1]\n",
    "    \n",
    "    x = similar(x0)\n",
    "\n",
    "    D = Diagonal(A)\n",
    "    L = -LowerTriangular(A) .+ D\n",
    "    U = -UpperTriangular(A) .+ D\n",
    "\n",
    "    DLinv = inv(D-L)\n",
    "    T = DLinv*U \n",
    "    c = DLinv * b\n",
    "    for i in 1:Maxiter\n",
    "        x = T*x0 + c\n",
    "        if norm(x .- x0, Inf)/norm(x, Inf)< etol\n",
    "            nitter = i\n",
    "            print(nitter)\n",
    "            return x\n",
    "        else \n",
    "            x0 = x\n",
    "        end\n",
    "    end\n",
    "    return nothing\n",
    "end\n",
    "\n",
    "\n",
    "function sor_iteration(\n",
    "    A::AbstractMatrix, \n",
    "    b::Vector, \n",
    "    x0::Vector,\n",
    "    ω::Real; \n",
    "    etol::Number = 1.0e-5, \n",
    "    Maxiter = 100_000)\n",
    "\n",
    "    @assert 0.0 < ω < 2\n",
    "    x = similar(x0)\n",
    "\n",
    "    D = Diagonal(A)\n",
    "    L = -LowerTriangular(A) .+ D\n",
    "    U = -UpperTriangular(A) .+ D\n",
    "\n",
    "    Dwinv = inv(D-ω * L)\n",
    "    T = Dwinv * ((1-ω) * D + ω * U)\n",
    "    c = ω * Dwinv * b\n",
    "    for i in 1:Maxiter\n",
    "        x = T*x0 + c\n",
    "        if norm(x .- x0, Inf)/norm(x, Inf)< etol\n",
    "            \n",
    "            nitter = i\n",
    "            print(nitter)\n",
    "            return x\n",
    "        else \n",
    "            x0 = x\n",
    "        end\n",
    "    end\n",
    "    return nothing\n",
    "    \n",
    "end\n"
   ]
  },
  {
   "cell_type": "code",
   "execution_count": 29,
   "metadata": {},
   "outputs": [
    {
     "data": {
      "text/plain": [
       "4-element Vector{Int64}:\n",
       "  1\n",
       "  1\n",
       " -1\n",
       "  1"
      ]
     },
     "metadata": {},
     "output_type": "display_data"
    }
   ],
   "source": [
    "A = [10.0 -1.0 2.0 0.0; -1 11 -1 3; 2 -1 10 -1; 0 3 -1 8]\n",
    "b = [6, 25, -11, 15]\n",
    "x0 = [1, 1, -1, 1]"
   ]
  },
  {
   "cell_type": "code",
   "execution_count": 30,
   "metadata": {},
   "outputs": [
    {
     "name": "stdout",
     "output_type": "stream",
     "text": [
      "13"
     ]
    },
    {
     "data": {
      "text/plain": [
       "4-element Vector{Float64}:\n",
       "  0.9999964637124269\n",
       "  2.0000051877531875\n",
       " -1.0000041868849727\n",
       "  1.000006667932778"
      ]
     },
     "metadata": {},
     "output_type": "display_data"
    }
   ],
   "source": [
    "x=jacobi_iteration(A, b, x0, etol=1.0e-5)"
   ]
  },
  {
   "cell_type": "code",
   "execution_count": 31,
   "metadata": {},
   "outputs": [
    {
     "name": "stdout",
     "output_type": "stream",
     "text": [
      "5"
     ]
    },
    {
     "data": {
      "text/plain": [
       "4-element Vector{Float64}:\n",
       "  0.9999998365212163\n",
       "  2.000000918751941\n",
       " -1.0000000773611672\n",
       "  0.9999996457978763"
      ]
     },
     "metadata": {},
     "output_type": "display_data"
    }
   ],
   "source": [
    "x=gauss_siedel_iteration(A, b, x0, etol=1.0e-5)"
   ]
  },
  {
   "cell_type": "code",
   "execution_count": 34,
   "metadata": {},
   "outputs": [
    {
     "name": "stdout",
     "output_type": "stream",
     "text": [
      "13"
     ]
    },
    {
     "data": {
      "text/plain": [
       "4-element Vector{Float64}:\n",
       "  0.9999873334080895\n",
       "  1.9999843450596808\n",
       " -0.999992522758998\n",
       "  1.0000136119326923"
      ]
     },
     "metadata": {},
     "output_type": "display_data"
    }
   ],
   "source": [
    "x = sor_iteration(A, b, x0, 0.7, etol=1.0e-5)"
   ]
  },
  {
   "cell_type": "code",
   "execution_count": 11,
   "metadata": {},
   "outputs": [
    {
     "data": {
      "text/plain": [
       "3-element Vector{Int64}:\n",
       " -1\n",
       "  4\n",
       "  5"
      ]
     },
     "metadata": {},
     "output_type": "display_data"
    }
   ],
   "source": [
    "A = [4 3 0; 3 4 -1; 0 -1 4]\n",
    "b=[-1 ; 4 ;5]"
   ]
  },
  {
   "cell_type": "code",
   "execution_count": 12,
   "metadata": {},
   "outputs": [
    {
     "data": {
      "text/plain": [
       "3×3 UpperTriangular{Int64, Matrix{Int64}}:\n",
       " 0  2  -2\n",
       " ⋅  0   1\n",
       " ⋅  ⋅   0"
      ]
     },
     "metadata": {},
     "output_type": "display_data"
    }
   ],
   "source": [
    "D=Diagonal(A)\n",
    "L = LowerTriangular(A) .- D\n",
    "U = UpperTriangular(A) .- D"
   ]
  },
  {
   "cell_type": "code",
   "execution_count": 13,
   "metadata": {},
   "outputs": [
    {
     "data": {
      "text/plain": [
       "1.0809840389418118e-5"
      ]
     },
     "metadata": {},
     "output_type": "display_data"
    }
   ],
   "source": [
    "spectral_radius(inv(D)*(L+U))"
   ]
  },
  {
   "cell_type": "code",
   "execution_count": 14,
   "metadata": {},
   "outputs": [
    {
     "data": {
      "text/plain": [
       "2.0"
      ]
     },
     "metadata": {},
     "output_type": "display_data"
    }
   ],
   "source": [
    "spectral_radius(inv(D+L)U)"
   ]
  },
  {
   "cell_type": "code",
   "execution_count": 15,
   "metadata": {},
   "outputs": [],
   "source": []
  },
  {
   "cell_type": "code",
   "execution_count": null,
   "metadata": {},
   "outputs": [],
   "source": []
  }
 ],
 "metadata": {
  "kernelspec": {
   "display_name": "Julia 1.9.1",
   "language": "julia",
   "name": "julia-1.9"
  },
  "language_info": {
   "file_extension": ".jl",
   "mimetype": "application/julia",
   "name": "julia",
   "version": "1.9.1"
  }
 },
 "nbformat": 4,
 "nbformat_minor": 2
}
