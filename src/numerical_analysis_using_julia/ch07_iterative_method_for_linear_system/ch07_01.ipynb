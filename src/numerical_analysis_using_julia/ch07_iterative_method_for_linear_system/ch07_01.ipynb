{
 "cells": [
  {
   "cell_type": "code",
   "execution_count": 4,
   "metadata": {},
   "outputs": [],
   "source": [
    "using Plots, LinearAlgebra, BenchmarkTools"
   ]
  },
  {
   "cell_type": "code",
   "execution_count": 5,
   "metadata": {},
   "outputs": [
    {
     "data": {
      "text/plain": [
       "spectral_radius (generic function with 1 method)"
      ]
     },
     "metadata": {},
     "output_type": "display_data"
    }
   ],
   "source": [
    "function spectral_radius(A::Matrix{T}) where T<:Number\n",
    "    eigs = eigvals(A)\n",
    "    return findmax([abs(x) for x in eigs])[1]\n",
    "end\n"
   ]
  },
  {
   "cell_type": "code",
   "execution_count": 6,
   "metadata": {},
   "outputs": [
    {
     "name": "stdout",
     "output_type": "stream",
     "text": [
      "6.437171043518958, 6.151051861499603\n"
     ]
    }
   ],
   "source": [
    "A = [2 1; 2 -2]\n",
    "B = [2 4; 1 -3]\n",
    "println(spectral_radius(A+B), \", \", spectral_radius(A) + spectral_radius(B))\n",
    "#spectral_radius(A)"
   ]
  },
  {
   "cell_type": "code",
   "execution_count": 7,
   "metadata": {},
   "outputs": [
    {
     "data": {
      "text/plain": [
       "3.7015621187164243"
      ]
     },
     "metadata": {},
     "output_type": "display_data"
    }
   ],
   "source": [
    "spectral_radius(B)"
   ]
  },
  {
   "cell_type": "code",
   "execution_count": 8,
   "metadata": {},
   "outputs": [
    {
     "data": {
      "text/plain": [
       "2-element Vector{Float64}:\n",
       " -2.449489742783178\n",
       "  2.4494897427831788"
      ]
     },
     "metadata": {},
     "output_type": "display_data"
    }
   ],
   "source": [
    "eigvals(A)"
   ]
  },
  {
   "cell_type": "code",
   "execution_count": 95,
   "metadata": {},
   "outputs": [
    {
     "data": {
      "text/plain": [
       "jacobi_iteration (generic function with 3 methods)"
      ]
     },
     "metadata": {},
     "output_type": "display_data"
    }
   ],
   "source": [
    "function jacobi_iteration(A::Matrix, b::Vector, x0::Vector, etole::Number = 1.0e-4, Maxiter = 100_000)\n",
    "    @assert size(A)[1] == size(A)[2] == size(b)[1] == size(x0)[1]\n",
    "    \n",
    "    n = size(x0)[1]\n",
    "    xp = Float64.(copy(x0))\n",
    "    x = Float64.(similar(x0))\n",
    "    nitter = 0\n",
    "\n",
    "    for l in 1:Maxiter\n",
    "        for i in 1:n\n",
    "            x[i] = 0.0\n",
    "            for j in 1:n\n",
    "                if i ≠ j \n",
    "                    x[i] += -A[i, j]*xp[j] \n",
    "                end\n",
    "            end\n",
    "            x[i] = (x[i]+b[i])/A[i, i]\n",
    "        end\n",
    "\n",
    "        if norm(x-xp, 2)/norm(x, Inf) < etole\n",
    "            break\n",
    "            \n",
    "        else \n",
    "            nitter += 1\n",
    "            xp = x[:]\n",
    "        end\n",
    "    \n",
    "    end\n",
    "\n",
    "    if norm(x-xp, 2)/norm(x, Inf) < etole\n",
    "        return (x, nitter)\n",
    "    else \n",
    "        return nothing\n",
    "    end\n",
    "end"
   ]
  },
  {
   "cell_type": "code",
   "execution_count": 96,
   "metadata": {},
   "outputs": [
    {
     "data": {
      "text/plain": [
       "4-element Vector{Int64}:\n",
       "   6\n",
       "  25\n",
       " -11\n",
       "  15"
      ]
     },
     "metadata": {},
     "output_type": "display_data"
    }
   ],
   "source": [
    "A = [10.0 -1.0 2.0 0.0; -1 11 -1 3; 2 -1 10 -1; 0 3 -1 8]\n",
    "b = [6, 25, -11, 15]"
   ]
  },
  {
   "cell_type": "code",
   "execution_count": 97,
   "metadata": {},
   "outputs": [
    {
     "data": {
      "text/plain": [
       "4-element Vector{Float64}:\n",
       "  1.0\n",
       "  2.0\n",
       " -1.0\n",
       "  1.0"
      ]
     },
     "metadata": {},
     "output_type": "display_data"
    }
   ],
   "source": [
    "x1=A\\b"
   ]
  },
  {
   "cell_type": "code",
   "execution_count": 98,
   "metadata": {},
   "outputs": [
    {
     "data": {
      "text/plain": [
       "([0.9999897276722655, 2.0000158163642126, -1.0000125654430174, 1.0000192443511737], 12)"
      ]
     },
     "metadata": {},
     "output_type": "display_data"
    }
   ],
   "source": [
    "x=jacobi_iteration(A, b, [0, 0,  0, 0])"
   ]
  },
  {
   "cell_type": "code",
   "execution_count": 89,
   "metadata": {},
   "outputs": [
    {
     "ename": "MethodError",
     "evalue": "MethodError: no method matching *(::Matrix{Int64}, ::Tuple{Vector{Float64}, Int64})\n\nClosest candidates are:\n  *(::Any, ::Any, !Matched::Any, !Matched::Any...)\n   @ Base operators.jl:578\n  *(::StridedMatrix{T} where T, !Matched::LinearAlgebra.AbstractQ)\n   @ LinearAlgebra /Applications/Julia-1.9.app/Contents/Resources/julia/share/julia/stdlib/v1.9/LinearAlgebra/src/qr.jl:775\n  *(::StridedMatrix{T} where T, !Matched::Adjoint{<:Any, <:LinearAlgebra.AbstractQ})\n   @ LinearAlgebra /Applications/Julia-1.9.app/Contents/Resources/julia/share/julia/stdlib/v1.9/LinearAlgebra/src/qr.jl:822\n  ...\n",
     "output_type": "error",
     "traceback": [
      "MethodError: no method matching *(::Matrix{Int64}, ::Tuple{Vector{Float64}, Int64})\n",
      "\n",
      "Closest candidates are:\n",
      "  *(::Any, ::Any, !Matched::Any, !Matched::Any...)\n",
      "   @ Base operators.jl:578\n",
      "  *(::StridedMatrix{T} where T, !Matched::LinearAlgebra.AbstractQ)\n",
      "   @ LinearAlgebra /Applications/Julia-1.9.app/Contents/Resources/julia/share/julia/stdlib/v1.9/LinearAlgebra/src/qr.jl:775\n",
      "  *(::StridedMatrix{T} where T, !Matched::Adjoint{<:Any, <:LinearAlgebra.AbstractQ})\n",
      "   @ LinearAlgebra /Applications/Julia-1.9.app/Contents/Resources/julia/share/julia/stdlib/v1.9/LinearAlgebra/src/qr.jl:822\n",
      "  ...\n",
      "\n",
      "\n",
      "Stacktrace:\n",
      " [1] top-level scope\n",
      "   @ /Volumes/SJYData/devdoc/Books/Physics_Math_Computing/src/numerical_analysis_using_julia/ch07_iterative_method_for_linear_system/ch07_01.ipynb:1"
     ]
    }
   ],
   "source": [
    "A*x-b"
   ]
  },
  {
   "cell_type": "code",
   "execution_count": null,
   "metadata": {},
   "outputs": [],
   "source": []
  }
 ],
 "metadata": {
  "kernelspec": {
   "display_name": "Julia 1.9.1",
   "language": "julia",
   "name": "julia-1.9"
  },
  "language_info": {
   "file_extension": ".jl",
   "mimetype": "application/julia",
   "name": "julia",
   "version": "1.9.1"
  }
 },
 "nbformat": 4,
 "nbformat_minor": 2
}
