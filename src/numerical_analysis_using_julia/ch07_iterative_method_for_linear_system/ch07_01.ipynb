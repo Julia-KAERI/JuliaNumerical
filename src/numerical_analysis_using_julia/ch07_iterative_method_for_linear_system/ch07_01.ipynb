{
 "cells": [
  {
   "cell_type": "code",
   "execution_count": 1,
   "metadata": {},
   "outputs": [],
   "source": [
    "using Plots, LinearAlgebra, BenchmarkTools"
   ]
  },
  {
   "cell_type": "code",
   "execution_count": 2,
   "metadata": {},
   "outputs": [
    {
     "data": {
      "text/plain": [
       "spectral_radius (generic function with 1 method)"
      ]
     },
     "metadata": {},
     "output_type": "display_data"
    }
   ],
   "source": [
    "function spectral_radius(A::Matrix{T}) where T<:Number\n",
    "    eigs = eigvals(A)\n",
    "    return findmax([abs(x) for x in eigs])[1]\n",
    "end\n"
   ]
  },
  {
   "cell_type": "code",
   "execution_count": 3,
   "metadata": {},
   "outputs": [
    {
     "name": "stdout",
     "output_type": "stream",
     "text": [
      "6.437171043518958, 6.151051861499603\n"
     ]
    }
   ],
   "source": [
    "A = [2 1; 2 -2]\n",
    "B = [2 4; 1 -3]\n",
    "println(spectral_radius(A+B), \", \", spectral_radius(A) + spectral_radius(B))\n",
    "#spectral_radius(A)"
   ]
  },
  {
   "cell_type": "code",
   "execution_count": 4,
   "metadata": {},
   "outputs": [
    {
     "data": {
      "text/plain": [
       "3.7015621187164243"
      ]
     },
     "metadata": {},
     "output_type": "display_data"
    }
   ],
   "source": [
    "spectral_radius(B)"
   ]
  },
  {
   "cell_type": "code",
   "execution_count": 5,
   "metadata": {},
   "outputs": [
    {
     "data": {
      "text/plain": [
       "2-element Vector{Float64}:\n",
       " -2.449489742783178\n",
       "  2.4494897427831788"
      ]
     },
     "metadata": {},
     "output_type": "display_data"
    }
   ],
   "source": [
    "eigvals(A)"
   ]
  },
  {
   "cell_type": "code",
   "execution_count": 6,
   "metadata": {},
   "outputs": [
    {
     "data": {
      "text/plain": [
       "jacobi_iteration (generic function with 1 method)"
      ]
     },
     "metadata": {},
     "output_type": "display_data"
    }
   ],
   "source": [
    "function jacobi_iteration(A::AbstractMatrix, b::Vector, x0::Vector; etol::Number = 1.0e-5, Maxiter = 100_000)\n",
    "    @assert size(A)[1] == size(A)[2] == size(b)[1]\n",
    "    \n",
    "    x = similar(x0)\n",
    "\n",
    "    D = Diagonal(A)\n",
    "    L = LowerTriangular(A) .- D\n",
    "    U = UpperTriangular(A) .- D\n",
    "\n",
    "    Dinv = inv(D)\n",
    "    T = -Dinv*(L+U) \n",
    "    c = Dinv * b\n",
    "    for i in 1:Maxiter\n",
    "        x = T*x0 + c\n",
    "        if norm(x .- x0, Inf)/norm(x, Inf)< etol\n",
    "            nitter = i\n",
    "            return x\n",
    "        else \n",
    "            x0 = x\n",
    "        end\n",
    "    end\n",
    "    return nothing\n",
    "end"
   ]
  },
  {
   "cell_type": "code",
   "execution_count": 7,
   "metadata": {},
   "outputs": [
    {
     "data": {
      "text/plain": [
       "4-element Vector{Int64}:\n",
       "  1\n",
       "  1\n",
       " -1\n",
       "  1"
      ]
     },
     "metadata": {},
     "output_type": "display_data"
    }
   ],
   "source": [
    "A = [10.0 -1.0 2.0 0.0; -1 11 -1 3; 2 -1 10 -1; 0 3 -1 8]\n",
    "b = [6, 25, -11, 15]\n",
    "x0 = [1, 1, -1, 1]"
   ]
  },
  {
   "cell_type": "code",
   "execution_count": 8,
   "metadata": {},
   "outputs": [
    {
     "data": {
      "text/plain": [
       "4-element Vector{Float64}:\n",
       "  0.9999964637124269\n",
       "  2.0000051877531875\n",
       " -1.0000041868849727\n",
       "  1.000006667932778"
      ]
     },
     "metadata": {},
     "output_type": "display_data"
    }
   ],
   "source": [
    "x=jacobi_iteration(A, b, x0, etol=1.0e-5)"
   ]
  },
  {
   "cell_type": "code",
   "execution_count": null,
   "metadata": {},
   "outputs": [],
   "source": [
    "A*x .- b"
   ]
  },
  {
   "cell_type": "code",
   "execution_count": null,
   "metadata": {},
   "outputs": [],
   "source": [
    "A\\b"
   ]
  },
  {
   "cell_type": "code",
   "execution_count": null,
   "metadata": {},
   "outputs": [],
   "source": []
  }
 ],
 "metadata": {
  "kernelspec": {
   "display_name": "Julia 1.9.1",
   "language": "julia",
   "name": "julia-1.9"
  },
  "language_info": {
   "file_extension": ".jl",
   "mimetype": "application/julia",
   "name": "julia",
   "version": "1.9.1"
  }
 },
 "nbformat": 4,
 "nbformat_minor": 2
}
