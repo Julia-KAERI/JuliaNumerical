{
 "cells": [
  {
   "cell_type": "code",
   "execution_count": 22,
   "metadata": {},
   "outputs": [],
   "source": [
    "using Plots, BenchmarkTools\n",
    "using LinearAlgebra\n",
    "# using NAJ"
   ]
  },
  {
   "cell_type": "code",
   "execution_count": 30,
   "metadata": {},
   "outputs": [
    {
     "data": {
      "text/plain": [
       "optimal_omega (generic function with 1 method)"
      ]
     },
     "metadata": {},
     "output_type": "display_data"
    }
   ],
   "source": [
    "function is_row_wise_diagonally_dominant(A::AbstractMatrix{T}) where T<:Number\n",
    "    M, N = size(A)[1:2]\n",
    "    result = true\n",
    "    for i in 1:N\n",
    "        D = abs(A[i, i])\n",
    "        if  sum(abs.(A[i,:])) > 2*D\n",
    "            result = false\n",
    "            break\n",
    "        end\n",
    "    end\n",
    "    return result\n",
    "end\n",
    "\n",
    "function is_column_wise_diagonally_dominant(A::AbstractMatrix{T}) where T<:Number\n",
    "    M, N = size(A)[1:2]\n",
    "    result = true\n",
    "    for j in 1:M\n",
    "        D = abs(A[j, j])\n",
    "        if  sum(abs.(A[:,j])) > 2*D\n",
    "            result = false\n",
    "            break\n",
    "        end\n",
    "    end\n",
    "    return result\n",
    "end\n",
    "\n",
    "function is_strictly_row_wise_diagonally_dominant(A::AbstractMatrix{T}) where T<:Number\n",
    "    M, N = size(A)[1:2]\n",
    "    result = true\n",
    "    for i in 1:N\n",
    "        D = abs(A[i, i])\n",
    "        if  sum(abs.(A[i,:])) ≥ 2*D\n",
    "            result = false\n",
    "            break\n",
    "        end\n",
    "    end\n",
    "    return result\n",
    "end\n",
    "\n",
    "function is_strictly_column_wise_diagonally_dominant(A::AbstractMatrix{T}) where T<:Number\n",
    "    M, N = size(A)[1:2]\n",
    "    result = true\n",
    "    for j in 1:M\n",
    "        D = abs(A[j, j])\n",
    "        if  sum(abs.(A[:,j])) ≥ 2*D\n",
    "            result = false\n",
    "            break\n",
    "        end\n",
    "    end\n",
    "    return result\n",
    "end\n",
    "\n",
    "\n",
    "function spectral_radius(A::Matrix{T}) where T<:Number\n",
    "    eigs = eigvals(A)\n",
    "    return findmax([abs(x) for x in eigs])[1]\n",
    "end\n",
    "\n",
    "function optimal_omega(A::Matrix{<:Real})\n",
    "    D = Diagonal(A)\n",
    "    U = UpperTriangular(A)\n",
    "    L = LowerTriangular(A)\n",
    "    T = - inv(D+L) * U\n",
    "    return 1/(1+sqrt(1-spectral_radius(T)))\n",
    "end"
   ]
  },
  {
   "cell_type": "code",
   "execution_count": 5,
   "metadata": {},
   "outputs": [
    {
     "name": "stdout",
     "output_type": "stream",
     "text": [
      "6.437171043518958, 6.151051861499603\n"
     ]
    }
   ],
   "source": [
    "A = [2 1; 2 -2]\n",
    "B = [2 4; 1 -3]\n",
    "println(spectral_radius(A+B), \", \", spectral_radius(A) + spectral_radius(B))\n",
    "#spectral_radius(A)"
   ]
  },
  {
   "cell_type": "code",
   "execution_count": 6,
   "metadata": {},
   "outputs": [
    {
     "data": {
      "text/plain": [
       "3.7015621187164243"
      ]
     },
     "metadata": {},
     "output_type": "display_data"
    }
   ],
   "source": [
    "spectral_radius(B)"
   ]
  },
  {
   "cell_type": "code",
   "execution_count": 7,
   "metadata": {},
   "outputs": [
    {
     "data": {
      "text/plain": [
       "2-element Vector{Float64}:\n",
       " -2.449489742783178\n",
       "  2.4494897427831788"
      ]
     },
     "metadata": {},
     "output_type": "display_data"
    }
   ],
   "source": [
    "eigvals(A)"
   ]
  },
  {
   "cell_type": "code",
   "execution_count": 31,
   "metadata": {},
   "outputs": [
    {
     "data": {
      "text/plain": [
       "iteration_orthogonal (generic function with 1 method)"
      ]
     },
     "metadata": {},
     "output_type": "display_data"
    }
   ],
   "source": [
    "function check_diagonal_zero(A::Matrix{T}) where T<:Number\n",
    "    tzero = zero(T)\n",
    "    if tzro ∈ diag(A) \n",
    "        return true\n",
    "    else\n",
    "        return false\n",
    "    end\n",
    "end\n",
    "\n",
    "\n",
    "\n",
    "function iteration_jacobi3(\n",
    "    A::AbstractMatrix, \n",
    "    b::Vector, \n",
    "    x0::Vector; \n",
    "    etol::Number = 1.0e-10,\n",
    "    Maxiter::Integer = 100_000)\n",
    "    @assert size(A)[1] == size(A)[2] == size(b)[1]\n",
    "    @assert Maxiter > 3\n",
    "    x = zero(x0)\n",
    "    \n",
    "    for niter in 1:Maxiter\n",
    "        @inbounds for i in 1:length(x0)\n",
    "            @inbounds for j in 1:length(x0)\n",
    "                if i ≠ j\n",
    "                    x[i] += -A[i,j] * x0[j]\n",
    "                end\n",
    "            end\n",
    "            @inbounds x[i] = (x[i]+b[i])/A[i, i] \n",
    "        end\n",
    "        if norm(x .- x0, Inf) / norm(x, Inf) < etol\n",
    "            break\n",
    "        else \n",
    "            x0 = x[:]\n",
    "            x = zero(x0)\n",
    "\n",
    "        end\n",
    "    end\n",
    "    return x\n",
    "end\n",
    "\n",
    "function iteration_seidel3(\n",
    "    A::AbstractMatrix, \n",
    "    b::Vector, \n",
    "    x0::Vector; \n",
    "    etol::Number = 1.0e-10, \n",
    "    Maxiter = 100_000)\n",
    "    @assert size(A)[1] == size(A)[2] == size(b)[1]\n",
    "    \n",
    "    x = zero(x0)\n",
    "    for niter in 1:Maxiter\n",
    "        @inbounds for i in 1:length(x0)\n",
    "            @inbounds for j in 1:length(x0)\n",
    "                if j < i\n",
    "                    x[i] += - A[i, j]*x[j]\n",
    "                elseif j>i\n",
    "                    x[i] += - A[i, j]*x0[j] \n",
    "                end\n",
    "            end\n",
    "            @inbounds x[i] = (x[i]+b[i])/A[i, i] \n",
    "        end\n",
    "        if norm(x .- x0, Inf) / norm(x, Inf) < etol\n",
    "            break\n",
    "        else \n",
    "            x0 = x[:]\n",
    "            x = zero(x0)\n",
    "\n",
    "        end\n",
    "    end\n",
    "    return x\n",
    "end\n",
    "\n",
    "function iteration_sor3(\n",
    "    A::AbstractMatrix, \n",
    "    b::Vector, \n",
    "    x0::Vector,\n",
    "    ω::Real; \n",
    "    etol::Number = 1.0e-10, \n",
    "    Maxiter = 100_000)\n",
    "\n",
    "    @assert 0 < ω < 2\n",
    "    \n",
    "    x = zero(x0)\n",
    "    for nitter in 1:Maxiter\n",
    "        @inbounds for i ∈ 1:length(x0)\n",
    "            @inbounds for j ∈ 1:length(x0)\n",
    "                if j < i\n",
    "                    x[i] += -A[i, j] *x[j]\n",
    "                elseif j > i\n",
    "                    x[i] += -A[i, j] *x0[j]\n",
    "                end\n",
    "            end\n",
    "            x[i] = (1-ω)*x0[i] + 1/A[i, i] * (ω*b[i] + ω *  x[i])\n",
    "        end\n",
    "        if norm(x .- x0, Inf)/norm(x, Inf)< etol    \n",
    "            return x\n",
    "        else \n",
    "            x0 = x[:]\n",
    "            x = zero(x)\n",
    "        end\n",
    "    end\n",
    "    return x\n",
    "end\n",
    "\n",
    "function iteration_steepest(\n",
    "    A::AbstractMatrix, \n",
    "    b::Vector, \n",
    "    x0::Vector;\n",
    "    etol::Number = 1.0e-5, \n",
    "    Maxiter = 100_000)\n",
    "\n",
    "    x = similar(x0)\n",
    "    for i in 1:Maxiter\n",
    "        v = b - A*x0\n",
    "        t = dot(v,(b-A*x0))/dot(v, (A*v))\n",
    "        x = x0 + t*v\n",
    "        if norm(A*x-b, Inf)<etol\n",
    "            nitter = i\n",
    "            println(nitter)\n",
    "            return x\n",
    "        else \n",
    "            x0 = x\n",
    "        end\n",
    "    end\n",
    "    return nothing\n",
    "end\n",
    "\n",
    "\n",
    "function iteration_orthogonal(\n",
    "    A::AbstractMatrix, \n",
    "    b::Vector, \n",
    "    x0::Vector;\n",
    "    etol::Number = 1.0e-5, \n",
    "    Maxiter = 100_000)\n",
    "\n",
    "    x = similar(x0)\n",
    "    for i in 1:Maxiter\n",
    "        v = b - A*x0\n",
    "        t = dot(v,(b-A*x0))/dot(v, (A*v))\n",
    "        x = x0 + t*v\n",
    "        if norm(A*x-b, Inf)<etol\n",
    "            nitter = i\n",
    "            println(nitter)\n",
    "            return x\n",
    "        else \n",
    "            x0 = x\n",
    "        end\n",
    "    end\n",
    "    return nothing\n",
    "end"
   ]
  },
  {
   "cell_type": "code",
   "execution_count": 32,
   "metadata": {},
   "outputs": [
    {
     "data": {
      "text/plain": [
       "100-element Vector{Float64}:\n",
       "   1.0\n",
       "   2.0\n",
       "   3.0\n",
       "   4.0\n",
       "   5.0\n",
       "   6.0\n",
       "   7.0\n",
       "   8.0\n",
       "   9.0\n",
       "  10.0\n",
       "   ⋮\n",
       "  92.0\n",
       "  93.0\n",
       "  94.0\n",
       "  95.0\n",
       "  96.0\n",
       "  97.0\n",
       "  98.0\n",
       "  99.0\n",
       " 100.0"
      ]
     },
     "metadata": {},
     "output_type": "display_data"
    }
   ],
   "source": [
    "n=100\n",
    "A = Tridiagonal(-0.5*ones(n-1), ones(n), -0.5*ones(n-1))\n",
    "b = [0.5; zeros(n-1)]\n",
    "x0 = Float64.(collect(1:n))"
   ]
  },
  {
   "cell_type": "code",
   "execution_count": 33,
   "metadata": {},
   "outputs": [
    {
     "ename": "UndefVarError",
     "evalue": "UndefVarError: `iteration_jacobi` not defined",
     "output_type": "error",
     "traceback": [
      "UndefVarError: `iteration_jacobi` not defined\n",
      "\n",
      "Stacktrace:\n",
      " [1] top-level scope\n",
      "   @ ~/Documents/Projects/NumericalAnalysisJulia/src/numerical_analysis_using_julia/ch08_iterative_method_for_linear_system/ch08_01.ipynb:1"
     ]
    }
   ],
   "source": [
    "x1 = iteration_jacobi(A, b, x0, etol=1.0e-10)\n",
    "x12 = iteration_jacobi3(A, b, x0, etol=1.0e-10)\n",
    "x2 = iteration_seidel3(A, b, x0, etol=1.0e-10)\n",
    "x3 = iteration_sor3(A, b, x0, 1.5, etol=1.0e-10)\n",
    "# x4 = iteration_steepest(A, b, x0, etol = 1.0e-5)\n",
    "\n",
    "# [norm(b-A*x) for x in [x1, x2, x3, x4]]"
   ]
  },
  {
   "cell_type": "code",
   "execution_count": 34,
   "metadata": {},
   "outputs": [
    {
     "name": "stdout",
     "output_type": "stream",
     "text": [
      "  888.334 ms (125615 allocations: 107.34 MiB)\n",
      "  449.729 ms (62855 allocations: 53.71 MiB)\n",
      "  173.370 ms (22100 allocations: 18.88 MiB)\n"
     ]
    },
    {
     "data": {
      "text/plain": [
       "100-element Vector{Float64}:\n",
       " 0.9900990110349311\n",
       " 0.9801980220654706\n",
       " 0.970297033090538\n",
       " 0.9603960441090611\n",
       " 0.9504950551199771\n",
       " 0.9405940661222332\n",
       " 0.9306930771147881\n",
       " 0.9207920880966138\n",
       " 0.9108910990666946\n",
       " 0.9009901100240298\n",
       " ⋮\n",
       " 0.08910891971659195\n",
       " 0.07920792864717459\n",
       " 0.06930693757297085\n",
       " 0.059405946494938765\n",
       " 0.04950495541403728\n",
       " 0.039603964331225365\n",
       " 0.029702973247461018\n",
       " 0.019801982163700375\n",
       " 0.009900991080896813"
      ]
     },
     "metadata": {},
     "output_type": "display_data"
    }
   ],
   "source": [
    "@btime iteration_jacobi3(A, b, x0, etol=1.0e-10)\n",
    "@btime iteration_seidel3(A, b, x0, etol=1.0e-10)\n",
    "@btime iteration_sor3(A, b, x0, 1.5, etol=1.0e-10)"
   ]
  },
  {
   "cell_type": "code",
   "execution_count": 35,
   "metadata": {},
   "outputs": [
    {
     "name": "stdout",
     "output_type": "stream",
     "text": [
      "  2.368 s (300002 allocations: 256.35 MiB)\n",
      "  1.404 s (178224 allocations: 152.29 MiB)\n",
      "  721.846 ms (92370 allocations: 78.93 MiB)\n",
      "  491.782 ms (62856 allocations: 53.71 MiB)\n",
      "  337.135 ms (42756 allocations: 36.53 MiB)\n",
      "  173.613 ms (22101 allocations: 18.88 MiB)\n",
      "  76.838 ms (9807 allocations: 8.38 MiB)\n",
      "  27.540 ms (3537 allocations: 3.02 MiB)\n"
     ]
    }
   ],
   "source": [
    "for tt ∈ (0.2, 0.5, 0.8, 1.0, 1.2, 1.5, 1.75, 1.9)\n",
    "    @btime iteration_sor3(A, b, x0, $tt, etol=1.0e-10)\n",
    "end\n"
   ]
  },
  {
   "cell_type": "code",
   "execution_count": 36,
   "metadata": {},
   "outputs": [
    {
     "ename": "UndefVarError",
     "evalue": "UndefVarError: `x2` not defined",
     "output_type": "error",
     "traceback": [
      "UndefVarError: `x2` not defined\n",
      "\n",
      "Stacktrace:\n",
      " [1] top-level scope\n",
      "   @ ~/Documents/Projects/NumericalAnalysisJulia/src/numerical_analysis_using_julia/ch08_iterative_method_for_linear_system/ch08_01.ipynb:1"
     ]
    }
   ],
   "source": [
    "norm(A*x2 - b, Inf)"
   ]
  },
  {
   "cell_type": "code",
   "execution_count": 37,
   "metadata": {},
   "outputs": [
    {
     "ename": "UndefVarError",
     "evalue": "UndefVarError: `x1` not defined",
     "output_type": "error",
     "traceback": [
      "UndefVarError: `x1` not defined\n"
     ]
    }
   ],
   "source": [
    "x1"
   ]
  },
  {
   "cell_type": "code",
   "execution_count": 38,
   "metadata": {},
   "outputs": [
    {
     "ename": "UndefVarError",
     "evalue": "UndefVarError: `x2` not defined",
     "output_type": "error",
     "traceback": [
      "UndefVarError: `x2` not defined\n"
     ]
    }
   ],
   "source": [
    "x2"
   ]
  },
  {
   "cell_type": "code",
   "execution_count": 39,
   "metadata": {},
   "outputs": [
    {
     "ename": "UndefVarError",
     "evalue": "UndefVarError: `x3` not defined",
     "output_type": "error",
     "traceback": [
      "UndefVarError: `x3` not defined\n"
     ]
    }
   ],
   "source": [
    "x3"
   ]
  },
  {
   "cell_type": "code",
   "execution_count": null,
   "metadata": {},
   "outputs": [],
   "source": [
    "spectral_radius(inv(D)*(L+U))"
   ]
  },
  {
   "cell_type": "code",
   "execution_count": null,
   "metadata": {},
   "outputs": [],
   "source": [
    "spectral_radius(inv(D+L)U)"
   ]
  },
  {
   "cell_type": "code",
   "execution_count": null,
   "metadata": {},
   "outputs": [],
   "source": [
    "x'*x"
   ]
  },
  {
   "cell_type": "code",
   "execution_count": null,
   "metadata": {},
   "outputs": [],
   "source": [
    "dot(x,x)"
   ]
  },
  {
   "cell_type": "code",
   "execution_count": 41,
   "metadata": {},
   "outputs": [
    {
     "ename": "UndefVarError",
     "evalue": "UndefVarError: `diagonal` not defined",
     "output_type": "error",
     "traceback": [
      "UndefVarError: `diagonal` not defined\n",
      "\n",
      "Stacktrace:\n",
      " [1] top-level scope\n",
      "   @ ~/Documents/Projects/NumericalAnalysisJulia/src/numerical_analysis_using_julia/ch08_iterative_method_for_linear_system/ch08_01.ipynb:1"
     ]
    }
   ],
   "source": [
    "diagonal(A)"
   ]
  },
  {
   "cell_type": "code",
   "execution_count": 43,
   "metadata": {},
   "outputs": [
    {
     "data": {
      "text/plain": [
       "4×4 UpperTriangular{Float64, Matrix{Float64}}:\n",
       " 10.0  -1.0   2.0   0.0\n",
       "   ⋅   11.0  -1.0   3.0\n",
       "   ⋅     ⋅   10.0  -1.0\n",
       "   ⋅     ⋅     ⋅    8.0"
      ]
     },
     "metadata": {},
     "output_type": "display_data"
    }
   ],
   "source": [
    "UpperTriangular(A)"
   ]
  },
  {
   "cell_type": "code",
   "execution_count": 41,
   "metadata": {},
   "outputs": [
    {
     "data": {
      "text/plain": [
       "2×2 Matrix{Int64}:\n",
       " 32  23\n",
       "  2   0"
      ]
     },
     "metadata": {},
     "output_type": "display_data"
    }
   ],
   "source": [
    "A=[32 23;2 0]"
   ]
  },
  {
   "cell_type": "code",
   "execution_count": 27,
   "metadata": {},
   "outputs": [
    {
     "data": {
      "text/plain": [
       "false"
      ]
     },
     "metadata": {},
     "output_type": "display_data"
    }
   ],
   "source": [
    "is_strictly_column_wise_diagonally_dominant(A)"
   ]
  },
  {
   "cell_type": "code",
   "execution_count": 28,
   "metadata": {},
   "outputs": [
    {
     "data": {
      "text/plain": [
       "true"
      ]
     },
     "metadata": {},
     "output_type": "display_data"
    }
   ],
   "source": [
    "diag(A)\n",
    "zero(eltype(A)) ∈ diag(A)"
   ]
  },
  {
   "cell_type": "code",
   "execution_count": 42,
   "metadata": {},
   "outputs": [
    {
     "data": {
      "text/plain": [
       "33.378147196982766"
      ]
     },
     "metadata": {},
     "output_type": "display_data"
    }
   ],
   "source": [
    "spectral_radius(A)"
   ]
  },
  {
   "cell_type": "code",
   "execution_count": null,
   "metadata": {},
   "outputs": [],
   "source": []
  }
 ],
 "metadata": {
  "kernelspec": {
   "display_name": "Julia 1.10.2",
   "language": "julia",
   "name": "julia-1.10"
  },
  "language_info": {
   "file_extension": ".jl",
   "mimetype": "application/julia",
   "name": "julia",
   "version": "1.10.2"
  }
 },
 "nbformat": 4,
 "nbformat_minor": 2
}
