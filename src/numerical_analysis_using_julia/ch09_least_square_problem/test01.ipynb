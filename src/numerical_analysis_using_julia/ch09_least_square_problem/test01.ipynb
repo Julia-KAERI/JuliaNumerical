{
 "cells": [
  {
   "cell_type": "code",
   "execution_count": 2,
   "metadata": {},
   "outputs": [
    {
     "data": {
      "text/plain": [
       "Plots.GRBackend()"
      ]
     },
     "metadata": {},
     "output_type": "display_data"
    }
   ],
   "source": [
    "using Plots, BenchmarkTools, LinearAlgebra, LaTeXStrings\n",
    "gr()"
   ]
  },
  {
   "cell_type": "code",
   "execution_count": 6,
   "metadata": {},
   "outputs": [
    {
     "data": {
      "text/plain": [
       "\"/Volumes/SJYData/devdoc/Books/Physics_Math_Computing/src/numerical_analysis_using_julia/ch07_least_square_problem/hauseholder1.png\""
      ]
     },
     "metadata": {},
     "output_type": "display_data"
    }
   ],
   "source": [
    "v = [5, 4]\n",
    "x = [-1, 6]\n",
    "nv = normalize(v)\n",
    "Hv = I-2.0*nv * transpose(nv)\n",
    "x2 = Hv*x\n",
    "plot1 = plot([0, v[1]], [0, v[2]], arrow=(:closed, 3.0), lc=:black, lw=3,\n",
    "        frame = :none, label = :none, xlim=(-6, 8), ylim = (-5, 10), aspect_ratio = :equal)\n",
    "plot!([0, x[1]], [0, x[2]], arrow=(:closed, 3.0), lc=:blue, lw=3, label = :none)\n",
    "plot!([0, x2[1]], [0, x2[2]], arrow=(:closed, 3.0), lc=:blue, lw=3, label = :none)\n",
    "plot!([4, -4], [-5, 5], lw=2, ls=:dash, lc=:green, label = :none)\n",
    "annotate!(v[1]/2, v[2]/2, text(L\"\\textit{\\textbf{v}}\", :black, :hcenter, :top, 12))\n",
    "annotate!(x[1], x[2]+1, text(L\"\\textit{\\textbf{x}}\", :black, :hcenter, :top, 12))\n",
    "annotate!(x2[1], x2[2]-1, text(L\"\\textit{\\textbf{H_{v}x}}\", :black, :hcenter, :top, 12))\n",
    "\n",
    "annotate!(-4.5, 6, text(L\"\\textrm{Plain\\;normal\\;to\\;}\\textit{\\textbf{v}}\", :black, :hcenter, :top, 12))\n",
    "plot(plot1, dpi=300)\n",
    "#savefig(\"householder1.png\")"
   ]
  },
  {
   "cell_type": "code",
   "execution_count": 28,
   "metadata": {},
   "outputs": [
    {
     "data": {
      "text/plain": [
       "2×2 Matrix{Float64}:\n",
       " -0.470588  0.882353\n",
       "  0.882353  0.470588"
      ]
     },
     "metadata": {},
     "output_type": "display_data"
    }
   ],
   "source": [
    "H"
   ]
  },
  {
   "cell_type": "code",
   "execution_count": null,
   "metadata": {},
   "outputs": [],
   "source": []
  }
 ],
 "metadata": {
  "kernelspec": {
   "display_name": "Julia 1.9.1",
   "language": "julia",
   "name": "julia-1.9"
  },
  "language_info": {
   "file_extension": ".jl",
   "mimetype": "application/julia",
   "name": "julia",
   "version": "1.9.1"
  }
 },
 "nbformat": 4,
 "nbformat_minor": 2
}
