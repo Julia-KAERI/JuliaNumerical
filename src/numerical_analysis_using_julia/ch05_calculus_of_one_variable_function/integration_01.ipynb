{
 "cells": [
  {
   "cell_type": "code",
   "execution_count": 84,
   "metadata": {},
   "outputs": [],
   "source": [
    "using Plots, BenchmarkTools, LinearAlgebra, LaTeXStrings"
   ]
  },
  {
   "cell_type": "code",
   "execution_count": 28,
   "metadata": {},
   "outputs": [
    {
     "data": {
      "text/plain": [
       "simpson38 (generic function with 1 method)"
      ]
     },
     "metadata": {},
     "output_type": "display_data"
    }
   ],
   "source": [
    "function trapzoidal(f::Function, a::Real, b::Real, N::Integer)\n",
    "    x = range(a, b, N)\n",
    "    h = (b-a)/N\n",
    "    fd = f.(x)\n",
    "    return h*(sum(fd)-0.5*fd[1]-0.5*fd[end])\n",
    "end\n",
    "\n",
    "function simpson13(f::Function, a::Real, b::Real, N::Integer)\n",
    "    @assert isodd(N)\n",
    "    x = range(a, b, N)\n",
    "    h = (b-a)/N\n",
    "    fd = f.(x)\n",
    "    return h/3.0*((fd[1]+fd[end]) + 4.0* sum(fd[2:2:end-1]) + 2.0 * sum(fd[3:2:end-2]))\n",
    "end\n",
    "    \n",
    "function simpson38(f::Function, a::Real, b::Real, N::Integer)\n",
    "    @assert N%3==1\n",
    "    x = range(a, b, N)\n",
    "    h = (b-a)/N\n",
    "    fd = f.(x)\n",
    "    return 3*h/8 * (fd[1]+fd[end] + 3*sum(fd[2:3:end-1])+ 3*sum(fd[3:3:end-1]) + 2*sum(fd[4:3:end-1]))\n",
    "end"
   ]
  },
  {
   "cell_type": "code",
   "execution_count": 29,
   "metadata": {},
   "outputs": [
    {
     "data": {
      "text/plain": [
       "compare_integration (generic function with 1 method)"
      ]
     },
     "metadata": {},
     "output_type": "display_data"
    }
   ],
   "source": [
    "function compare_integration(f, a, b, N)\n",
    "    return (trapzoidal(f, a, b, N), simpson13(f, a, b, N), simpson38(f, a, b, N))\n",
    "end"
   ]
  },
  {
   "cell_type": "code",
   "execution_count": 117,
   "metadata": {},
   "outputs": [
    {
     "data": {
      "text/plain": [
       "\"/Volumes/SJYData/devdoc/Books/Physics_Math_Computing/src/numerical_analysis_using_julia/ch05_calculus_of_one_variable_function/integration_test.png\""
      ]
     },
     "metadata": {},
     "output_type": "display_data"
    }
   ],
   "source": [
    "N = 7:6:1801\n",
    "result = [x for n in N for x in compare_integration(x->exp(x), 0, 1, n) ]\n",
    "p = Matrix(reshape(result, (3, length(result)÷ 3))')\n",
    "plot(N, p[:, 1]./(ℯ-1), frame = :box, xlabel =L\"N_{\\textrm{points}}\", \n",
    "        ylabel = L\"I_{\\textrm{calc}}/I_{\\textrm{real}}\", label = \"Trapzoidal\", \n",
    "        yticks =[0.85, 0.9, 0.95, 1.0], ylim = (0.84, 1.01) ,xaxis = :log10)\n",
    "plot!(N, p[:, 2]./(ℯ-1), label = \"Simpson 1/3\")\n",
    "plot!(N, p[:, 3]./(ℯ-1), label = \"Simpson 3/8\")\n",
    "#savefig(\"integration_test.png\")"
   ]
  },
  {
   "cell_type": "code",
   "execution_count": 65,
   "metadata": {},
   "outputs": [
    {
     "data": {
      "text/plain": [
       "50"
      ]
     },
     "metadata": {},
     "output_type": "display_data"
    }
   ],
   "source": [
    "length(result)÷3"
   ]
  },
  {
   "cell_type": "code",
   "execution_count": null,
   "metadata": {},
   "outputs": [],
   "source": []
  }
 ],
 "metadata": {
  "kernelspec": {
   "display_name": "Julia 1.9.1",
   "language": "julia",
   "name": "julia-1.9"
  },
  "language_info": {
   "file_extension": ".jl",
   "mimetype": "application/julia",
   "name": "julia",
   "version": "1.9.1"
  }
 },
 "nbformat": 4,
 "nbformat_minor": 2
}
