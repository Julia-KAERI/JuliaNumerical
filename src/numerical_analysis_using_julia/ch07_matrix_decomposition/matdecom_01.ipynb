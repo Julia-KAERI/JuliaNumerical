{
 "cells": [
  {
   "cell_type": "code",
   "execution_count": 2,
   "metadata": {},
   "outputs": [],
   "source": [
    "using LinearAlgebra, BenchmarkTools, Plots, SparseArrays"
   ]
  },
  {
   "cell_type": "code",
   "execution_count": null,
   "metadata": {},
   "outputs": [],
   "source": [
    "function cholesky(A::Matrix)\n",
    "    M = size(A)[1]\n",
    "    L = zero(A)\n",
    "    L[1, 1] = sqrt(A[1, 1])\n",
    "    L[2:, 1] = A[2:,1]/L[1, 1]\n",
    "    for i in 2:M, j in 1:i\n",
    "        \n",
    "        "
   ]
  }
 ],
 "metadata": {
  "kernelspec": {
   "display_name": "Julia 1.9.1",
   "language": "julia",
   "name": "julia-1.9"
  },
  "language_info": {
   "file_extension": ".jl",
   "mimetype": "application/julia",
   "name": "julia",
   "version": "1.9.1"
  }
 },
 "nbformat": 4,
 "nbformat_minor": 2
}
