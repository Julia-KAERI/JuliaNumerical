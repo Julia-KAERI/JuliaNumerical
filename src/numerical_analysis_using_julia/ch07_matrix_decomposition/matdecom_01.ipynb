{
 "cells": [
  {
   "cell_type": "code",
   "execution_count": 1,
   "metadata": {},
   "outputs": [],
   "source": [
    "using LinearAlgebra, BenchmarkTools, Plots, SparseArrays"
   ]
  },
  {
   "cell_type": "code",
   "execution_count": 20,
   "metadata": {},
   "outputs": [
    {
     "data": {
      "text/plain": [
       "mldlt (generic function with 1 method)"
      ]
     },
     "metadata": {},
     "output_type": "display_data"
    }
   ],
   "source": [
    "function mcholesky(A::Matrix{T}) where T<:Number\n",
    "    M = size(A)[1]\n",
    "    L = zero(A)\n",
    "    L[1, 1] = sqrt(A[1, 1])\n",
    "    for i in 2:M\n",
    "        L[i, 1] = A[i, 1]/L[1, 1]\n",
    "    end\n",
    "    for j in 2:M, i in 1:j\n",
    "        if j == i \n",
    "            L[i, i] = sqrt(A[i, i] - dot(L[i, 1:i-1], L[i, 1:i-1]) )\n",
    "        else \n",
    "            L[j, i] = (A[i, j] - dot(L[j, 1:i-1], L[i, 1:i-1]))/L[i, i]\n",
    "        end\n",
    "    end\n",
    "    return L\n",
    "end\n",
    "\n",
    "function mldlt(A::Matrix{T}) where T<:Number\n",
    "    L, U = cholesky(A)\n",
    "    D = Diagonal(L)\n",
    "    return D*D, L*inv(D)\n",
    "end\n",
    "        "
   ]
  },
  {
   "cell_type": "code",
   "execution_count": 3,
   "metadata": {},
   "outputs": [
    {
     "data": {
      "text/plain": [
       "3×3 Matrix{Float64}:\n",
       "  1.41421    0.0       0.0\n",
       " -0.707107   1.22474   0.0\n",
       "  0.0       -0.816497  1.1547"
      ]
     },
     "metadata": {},
     "output_type": "display_data"
    }
   ],
   "source": [
    "A=Float64.([2 -1 0; -1 2.0+0.0im -1;0 -1 2])\n",
    "L = mcholesky(A)"
   ]
  },
  {
   "cell_type": "code",
   "execution_count": 4,
   "metadata": {},
   "outputs": [
    {
     "data": {
      "text/plain": [
       "3×3 LowerTriangular{Float64, Matrix{Float64}}:\n",
       "  1.41421     ⋅         ⋅ \n",
       " -0.707107   1.22474    ⋅ \n",
       "  0.0       -0.816497  1.1547"
      ]
     },
     "metadata": {},
     "output_type": "display_data"
    }
   ],
   "source": [
    "cholesky(A).L"
   ]
  },
  {
   "cell_type": "code",
   "execution_count": 5,
   "metadata": {},
   "outputs": [
    {
     "data": {
      "text/plain": [
       "2×2 Matrix{ComplexF64}:\n",
       " 1.41421+0.0im           0.0+0.0im\n",
       "    -0.0-0.707107im  1.22474+0.0im"
      ]
     },
     "metadata": {},
     "output_type": "display_data"
    }
   ],
   "source": [
    " B = [2.0 -1.0im ; im  2]\n",
    " L=mcholesky(B)"
   ]
  },
  {
   "cell_type": "code",
   "execution_count": 6,
   "metadata": {},
   "outputs": [
    {
     "data": {
      "text/plain": [
       "2×2 Matrix{ComplexF64}:\n",
       " 2.0+0.0im  0.0+1.0im\n",
       " 0.0-1.0im  2.0+0.0im"
      ]
     },
     "metadata": {},
     "output_type": "display_data"
    }
   ],
   "source": [
    "L*(L')"
   ]
  },
  {
   "cell_type": "code",
   "execution_count": 9,
   "metadata": {},
   "outputs": [
    {
     "ename": "MethodError",
     "evalue": "MethodError: no method matching ldlt(::Matrix{ComplexF64})\n\nClosest candidates are:\n  ldlt(!Matched::SparseArrays.CHOLMOD.Sparse; shift, check, perm)\n   @ SparseArrays /Applications/Julia-1.10.app/Contents/Resources/julia/share/julia/stdlib/v1.10/SparseArrays/src/solvers/cholmod.jl:1479\n  ldlt(!Matched::Union{Hermitian{Complex{T}, <:SparseMatrixCSC{Complex{T}}}, Hermitian{T, <:SparseMatrixCSC{T}}, Symmetric{T, <:SparseMatrixCSC{T}}, SparseMatrixCSC{T}, SparseMatrixCSC{Complex{T}}}; kws...) where T<:Real\n   @ SparseArrays /Applications/Julia-1.10.app/Contents/Resources/julia/share/julia/stdlib/v1.10/SparseArrays/src/solvers/cholmod.jl:1535\n  ldlt(!Matched::SymTridiagonal{T, V} where V<:AbstractVector{T}; shift) where T\n   @ LinearAlgebra /Applications/Julia-1.10.app/Contents/Resources/julia/share/julia/stdlib/v1.10/LinearAlgebra/src/ldlt.jl:163\n",
     "output_type": "error",
     "traceback": [
      "MethodError: no method matching ldlt(::Matrix{ComplexF64})\n",
      "\n",
      "Closest candidates are:\n",
      "  ldlt(!Matched::SparseArrays.CHOLMOD.Sparse; shift, check, perm)\n",
      "   @ SparseArrays /Applications/Julia-1.10.app/Contents/Resources/julia/share/julia/stdlib/v1.10/SparseArrays/src/solvers/cholmod.jl:1479\n",
      "  ldlt(!Matched::Union{Hermitian{Complex{T}, <:SparseMatrixCSC{Complex{T}}}, Hermitian{T, <:SparseMatrixCSC{T}}, Symmetric{T, <:SparseMatrixCSC{T}}, SparseMatrixCSC{T}, SparseMatrixCSC{Complex{T}}}; kws...) where T<:Real\n",
      "   @ SparseArrays /Applications/Julia-1.10.app/Contents/Resources/julia/share/julia/stdlib/v1.10/SparseArrays/src/solvers/cholmod.jl:1535\n",
      "  ldlt(!Matched::SymTridiagonal{T, V} where V<:AbstractVector{T}; shift) where T\n",
      "   @ LinearAlgebra /Applications/Julia-1.10.app/Contents/Resources/julia/share/julia/stdlib/v1.10/LinearAlgebra/src/ldlt.jl:163\n",
      "\n",
      "\n",
      "Stacktrace:\n",
      " [1] top-level scope\n",
      "   @ ~/Documents/Projects/NumericalAnalysisJulia/src/numerical_analysis_using_julia/ch07_matrix_decomposition/matdecom_01.ipynb:1"
     ]
    }
   ],
   "source": [
    "ldlt(B)"
   ]
  },
  {
   "cell_type": "markdown",
   "metadata": {},
   "source": []
  },
  {
   "cell_type": "code",
   "execution_count": 12,
   "metadata": {},
   "outputs": [
    {
     "data": {
      "text/plain": [
       "Cholesky{Float64, Matrix{Float64}}\n",
       "U factor:\n",
       "3×3 UpperTriangular{Float64, Matrix{Float64}}:\n",
       " 1.41421  -0.707107   0.0\n",
       "  ⋅        1.22474   -0.816497\n",
       "  ⋅         ⋅         1.1547"
      ]
     },
     "metadata": {},
     "output_type": "display_data"
    }
   ],
   "source": [
    "L, U = cholesky(A)"
   ]
  },
  {
   "cell_type": "code",
   "execution_count": 14,
   "metadata": {},
   "outputs": [
    {
     "data": {
      "text/plain": [
       "3×3 Diagonal{Float64, Vector{Float64}}:\n",
       " 1.41421   ⋅        ⋅ \n",
       "  ⋅       1.22474   ⋅ \n",
       "  ⋅        ⋅       1.1547"
      ]
     },
     "metadata": {},
     "output_type": "display_data"
    }
   ],
   "source": [
    "D = Diagonal(L)"
   ]
  },
  {
   "cell_type": "code",
   "execution_count": 21,
   "metadata": {},
   "outputs": [
    {
     "ename": "MethodError",
     "evalue": "MethodError: no method matching ldlt(::Matrix{Float64})\n\nClosest candidates are:\n  ldlt(!Matched::SparseArrays.CHOLMOD.Sparse; shift, check, perm)\n   @ SparseArrays /Applications/Julia-1.10.app/Contents/Resources/julia/share/julia/stdlib/v1.10/SparseArrays/src/solvers/cholmod.jl:1479\n  ldlt(!Matched::Union{Hermitian{Complex{T}, <:SparseMatrixCSC{Complex{T}}}, Hermitian{T, <:SparseMatrixCSC{T}}, Symmetric{T, <:SparseMatrixCSC{T}}, SparseMatrixCSC{T}, SparseMatrixCSC{Complex{T}}}; kws...) where T<:Real\n   @ SparseArrays /Applications/Julia-1.10.app/Contents/Resources/julia/share/julia/stdlib/v1.10/SparseArrays/src/solvers/cholmod.jl:1535\n  ldlt(!Matched::SymTridiagonal{T, V} where V<:AbstractVector{T}; shift) where T\n   @ LinearAlgebra /Applications/Julia-1.10.app/Contents/Resources/julia/share/julia/stdlib/v1.10/LinearAlgebra/src/ldlt.jl:163\n",
     "output_type": "error",
     "traceback": [
      "MethodError: no method matching ldlt(::Matrix{Float64})\n",
      "\n",
      "Closest candidates are:\n",
      "  ldlt(!Matched::SparseArrays.CHOLMOD.Sparse; shift, check, perm)\n",
      "   @ SparseArrays /Applications/Julia-1.10.app/Contents/Resources/julia/share/julia/stdlib/v1.10/SparseArrays/src/solvers/cholmod.jl:1479\n",
      "  ldlt(!Matched::Union{Hermitian{Complex{T}, <:SparseMatrixCSC{Complex{T}}}, Hermitian{T, <:SparseMatrixCSC{T}}, Symmetric{T, <:SparseMatrixCSC{T}}, SparseMatrixCSC{T}, SparseMatrixCSC{Complex{T}}}; kws...) where T<:Real\n",
      "   @ SparseArrays /Applications/Julia-1.10.app/Contents/Resources/julia/share/julia/stdlib/v1.10/SparseArrays/src/solvers/cholmod.jl:1535\n",
      "  ldlt(!Matched::SymTridiagonal{T, V} where V<:AbstractVector{T}; shift) where T\n",
      "   @ LinearAlgebra /Applications/Julia-1.10.app/Contents/Resources/julia/share/julia/stdlib/v1.10/LinearAlgebra/src/ldlt.jl:163\n",
      "\n",
      "\n",
      "Stacktrace:\n",
      " [1] top-level scope\n",
      "   @ ~/Documents/Projects/NumericalAnalysisJulia/src/numerical_analysis_using_julia/ch07_matrix_decomposition/matdecom_01.ipynb:1"
     ]
    }
   ],
   "source": [
    "ldlt(A)"
   ]
  },
  {
   "cell_type": "code",
   "execution_count": 17,
   "metadata": {},
   "outputs": [
    {
     "data": {
      "text/plain": [
       "3×3 Matrix{Float64}:\n",
       "  2.0  -1.0   0.0\n",
       " -1.0   2.0  -1.0\n",
       "  0.0  -1.0   2.0"
      ]
     },
     "metadata": {},
     "output_type": "display_data"
    }
   ],
   "source": [
    "LL*DD*(LL)'"
   ]
  },
  {
   "cell_type": "code",
   "execution_count": null,
   "metadata": {},
   "outputs": [],
   "source": []
  }
 ],
 "metadata": {
  "kernelspec": {
   "display_name": "Julia 1.10.0",
   "language": "julia",
   "name": "julia-1.10"
  },
  "language_info": {
   "file_extension": ".jl",
   "mimetype": "application/julia",
   "name": "julia",
   "version": "1.10.0"
  }
 },
 "nbformat": 4,
 "nbformat_minor": 2
}
