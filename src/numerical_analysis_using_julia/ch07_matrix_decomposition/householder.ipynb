{
 "cells": [
  {
   "cell_type": "code",
   "execution_count": 1,
   "metadata": {},
   "outputs": [],
   "source": [
    "using LinearAlgebra, CairoMakie, BenchmarkTools"
   ]
  },
  {
   "cell_type": "code",
   "execution_count": 40,
   "metadata": {},
   "outputs": [
    {
     "data": {
      "text/plain": [
       "qrdecom (generic function with 1 method)"
      ]
     },
     "metadata": {},
     "output_type": "display_data"
    }
   ],
   "source": [
    "# function householder(v::Vector{T}) where T<:Number\n",
    "#     N = sizeof(v)[1]\n",
    "#     vv = normalize(hcat(v))\n",
    "#     Hv = I - 2*(vv * (vv'))\n",
    "#     return Hv\n",
    "# end\n",
    "\n",
    "function house2(x::Vector{T}) where T<:Real\n",
    "    m = length(x)\n",
    "    v = [1 ; x[2:end]]\n",
    "    v[1] = v[1] - norm(x)\n",
    "    return return v./v[1]\n",
    "    \n",
    "end\n",
    "\n",
    "function house(x::Vector{T}) where T<:Real\n",
    "    m = length(x)\n",
    "    σ = norm(x[2:end])^2\n",
    "    v= [1 ; x[2:end]]\n",
    "    if σ ≈ zero(σ) && x[1] ≥ 0\n",
    "        β = 0\n",
    "    elseif σ ≈ 0\n",
    "        β = -2\n",
    "    else \n",
    "        μ = sqrt(x[1]^2+σ)\n",
    "        if x[1] ≤ 0\n",
    "            v[1] = x[1] - μ\n",
    "        else \n",
    "            v[1] = -σ/(x[1]+μ)\n",
    "        end\n",
    "        β = 2*v[1]^2 / (σ + v[1]^2)\n",
    "        v=v./(v[1])\n",
    "    end\n",
    "    return β, v\n",
    "end\n",
    "\n",
    "function householder2(x::Vector{T}) where T<:Real\n",
    "    m = length(x)\n",
    "    v = [x[1] - norm(x); x[2:end]]\n",
    "    vn = normalize(v)\n",
    "    Hv = I - 2.0*v*v'\n",
    "    return Hv*x\n",
    "end\n",
    "\n",
    "function householder(x::Vector{T}) where T<:Real\n",
    "    β, v = house(x)\n",
    "    return I - β*v*v'\n",
    "end\n",
    "\n",
    "function qrdecom(mat::Matrix{T}) where T<:Real\n",
    "    \n",
    "    m, n = size(mat)[1:2]\n",
    "    @assert m == n\n",
    "    \n",
    "    if T<:Integer \n",
    "        A = Float64.(mat[:, :])\n",
    "    else \n",
    "        A = mat[:, :]\n",
    "    end\n",
    "\n",
    "    elt = eltype(A)\n",
    "    Q = Matrix{elt}(I, n, n)\n",
    "    for i in 1:(n)\n",
    "        Hm = householder(A[i:end, i])\n",
    "        if i == 1 \n",
    "            Q=Hm\n",
    "            A = Q*A\n",
    "        else\n",
    "            X= [Matrix{elt}(I, i-1, i-1) zeros(elt, i-1, n-i+1); zeros(elt, i-1, n-i+1)'  Hm] \n",
    "            Q = X* Q\n",
    "            A = X*A\n",
    "        end\n",
    "        \n",
    "    end\n",
    "    return Q', A\n",
    "end"
   ]
  },
  {
   "cell_type": "code",
   "execution_count": 41,
   "metadata": {},
   "outputs": [
    {
     "data": {
      "text/plain": [
       "4×4 Matrix{Float64}:\n",
       " 1.0  2.0   1.0   1.0\n",
       " 0.0  1.0  -1.0   5.0\n",
       " 0.0  1.0   0.0   1.0\n",
       " 1.0  0.0   1.0  -1.0"
      ]
     },
     "metadata": {},
     "output_type": "display_data"
    }
   ],
   "source": [
    "v = [1.0 2 1 1; 0 1 -1 5; 0 1 0 1; 1 0 1 -1]"
   ]
  },
  {
   "cell_type": "code",
   "execution_count": 43,
   "metadata": {},
   "outputs": [
    {
     "data": {
      "text/plain": [
       "([0.7071067811865475 0.5000000000000001 0.2886751345948128 1.224744871391589; 0.0 0.5 -0.8660254037844384 1.0772401695030607e-16; 0.0 0.4999999999999999 0.288675134594813 -2.449489742783178; 0.7071067811865477 -0.5000000000000003 -0.28867513459481287 -1.2247448713915892], [1.4142135623730951 1.414213562373095 1.4142135623730951 -2.220446049250313e-16; -1.5700924586837752e-16 2.0 -0.5000000000000001 4.000000000000001; -9.064933036736784e-17 2.4467881385637166e-16 0.8660254037844383 -3.464101615137753; -3.8459253727671266e-16 -1.6714849754424513e-17 -4.4079092433785307e-16 -1.004422821527295e-15])"
      ]
     },
     "metadata": {},
     "output_type": "display_data"
    }
   ],
   "source": [
    "Q, R=qrdecom(v)\n"
   ]
  },
  {
   "cell_type": "code",
   "execution_count": 46,
   "metadata": {},
   "outputs": [
    {
     "data": {
      "text/plain": [
       "4×4 Matrix{Float64}:\n",
       "  5.55112e-16  0.0           8.88178e-16  -2.22045e-16\n",
       "  1.14005e-31  2.22045e-16  -5.55112e-16   1.77636e-15\n",
       " -8.37383e-16  1.11022e-16  -1.05074e-15  -2.66454e-15\n",
       " -6.66134e-16  4.9425e-16   -1.11022e-15   8.88178e-16"
      ]
     },
     "metadata": {},
     "output_type": "display_data"
    }
   ],
   "source": [
    "v .- Q*R"
   ]
  },
  {
   "cell_type": "code",
   "execution_count": 228,
   "metadata": {},
   "outputs": [
    {
     "data": {
      "text/plain": [
       "LinearAlgebra.QRCompactWY{Float64, Matrix{Float64}, Matrix{Float64}}\n",
       "Q factor: 4×4 LinearAlgebra.QRCompactWYQ{Float64, Matrix{Float64}, Matrix{Float64}}\n",
       "R factor:\n",
       "4×4 Matrix{Float64}:\n",
       " -1.41421  -1.41421  -1.41421    3.33067e-16\n",
       "  0.0      -2.0       0.5       -4.0\n",
       "  0.0       0.0      -0.866025   3.4641\n",
       "  0.0       0.0       0.0       -4.44089e-16"
      ]
     },
     "metadata": {},
     "output_type": "display_data"
    }
   ],
   "source": [
    "qq = qr(v)"
   ]
  },
  {
   "cell_type": "code",
   "execution_count": 230,
   "metadata": {},
   "outputs": [
    {
     "data": {
      "text/plain": [
       "4×4 Matrix{Float64}:\n",
       " -0.707107  -0.5  -0.288675  -0.408248\n",
       "  0.0       -0.5   0.866025  -1.11022e-16\n",
       "  0.0       -0.5  -0.288675   0.816497\n",
       " -0.707107   0.5   0.288675   0.408248"
      ]
     },
     "metadata": {},
     "output_type": "display_data"
    }
   ],
   "source": [
    "Matrix(qq.Q)"
   ]
  },
  {
   "cell_type": "code",
   "execution_count": 214,
   "metadata": {},
   "outputs": [
    {
     "data": {
      "text/plain": [
       "4-element Vector{Float64}:\n",
       " -2.613125929752753\n",
       " -0.0\n",
       " -0.0\n",
       "  0.0"
      ]
     },
     "metadata": {},
     "output_type": "display_data"
    }
   ],
   "source": [
    "qq.Q*v"
   ]
  },
  {
   "cell_type": "code",
   "execution_count": 31,
   "metadata": {},
   "outputs": [
    {
     "data": {
      "text/plain": [
       "3-element Vector{Bool}:\n",
       " 1\n",
       " 0\n",
       " 0"
      ]
     },
     "metadata": {},
     "output_type": "display_data"
    }
   ],
   "source": [
    "I[1:length(v), 1]"
   ]
  },
  {
   "cell_type": "code",
   "execution_count": 29,
   "metadata": {},
   "outputs": [
    {
     "data": {
      "text/plain": [
       "0.0"
      ]
     },
     "metadata": {},
     "output_type": "display_data"
    }
   ],
   "source": [
    "zero(1.0)"
   ]
  },
  {
   "cell_type": "code",
   "execution_count": 120,
   "metadata": {},
   "outputs": [
    {
     "data": {
      "text/plain": [
       "4×4 Matrix{Float64}:\n",
       " 1.0   2.0   3.0  4.0\n",
       " 2.0   2.0  -1.0  2.0\n",
       " 3.0  -1.0   3.0  5.0\n",
       " 4.0  -1.0  -1.0  9.0"
      ]
     },
     "metadata": {},
     "output_type": "display_data"
    }
   ],
   "source": [
    "V = Matrix{Float64}(I, 1, 1)\n",
    "X = [2.0 -1.0 2.0; -1.0 3.0 5.0; -1.0 -1.0 9.0]\n",
    "h = [2.0 3.0 4.0]\n",
    "[V h;h' X]"
   ]
  },
  {
   "cell_type": "code",
   "execution_count": 118,
   "metadata": {},
   "outputs": [
    {
     "data": {
      "text/plain": [
       "1×1 Matrix{Float64}:\n",
       " 1.0"
      ]
     },
     "metadata": {},
     "output_type": "display_data"
    }
   ],
   "source": [
    "h"
   ]
  },
  {
   "cell_type": "code",
   "execution_count": 163,
   "metadata": {},
   "outputs": [
    {
     "data": {
      "text/plain": [
       "3-element Vector{Int64}:\n",
       " 1\n",
       " 2\n",
       " 3"
      ]
     },
     "metadata": {},
     "output_type": "display_data"
    }
   ],
   "source": [
    "v=[1,2,3]\n"
   ]
  },
  {
   "cell_type": "code",
   "execution_count": 16,
   "metadata": {},
   "outputs": [
    {
     "data": {
      "text/plain": [
       "((0, [1.0, 0.0, 0.0, 0.0]), [0.0, 0.0, 0.0, 0.0])"
      ]
     },
     "metadata": {},
     "output_type": "display_data"
    }
   ],
   "source": [
    "x1 =[1.0, 0.0, 0.0, 0.0]\n",
    "house(x1), house2(x1)"
   ]
  },
  {
   "cell_type": "code",
   "execution_count": 17,
   "metadata": {},
   "outputs": [
    {
     "data": {
      "text/plain": [
       "4×4 Matrix{Float64}:\n",
       "  1.0  -0.0  -0.0  -0.0\n",
       " -0.0   1.0  -0.0  -0.0\n",
       " -0.0  -0.0   1.0  -0.0\n",
       " -0.0  -0.0  -0.0   1.0"
      ]
     },
     "metadata": {},
     "output_type": "display_data"
    }
   ],
   "source": [
    "householder(house2(x1))"
   ]
  },
  {
   "cell_type": "code",
   "execution_count": 18,
   "metadata": {},
   "outputs": [
    {
     "data": {
      "text/plain": [
       "(0, [1.0, 0.0, 0.0])"
      ]
     },
     "metadata": {},
     "output_type": "display_data"
    }
   ],
   "source": [
    "house([0,0,0.0])"
   ]
  },
  {
   "cell_type": "code",
   "execution_count": 20,
   "metadata": {},
   "outputs": [
    {
     "data": {
      "text/plain": [
       "3-element Vector{Float64}:\n",
       " 0.0\n",
       " 0.0\n",
       " 0.0"
      ]
     },
     "metadata": {},
     "output_type": "display_data"
    }
   ],
   "source": [
    "house2([-1,0,0.0])"
   ]
  },
  {
   "cell_type": "code",
   "execution_count": 21,
   "metadata": {},
   "outputs": [
    {
     "data": {
      "text/plain": [
       "3-element Vector{Float64}:\n",
       " 1.0\n",
       " 0.0\n",
       " 0.0"
      ]
     },
     "metadata": {},
     "output_type": "display_data"
    }
   ],
   "source": [
    "house2([0,0,0.0])"
   ]
  },
  {
   "cell_type": "code",
   "execution_count": 25,
   "metadata": {},
   "outputs": [
    {
     "data": {
      "text/plain": [
       "3×3 Matrix{Float64}:\n",
       "  1.0  -0.0  -0.0\n",
       " -0.0   1.0  -0.0\n",
       " -0.0  -0.0   1.0"
      ]
     },
     "metadata": {},
     "output_type": "display_data"
    }
   ],
   "source": [
    "householder(house2([-1,0,0.0]))"
   ]
  },
  {
   "cell_type": "code",
   "execution_count": 27,
   "metadata": {},
   "outputs": [
    {
     "data": {
      "text/plain": [
       "((-2, [1.0, 0.0, 0.0, 0.0]), [0.0, 0.0, 0.0, 0.0])"
      ]
     },
     "metadata": {},
     "output_type": "display_data"
    }
   ],
   "source": [
    "xx=[-1.0, 0, 0, 0]\n",
    "house(xx), house2(xx)"
   ]
  },
  {
   "cell_type": "code",
   "execution_count": 29,
   "metadata": {},
   "outputs": [
    {
     "data": {
      "text/plain": [
       "4×4 Matrix{Float64}:\n",
       "  1.0  -0.0  -0.0  -0.0\n",
       " -0.0   1.0  -0.0  -0.0\n",
       " -0.0  -0.0   1.0  -0.0\n",
       " -0.0  -0.0  -0.0   1.0"
      ]
     },
     "metadata": {},
     "output_type": "display_data"
    }
   ],
   "source": [
    "householder(house(xx)[2])"
   ]
  },
  {
   "cell_type": "code",
   "execution_count": 36,
   "metadata": {},
   "outputs": [
    {
     "data": {
      "text/plain": [
       "([1, 0, 0, 0], [NaN, NaN, NaN, NaN])"
      ]
     },
     "metadata": {},
     "output_type": "display_data"
    }
   ],
   "source": [
    "vv = [-1, 0, 0, 0]\n",
    "house(vv)[2], house2(vv)"
   ]
  },
  {
   "cell_type": "code",
   "execution_count": 39,
   "metadata": {},
   "outputs": [
    {
     "data": {
      "text/plain": [
       "4-element Vector{Float64}:\n",
       " 7.0\n",
       " 0.0\n",
       " 0.0\n",
       " 0.0"
      ]
     },
     "metadata": {},
     "output_type": "display_data"
    }
   ],
   "source": [
    "householder2(vv)"
   ]
  },
  {
   "cell_type": "code",
   "execution_count": null,
   "metadata": {},
   "outputs": [],
   "source": []
  }
 ],
 "metadata": {
  "kernelspec": {
   "display_name": "Julia 1.10.2",
   "language": "julia",
   "name": "julia-1.10"
  },
  "language_info": {
   "file_extension": ".jl",
   "mimetype": "application/julia",
   "name": "julia",
   "version": "1.10.2"
  }
 },
 "nbformat": 4,
 "nbformat_minor": 2
}
