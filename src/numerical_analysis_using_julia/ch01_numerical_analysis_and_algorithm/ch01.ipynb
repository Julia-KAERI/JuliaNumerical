{
 "cells": [
  {
   "cell_type": "code",
   "execution_count": 1,
   "metadata": {},
   "outputs": [
    {
     "data": {
      "text/plain": [
       "mygcd (generic function with 1 method)"
      ]
     },
     "metadata": {},
     "output_type": "display_data"
    }
   ],
   "source": [
    "\n",
    "function mygcd(a::T, b::T) where T<:Integer     \n",
    "    a, b = minmax(a, b) \n",
    "    while(b ≠ 0)\n",
    "        a, b = b, rem(a, b)\n",
    "    end\n",
    "    return a\n",
    "end"
   ]
  },
  {
   "cell_type": "code",
   "execution_count": 3,
   "metadata": {},
   "outputs": [
    {
     "data": {
      "text/plain": [
       "0x00000003"
      ]
     },
     "metadata": {},
     "output_type": "display_data"
    }
   ],
   "source": [
    "mygcd(UInt32(33), UInt32(336))"
   ]
  },
  {
   "cell_type": "code",
   "execution_count": 9,
   "metadata": {},
   "outputs": [],
   "source": []
  },
  {
   "cell_type": "code",
   "execution_count": 8,
   "metadata": {},
   "outputs": [
    {
     "data": {
      "text/plain": [
       "poly1 (generic function with 1 method)"
      ]
     },
     "metadata": {},
     "output_type": "display_data"
    }
   ],
   "source": [
    "function poly1(coeff::Vector{T}) where T<:Number\n",
    "    return x -> sum(coeff .* (x .^ (0:(length(coeff)-1))))\n",
    "end"
   ]
  },
  {
   "cell_type": "code",
   "execution_count": 9,
   "metadata": {},
   "outputs": [
    {
     "data": {
      "text/plain": [
       "#13 (generic function with 1 method)"
      ]
     },
     "metadata": {},
     "output_type": "display_data"
    }
   ],
   "source": [
    "ff = poly1([1.0, -2.0, 1.0])"
   ]
  },
  {
   "cell_type": "code",
   "execution_count": 10,
   "metadata": {},
   "outputs": [
    {
     "data": {
      "text/plain": [
       "0.0"
      ]
     },
     "metadata": {},
     "output_type": "display_data"
    }
   ],
   "source": [
    "ff(1.0)"
   ]
  },
  {
   "cell_type": "code",
   "execution_count": 14,
   "metadata": {},
   "outputs": [],
   "source": [
    "struct SimplePolynomial{T}\n",
    "    coeffs :: Vector{T}\n",
    "    function SimplePolynomial(coeff::Vector{T}) where T <: Number\n",
    "        if length(coeff) == 0 \n",
    "            return new{T}(zeros(T, 1))\n",
    "        else \n",
    "            last_nz =findlast(!iszero, coeff)\n",
    "            coeff_last = max(1, isnothing(last_nz) ? 0 : last_nz)\n",
    "            new{T}(coeff[1:coeff_last])\n",
    "        end\n",
    "    end\n",
    "end\n",
    "\n",
    "using LinearAlgebra\n",
    "\n",
    "function (p::SimplePolynomial)(x::T) where T <: Number\n",
    "    r = p.coeffs[1]\n",
    "    for i in 2:length(p.coeffs)\n",
    "        r +=  p.coeffs[i]*x^(i-1)\n",
    "    end\n",
    "    return r\n",
    "end\n",
    "\n",
    "function (p::SimplePolynomial)(x::T) where T <: Matrix{N} where N<:Number\n",
    "    r = UniformScaling(p.coeffs[1])\n",
    "    @assert size(x)[1] == size(x)[2] # 정사각 행렬에 대해서만 가능하다.\n",
    "    for i in 2:length(p.coeffs)\n",
    "        r +=  p.coeffs[i]*x^(i-1)\n",
    "    end\n",
    "    return r\n",
    "end"
   ]
  },
  {
   "cell_type": "code",
   "execution_count": 15,
   "metadata": {},
   "outputs": [
    {
     "data": {
      "text/plain": [
       "SimplePolynomial{Float64}([1.0, 2.0, 3.0])"
      ]
     },
     "metadata": {},
     "output_type": "display_data"
    }
   ],
   "source": [
    "f2 = SimplePolynomial([1.0, 2.0, 3.0])"
   ]
  },
  {
   "cell_type": "code",
   "execution_count": 16,
   "metadata": {},
   "outputs": [
    {
     "data": {
      "text/plain": [
       "1.0"
      ]
     },
     "metadata": {},
     "output_type": "display_data"
    }
   ],
   "source": [
    "f2(0.0)"
   ]
  },
  {
   "cell_type": "code",
   "execution_count": null,
   "metadata": {},
   "outputs": [],
   "source": []
  },
  {
   "cell_type": "code",
   "execution_count": null,
   "metadata": {},
   "outputs": [],
   "source": []
  },
  {
   "cell_type": "code",
   "execution_count": null,
   "metadata": {},
   "outputs": [],
   "source": []
  },
  {
   "cell_type": "code",
   "execution_count": null,
   "metadata": {},
   "outputs": [],
   "source": []
  },
  {
   "cell_type": "code",
   "execution_count": 33,
   "metadata": {},
   "outputs": [],
   "source": []
  },
  {
   "cell_type": "code",
   "execution_count": 10,
   "metadata": {},
   "outputs": [],
   "source": [
    "\n",
    "    "
   ]
  },
  {
   "cell_type": "code",
   "execution_count": 86,
   "metadata": {},
   "outputs": [],
   "source": [
    "def gcd_nonrecusing(a, b):\n",
    "    c = max(a, b)\n",
    "    d = (a+b)-c\n",
    "    r = c-d\n",
    "    while(r>0) :\n",
    "        c=max(r, d)\n",
    "        d = r+d -c\n",
    "        r = c-d \n",
    "    return d \n",
    "\n",
    "\n",
    "def gcd_recusing(a, b) :\n",
    "    if a<b :\n",
    "        a, b = b, a\n",
    "    if b == (a-b)  :\n",
    "        return b\n",
    "    else :\n",
    "        return gcd_recusing(a-b, b)"
   ]
  },
  {
   "cell_type": "code",
   "execution_count": 87,
   "metadata": {},
   "outputs": [
    {
     "name": "stdout",
     "output_type": "stream",
     "text": [
      "13 13\n"
     ]
    }
   ],
   "source": [
    "print(gcd_nonrecusing(130, 13), gcd_recusing(130, 13))"
   ]
  },
  {
   "cell_type": "code",
   "execution_count": 151,
   "metadata": {},
   "outputs": [
    {
     "name": "stdout",
     "output_type": "stream",
     "text": [
      "break\n",
      "One solution is = 0.4581451416015625\n",
      "One solution is = 0.4581451416015625\n"
     ]
    }
   ],
   "source": [
    "def myfunc(x):\n",
    "    return x**2-2*x-3\n",
    "\n",
    "def myfunc2(x) :\n",
    "    return -10.0+4*math.exp(2*x)\n",
    "a=100\n",
    "\n",
    "def bisection_nonrecursive(func, a, b, xtol = 1.0e-5, ftol = 1.0e-5):\n",
    "    \n",
    "    if func(a) * func(b) > 0 :\n",
    "        raise Exception(\"func(a) * func(b) should be negative\")\n",
    "    \n",
    "    if b<a :\n",
    "        a, b = b, a\n",
    "\n",
    "    \n",
    "    while True :        \n",
    "        c=(b+a)/2\n",
    "        if abs(func((b+a)/2)) < ftol :\n",
    "            print(\"break\")\n",
    "            break\n",
    "\n",
    "        if func(a)*func(c)<0 :\n",
    "            b = c\n",
    "        else :\n",
    "            a = c\n",
    "    return c\n",
    "\n",
    "def bisection_recursive(func, a, b, ftol=1.0e-5) :\n",
    "    \n",
    "    if func(a) * func(b) > 0 :\n",
    "        raise Exception(\"func(a) * func(b) should be negative\")\n",
    "    # Let a < b\n",
    "\n",
    "    if a>b :\n",
    "        a, b = b, a \n",
    "    \n",
    "    # c is center of a and b\n",
    "    c=(a+b)/2.\n",
    "\n",
    "    if abs(func(c)) < ftol :\n",
    "        return c\n",
    "\n",
    "    elif func(a) * func(c) < 0 :\n",
    "        return bisection_recursive(func, a, c)\n",
    "    else :\n",
    "\n",
    "        return bisection_recursive(func, c, b)\n",
    "    \n",
    "\n",
    "\n",
    "\n",
    "\n",
    "#print(f\"One solution is = {bisection_nonrecursive(myfunc, 0, 4)}\")\n",
    "print(f\"One solution is = {bisection_nonrecursive(myfunc2, 0, 4)}\")\n",
    "print(f\"One solution is = {bisection_recursive(myfunc2, 0, 4)}\")"
   ]
  },
  {
   "cell_type": "code",
   "execution_count": 143,
   "metadata": {},
   "outputs": [
    {
     "data": {
      "text/plain": [
       "-4.486709293871627e-06"
      ]
     },
     "execution_count": 143,
     "metadata": {},
     "output_type": "execute_result"
    }
   ],
   "source": [
    "myfunc2(0.4581451416015625)"
   ]
  },
  {
   "cell_type": "code",
   "execution_count": null,
   "metadata": {},
   "outputs": [],
   "source": []
  }
 ],
 "metadata": {
  "kernelspec": {
   "display_name": "Julia 1.8.5",
   "language": "julia",
   "name": "julia-1.8"
  },
  "language_info": {
   "file_extension": ".jl",
   "mimetype": "application/julia",
   "name": "julia",
   "version": "1.8.5"
  },
  "orig_nbformat": 4,
  "vscode": {
   "interpreter": {
    "hash": "c6e4e9f98eb68ad3b7c296f83d20e6de614cb42e90992a65aa266555a3137d0d"
   }
  }
 },
 "nbformat": 4,
 "nbformat_minor": 2
}
