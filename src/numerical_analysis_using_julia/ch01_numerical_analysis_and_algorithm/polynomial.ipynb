{
 "cells": [
  {
   "cell_type": "code",
   "execution_count": 6,
   "metadata": {},
   "outputs": [
    {
     "data": {
      "text/plain": [
       "newton_polynomial (generic function with 1 method)"
      ]
     },
     "metadata": {},
     "output_type": "display_data"
    }
   ],
   "source": [
    "using BenchmarkTools, Plots, LinearAlgebra\n",
    "gr()\n",
    "include(\"../lib/polynomial.jl\")"
   ]
  },
  {
   "cell_type": "code",
   "execution_count": 84,
   "metadata": {},
   "outputs": [
    {
     "data": {
      "text/plain": [
       "newton_polynomial (generic function with 1 method)"
      ]
     },
     "metadata": {},
     "output_type": "display_data"
    }
   ],
   "source": []
  },
  {
   "cell_type": "code",
   "execution_count": 6,
   "metadata": {},
   "outputs": [],
   "source": [
    "N=10\n",
    "xp = collect(1.0:1.0:N)\n",
    "yp = (rand(Float64, N) .- 0.5) .* 30.0;\n"
   ]
  },
  {
   "cell_type": "code",
   "execution_count": 7,
   "metadata": {},
   "outputs": [],
   "source": [
    "s = newton_polynomial(xp, yp)\n",
    "p = lagrange_polynomial(xp, yp);\n"
   ]
  },
  {
   "cell_type": "code",
   "execution_count": 8,
   "metadata": {},
   "outputs": [
    {
     "data": {
      "text/plain": [
       "(10.912999703374226, 10.91299969854299, 10.91299970134448)"
      ]
     },
     "metadata": {},
     "output_type": "display_data"
    }
   ],
   "source": [
    "k=7\n",
    "s(xp[k]), p(xp[k]), yp[k]"
   ]
  },
  {
   "cell_type": "code",
   "execution_count": 9,
   "metadata": {},
   "outputs": [
    {
     "data": {
      "text/plain": [
       "SimplePolynomial{Float64}([-23593.794866049968, 50405.81347698982, -43147.7047567446, 19624.377155738184, -5245.744471001691, 851.238802588933, -82.4490714769989, 4.381930659281619, -0.09827574006645079])"
      ]
     },
     "metadata": {},
     "output_type": "display_data"
    }
   ],
   "source": [
    "derivative(s)"
   ]
  },
  {
   "cell_type": "code",
   "execution_count": 8,
   "metadata": {},
   "outputs": [
    {
     "ename": "MethodError",
     "evalue": "MethodError: no method matching SimplePolynomial(::Tuple{Int64, Int64, Int64})\nClosest candidates are:\n  SimplePolynomial(!Matched::AbstractVector{T}) where T<:Number at /Volumes/SJYData/devdoc/Books/Basic Numerical Analysis using Julia/docs/lib/polynomial.jl:14",
     "output_type": "error",
     "traceback": [
      "MethodError: no method matching SimplePolynomial(::Tuple{Int64, Int64, Int64})\n",
      "Closest candidates are:\n",
      "  SimplePolynomial(!Matched::AbstractVector{T}) where T<:Number at /Volumes/SJYData/devdoc/Books/Basic Numerical Analysis using Julia/docs/lib/polynomial.jl:14\n",
      "\n",
      "Stacktrace:\n",
      " [1] top-level scope\n",
      "   @ /Volumes/SJYData/devdoc/Books/Basic Numerical Analysis using Julia/docs/ch01_numerical_analysis_and_algorithm/polynomial.ipynb:1"
     ]
    }
   ],
   "source": [
    "qq = SimplePolynomial((1, 2, 6))"
   ]
  },
  {
   "cell_type": "code",
   "execution_count": 11,
   "metadata": {},
   "outputs": [
    {
     "data": {
      "text/plain": [
       "SimplePolynomial{Int64}([2, 12])"
      ]
     },
     "metadata": {},
     "output_type": "display_data"
    }
   ],
   "source": [
    "derivative(qq)"
   ]
  },
  {
   "cell_type": "code",
   "execution_count": 12,
   "metadata": {},
   "outputs": [
    {
     "data": {
      "text/plain": [
       "SimplePolynomial{Float64}([1.0, 1.0, 1.0, 2.0])"
      ]
     },
     "metadata": {},
     "output_type": "display_data"
    }
   ],
   "source": [
    "integrate(qq, 1.0, 5.0)"
   ]
  },
  {
   "cell_type": "code",
   "execution_count": 14,
   "metadata": {},
   "outputs": [
    {
     "data": {
      "text/plain": [
       "f (generic function with 1 method)"
      ]
     },
     "metadata": {},
     "output_type": "display_data"
    }
   ],
   "source": [
    "f(x) = qq(x)/sin(x)"
   ]
  },
  {
   "cell_type": "code",
   "execution_count": 15,
   "metadata": {},
   "outputs": [
    {
     "data": {
      "text/plain": [
       "9.0"
      ]
     },
     "metadata": {},
     "output_type": "display_data"
    }
   ],
   "source": [
    "qq(1.0)"
   ]
  },
  {
   "cell_type": "code",
   "execution_count": 16,
   "metadata": {},
   "outputs": [
    {
     "data": {
      "text/plain": [
       "SimplePolynomial{Int64}([1, 2, 6])"
      ]
     },
     "metadata": {},
     "output_type": "display_data"
    }
   ],
   "source": [
    "qq"
   ]
  },
  {
   "cell_type": "code",
   "execution_count": 5,
   "metadata": {},
   "outputs": [
    {
     "ename": "UndefVarError",
     "evalue": "UndefVarError: SimplePolynomial not defined",
     "output_type": "error",
     "traceback": [
      "UndefVarError: SimplePolynomial not defined\n",
      "\n",
      "Stacktrace:\n",
      " [1] top-level scope\n",
      "   @ /Volumes/SJYData/devdoc/Books/Basic Numerical Analysis using Julia/docs/ch01_numerical_analysis_and_algorithm/polynomial.ipynb:1"
     ]
    }
   ],
   "source": [
    "SimplePolynomial((2, 3, 4))"
   ]
  },
  {
   "cell_type": "code",
   "execution_count": 3,
   "metadata": {},
   "outputs": [
    {
     "ename": "UndefVarError",
     "evalue": "UndefVarError: T not defined",
     "output_type": "error",
     "traceback": [
      "UndefVarError: T not defined\n",
      "\n",
      "Stacktrace:\n",
      " [1] mystruct(x::Int64)\n",
      "   @ Main /Volumes/SJYData/devdoc/Books/Basic Numerical Analysis using Julia/docs/ch01_numerical_analysis_and_algorithm/polynomial.ipynb:4\n",
      " [2] top-level scope\n",
      "   @ /Volumes/SJYData/devdoc/Books/Basic Numerical Analysis using Julia/docs/ch01_numerical_analysis_and_algorithm/polynomial.ipynb:1"
     ]
    }
   ],
   "source": [
    "mystruct(3)"
   ]
  },
  {
   "cell_type": "code",
   "execution_count": 60,
   "metadata": {},
   "outputs": [
    {
     "data": {
      "text/plain": [
       "SimplePolynomial : 6.0 x^5 + 4.0 x^3 + 2.0 x^2 + 1.0 x^0 \n"
      ]
     },
     "metadata": {},
     "output_type": "display_data"
    }
   ],
   "source": [
    "pp2 = SimplePolynomial([1.0, 0.0, 2.0, 4.0, 0.0, 6.0])"
   ]
  },
  {
   "cell_type": "code",
   "execution_count": 75,
   "metadata": {},
   "outputs": [
    {
     "data": {
      "text/plain": [
       "SimplePolynomial :  + 1.0 x^3 - 4.0 x^2 + 5.0 x^1 - 2.0 \n"
      ]
     },
     "metadata": {},
     "output_type": "display_data"
    }
   ],
   "source": [
    "pp3 = polynomial_from_roots([1.0, 1.0, 2.0])"
   ]
  },
  {
   "cell_type": "code",
   "execution_count": 13,
   "metadata": {},
   "outputs": [],
   "source": [
    "function Base.show(io::IO, p::SimplePolynomial{T}) where T<:Number\n",
    "    result = \"\"\n",
    "    n = length(p)\n",
    "    for (i, v) in enumerate(p.coeffs[end:-1:1])\n",
    "        if v > zero(T) && i>1\n",
    "            result *= \" + $(v) x^$(n-i)\"\n",
    "        elseif v > zero(T)\n",
    "            result *= \"$(v) x^$(n-i)\"\n",
    "        elseif v<zero(T)\n",
    "            result *= \" - $(abs(v)) x^$(n-i)\"\n",
    "        end\n",
    "\n",
    "        if i == n \n",
    "            result = result[1:end-3]\n",
    "        end\n",
    "    end\n",
    "    println(io, \"SimplePolynomial : $(result[1:end])\")\n",
    "end\n"
   ]
  },
  {
   "cell_type": "code",
   "execution_count": 15,
   "metadata": {},
   "outputs": [
    {
     "name": "stdout",
     "output_type": "stream",
     "text": [
      "SimplePolynomial : 6.0 x^1 + 2.0 \n",
      "\n",
      "SimplePolynomial : 1.0 x^3 + 1.0 x^2 + 1.0 \n",
      "\n"
     ]
    }
   ],
   "source": [
    "p = SimplePolynomial([1.0, 2.0, 3.0])\n",
    "println(derivative(p))\n",
    "println(integrate(p, 0))"
   ]
  },
  {
   "cell_type": "code",
   "execution_count": 17,
   "metadata": {},
   "outputs": [
    {
     "name": "stdout",
     "output_type": "stream",
     "text": [
      "x₃   \n"
     ]
    }
   ],
   "source": [
    "println(\"x₃   \")"
   ]
  },
  {
   "cell_type": "code",
   "execution_count": null,
   "metadata": {},
   "outputs": [],
   "source": []
  }
 ],
 "metadata": {
  "kernelspec": {
   "display_name": "Julia 1.8.5",
   "language": "julia",
   "name": "julia-1.8"
  },
  "language_info": {
   "file_extension": ".jl",
   "mimetype": "application/julia",
   "name": "julia",
   "version": "1.8.5"
  },
  "orig_nbformat": 4
 },
 "nbformat": 4,
 "nbformat_minor": 2
}
