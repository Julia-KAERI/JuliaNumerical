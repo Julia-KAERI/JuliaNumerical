{
 "cells": [
  {
   "cell_type": "code",
   "execution_count": 1,
   "metadata": {},
   "outputs": [],
   "source": [
    "using LinearAlgebra"
   ]
  },
  {
   "cell_type": "code",
   "execution_count": 2,
   "metadata": {},
   "outputs": [
    {
     "data": {
      "text/plain": [
       "gauss_jordan_elimination (generic function with 2 methods)"
      ]
     },
     "metadata": {},
     "output_type": "display_data"
    }
   ],
   "source": [
    "function gauss_jordan_elimination(A::Matrix, b::Union{Nothing, Vector, Matrix}=nothing; eptols = 1.0e-10)\n",
    "    m, n = size(A)\n",
    "\n",
    "    if b ≠ nothing\n",
    "        @assert m == size(b)[1]\n",
    "        B = [A b]\n",
    "    else\n",
    "        B = A\n",
    "    end\n",
    "    println(B)\n",
    "    \n",
    "    ld = 0 #선행 1 성분의 column index\n",
    "\n",
    "    for i in 1:m\n",
    "        termination = true # 종료 조건\n",
    "        for j in (ld+1):n\n",
    "            p = argmax(abs.(B[i:end, j])) + i -1\n",
    "            \n",
    "            if abs(B[p, j]) > eptols\n",
    "                B[i,:], B[p, :] = B[p, :], B[i,:]\n",
    "                ld = j\n",
    "                termination = false\n",
    "                break\n",
    "            end\n",
    "        end\n",
    "\n",
    "        if termination \n",
    "            break\n",
    "        end\n",
    "        \n",
    "        B[i, :] .= B[i, :]./B[i, ld]\n",
    "        \n",
    "        # 선행 1 성분의 열을 자신을 제외하고는 제거\n",
    "        for k in 1:m\n",
    "            if k ≠ i \n",
    "                B[k, :] .= B[k, :] .- (B[k, ld].* B[i, :])\n",
    "            end\n",
    "        end\n",
    "    end\n",
    "\n",
    "    if b ≠ nothing \n",
    "         return B[:, 1:n], B[:,(n+1):end]\n",
    "    else \n",
    "         return B\n",
    "    end\n",
    "end"
   ]
  },
  {
   "cell_type": "code",
   "execution_count": 3,
   "metadata": {},
   "outputs": [
    {
     "name": "stdout",
     "output_type": "stream",
     "text": [
      "[1.1 0.0 0.0 0.0 1.0 0.0 0.0 0.0; 2.0 2.0 0.0 0.0 0.0 1.0 0.0 0.0; 3.0 0.3 -3.0 0.0 0.0 0.0 1.0 0.0; 5.0 -2.0 3.0 7.0 0.0 0.0 0.0 1.0]\n"
     ]
    },
    {
     "data": {
      "text/plain": [
       "4×4 Matrix{Float64}:\n",
       " -1.11022e-16   3.05311e-17   0.0           3.05311e-17\n",
       "  0.0           0.0          -5.55112e-17  -2.77556e-17\n",
       "  1.11022e-16  -9.71445e-17   0.0          -9.57567e-17\n",
       " -6.66134e-16   2.35922e-16  -5.55112e-17   2.22045e-16"
      ]
     },
     "metadata": {},
     "output_type": "display_data"
    }
   ],
   "source": [
    "L = [1.1 0. 0. 0.; 2. 2. 0. 0.; 3. 0.3 -3. 0.; 5. -2. 3. 7.]\n",
    "b = one(L)\n",
    "L2, x = gauss_jordan_elimination(L, b)\n",
    "L*x .- b"
   ]
  },
  {
   "cell_type": "code",
   "execution_count": 4,
   "metadata": {},
   "outputs": [
    {
     "data": {
      "text/plain": [
       "4×4 Matrix{Float64}:\n",
       "  1.0           3.05311e-17   0.0           3.05311e-17\n",
       "  0.0           1.0          -5.55112e-17  -2.77556e-17\n",
       "  1.11022e-16  -9.71445e-17   1.0          -9.57567e-17\n",
       " -6.66134e-16   2.35922e-16  -5.55112e-17   1.0"
      ]
     },
     "metadata": {},
     "output_type": "display_data"
    }
   ],
   "source": [
    "L*x"
   ]
  },
  {
   "cell_type": "code",
   "execution_count": 44,
   "metadata": {},
   "outputs": [
    {
     "data": {
      "text/plain": [
       "PLU2 (generic function with 1 method)"
      ]
     },
     "metadata": {},
     "output_type": "display_data"
    }
   ],
   "source": [
    "function PLU(A::Matrix; eptols = 1.0e-10)\n",
    "    m, n = size(A)\n",
    "    @assert m == n\n",
    "\n",
    "    L, P, U = one(A), one(A), zero(A)\n",
    "    B = copy(A)\n",
    "    \n",
    "    for i in 1:(m-1)\n",
    "        # p 는 i 행과 피보팅을 하는 행벡터이다.\n",
    "        p = findmax(abs.(B[i:end, i]))[2] + i -1\n",
    "        \n",
    "        if abs(B[p, i]) < eptols\n",
    "            error(\"Singularity error\")    \n",
    "        end\n",
    "\n",
    "        # 행교환 행렬 P 와 계산하는 행렬 B 에 대한 피보팅\n",
    "        P[i,:], P[p, :] = P[p, :], P[i, :]\n",
    "        B[i,:], B[p, :] = B[p, :], B[i, :]\n",
    "        \n",
    "        if i>1\n",
    "            L[i,1:i-1], L[p, 1:i-1] = L[p, 1:i-1], L[i, 1:i-1]\n",
    "        end\n",
    "        \n",
    "        U[i, i] = B[i, i]\n",
    "        U[i, (i+1):end] = B[i, (i+1):end]\n",
    "        L[(i+1):end, i] = B[(i+1):end, i] / B[i, i]\n",
    "        B[(i+1):end, (i+1):end] = B[(i+1):end, (i+1):end] - (L[(i+1):end, i:i] * U[i:i, (i+1):end])\n",
    "    end\n",
    "    U[m, m] = B[m, m]\n",
    "    return P, L, U\n",
    "end\n",
    "\n",
    "function PLU2(A::Matrix; eptols = 1.0e-10)\n",
    "    m, n = size(A)\n",
    "    M1, M2 = minmax(m, n)\n",
    "\n",
    "    II = Float64.(Matrix(I, M2, M2))\n",
    "    L = II[1:m, 1:n]\n",
    "    P = II[1:m, 1:m]\n",
    "    U = zeros(n, n)\n",
    "\n",
    "    B = copy(A)\n",
    "    for i in 1:(M1-1)\n",
    "        # p 는 i 행과 피보팅을 하는 행벡터이다.\n",
    "        p = findmax(abs.(B[i:end, i]))[2] + i -1\n",
    "   \n",
    "        if abs(B[p, i]) < eptols\n",
    "            error(\"Singularity error\")    \n",
    "        end\n",
    "\n",
    "        # 행교환 행렬 P 와 계산하는 행렬 B 에 대한 피보팅\n",
    "        P[i,:], P[p, :] = P[p, :], P[i, :]\n",
    "        B[i,:], B[p, :] = B[p, :], B[i, :]\n",
    "        \n",
    "        if i>1\n",
    "            L[i,1:i-1], L[p, 1:i-1] = L[p, 1:i-1], L[i, 1:i-1]\n",
    "        end\n",
    "        \n",
    "        U[i, i] = B[i, i]\n",
    "        U[i, (i+1):end] = B[i, (i+1):end]\n",
    "        L[(i+1):end, i] = B[(i+1):end, i] / B[i, i]\n",
    "        B[(i+1):end, (i+1):end] = B[(i+1):end, (i+1):end] - (L[(i+1):end, i:i] * U[i:i, (i+1):end])\n",
    "    end\n",
    "    #U[m, m] = B[m, m]\n",
    "    return P, L, U\n",
    "end"
   ]
  },
  {
   "cell_type": "code",
   "execution_count": 45,
   "metadata": {},
   "outputs": [
    {
     "data": {
      "text/plain": [
       "5×5 Matrix{Float64}:\n",
       " 3.38911   0.98166    0.565677  0.482919  0.640385\n",
       " 0.383832  3.94393    0.987403  0.230645  0.397523\n",
       " 0.913796  0.157428   3.259     0.92937   0.927977\n",
       " 0.78926   0.806854   0.67686   3.18598   0.193107\n",
       " 0.293189  0.0649724  0.996866  0.532894  3.33063"
      ]
     },
     "metadata": {},
     "output_type": "display_data"
    }
   ],
   "source": [
    "A = 3.0*I + rand(5, 5)"
   ]
  },
  {
   "cell_type": "code",
   "execution_count": 46,
   "metadata": {},
   "outputs": [
    {
     "data": {
      "text/plain": [
       "([1.0 0.0 … 0.0 0.0; 0.0 1.0 … 0.0 0.0; … ; 0.0 0.0 … 1.0 0.0; 0.0 0.0 … 0.0 1.0], [1.0 0.0 … 0.0 0.0; 0.1132545390117409 1.0 … 0.0 0.0; … ; 0.23288153368151512 0.15086918126469565 … 1.0 0.0; 0.0865093006455428 -0.00520523256881569 … 0.08408985717393506 1.0], [3.389106146919485 0.9816604292842102 … 0.4829187307504622 0.6403854643155922; 0.0 3.832748773453186 … 0.17595240976125126 0.32499595828884476; … ; 0.0 0.0 … 2.942795546491407 -0.1040949220234881; 0.0 0.0 … 0.0 3.053175578874737])"
      ]
     },
     "metadata": {},
     "output_type": "display_data"
    }
   ],
   "source": [
    "P, L, U=PLU(A)"
   ]
  },
  {
   "cell_type": "code",
   "execution_count": 47,
   "metadata": {},
   "outputs": [
    {
     "data": {
      "text/plain": [
       "([1.0 0.0 … 0.0 0.0; 0.0 1.0 … 0.0 0.0; … ; 0.0 0.0 … 1.0 0.0; 0.0 0.0 … 0.0 1.0], [1.0 0.0 … 0.0 0.0; 0.1132545390117409 1.0 … 0.0 0.0; … ; 0.23288153368151512 0.15086918126469565 … 1.0 0.0; 0.0865093006455428 -0.00520523256881569 … 0.08408985717393506 1.0], [3.389106146919485 0.9816604292842102 … 0.4829187307504622 0.6403854643155922; 0.0 3.832748773453186 … 0.17595240976125126 0.32499595828884476; … ; 0.0 0.0 … 2.942795546491407 -0.1040949220234881; 0.0 0.0 … 0.0 0.0])"
      ]
     },
     "metadata": {},
     "output_type": "display_data"
    }
   ],
   "source": [
    "P2, L2, U2 = PLU2(A)"
   ]
  },
  {
   "cell_type": "code",
   "execution_count": 48,
   "metadata": {},
   "outputs": [
    {
     "data": {
      "text/plain": [
       "([1.0 0.0 0.0 0.0; 0.0 1.0 0.0 0.0; 0.0 0.0 1.0 0.0; 0.0 0.0 0.0 1.0], [1.0 0.0 0.0; 0.1132545390117409 1.0 0.0; 0.26962750344329345 -0.027983692365789455 1.0; 0.23288153368151512 0.15086918126469565 0.0], [3.389106146919485 0.9816604292842102 0.5656771574877147; 0.0 3.832748773453186 0.9233372361859908; 0.0 0.0 0.0])"
      ]
     },
     "metadata": {},
     "output_type": "display_data"
    }
   ],
   "source": [
    "P2, L2, U2 = PLU2(A[1:4, 1:3])"
   ]
  },
  {
   "cell_type": "code",
   "execution_count": 53,
   "metadata": {},
   "outputs": [
    {
     "data": {
      "text/plain": [
       "4×3 Matrix{Float64}:\n",
       "  0.0          0.0  0.0\n",
       "  0.0          0.0  0.0\n",
       " -1.11022e-16  0.0  3.13232\n",
       "  0.0          0.0  0.405821"
      ]
     },
     "metadata": {},
     "output_type": "display_data"
    }
   ],
   "source": [
    "A[1:4, 1:3] .- L2*U2"
   ]
  },
  {
   "cell_type": "code",
   "execution_count": 15,
   "metadata": {},
   "outputs": [
    {
     "data": {
      "text/plain": [
       "LU{Float64, Matrix{Float64}, Vector{Int64}}\n",
       "L factor:\n",
       "5×5 Matrix{Float64}:\n",
       " 1.0         0.0       0.0        0.0        0.0\n",
       " 0.181338    1.0       0.0        0.0        0.0\n",
       " 0.00574423  0.123859  1.0        0.0        0.0\n",
       " 0.0134574   0.235726  0.0644889  1.0        0.0\n",
       " 0.0322485   0.233109  0.0861488  0.0581758  1.0\n",
       "U factor:\n",
       "5×5 Matrix{Float64}:\n",
       " 3.79574  0.209682  0.604866  0.00203435   0.134018\n",
       " 0.0      3.51047   0.350753  0.0271711   -0.0149451\n",
       " 0.0      0.0       3.03858   0.559769     0.431379\n",
       " 0.0      0.0       0.0       3.17808      0.427015\n",
       " 0.0      0.0       0.0       0.0          3.92945"
      ]
     },
     "metadata": {},
     "output_type": "display_data"
    }
   ],
   "source": [
    "lu(A)"
   ]
  },
  {
   "cell_type": "code",
   "execution_count": null,
   "metadata": {},
   "outputs": [],
   "source": []
  }
 ],
 "metadata": {
  "kernelspec": {
   "display_name": "Julia 1.9.1",
   "language": "julia",
   "name": "julia-1.9"
  },
  "language_info": {
   "file_extension": ".jl",
   "mimetype": "application/julia",
   "name": "julia",
   "version": "1.9.1"
  },
  "orig_nbformat": 4
 },
 "nbformat": 4,
 "nbformat_minor": 2
}
