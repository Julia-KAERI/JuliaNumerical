{
 "cells": [
  {
   "cell_type": "code",
   "execution_count": 2,
   "metadata": {},
   "outputs": [],
   "source": [
    "using LinearAlgebra"
   ]
  },
  {
   "cell_type": "code",
   "execution_count": 2,
   "metadata": {},
   "outputs": [
    {
     "data": {
      "text/plain": [
       "Us"
      ]
     },
     "metadata": {},
     "output_type": "display_data"
    }
   ],
   "source": [
    "\n",
    "\"\"\"\n",
    "    Ls(A, b)\n",
    "\n",
    "하삼각행렬 A 에 대해 Ax=b 의 해 x 를 구한다.\n",
    "\"\"\"\n",
    "function Ls(L::Matrix, b::Vector) \n",
    "    m, n = size(L)        \n",
    "    x = zeros(n)\n",
    "    x[1] = b[1]/L[1, 1]\n",
    "    for i in 2:n\n",
    "        x[i] = b[i]\n",
    "        for j in 1:1:(i-1)\n",
    "            x[i] -= L[i, j]*x[j]\n",
    "        end\n",
    "        x[i] = x[i]/L[i, i]\n",
    "    end\n",
    "    return x\n",
    "end\n",
    "\n",
    "\"\"\"\n",
    "    Us(A, b)\n",
    "\n",
    "상삼각행렬 A 에 대해 Ax=b 의 해 x 를 구한다.\n",
    "\"\"\"\n",
    "function Us(U::Matrix, b::Vector) \n",
    "    m, n = size(U)    \n",
    "        \n",
    "    x = zeros(n)\n",
    "    x[n] = b[n]/U[n, n]\n",
    "\n",
    "    for i in (n-1):-1:1\n",
    "        x[i] = b[i]\n",
    "        for j in (i+1):1:n\n",
    "            x[i] -= U[i, j] * x[j]\n",
    "        end\n",
    "        x[i] = x[i]/U[i, i]\n",
    "    end\n",
    "    return x\n",
    "end"
   ]
  },
  {
   "cell_type": "code",
   "execution_count": 2,
   "metadata": {},
   "outputs": [
    {
     "data": {
      "text/plain": [
       "4-element Vector{Float64}:\n",
       " 0.0\n",
       " 0.0\n",
       " 1.7763568394002505e-15\n",
       " 0.0"
      ]
     },
     "metadata": {},
     "output_type": "display_data"
    }
   ],
   "source": [
    "L = [1.1 0. 0. 0.; 2. 2. 0. 0.; 3. 0.3 -3. 0.; 5. -2. 3. 7.]\n",
    "b = [3.1; 5.3; -2.2; 6.0]\n",
    "x = Ls(L, b)\n",
    "L*x .- b"
   ]
  },
  {
   "cell_type": "code",
   "execution_count": 3,
   "metadata": {},
   "outputs": [
    {
     "data": {
      "text/plain": [
       "4-element Vector{Float64}:\n",
       " -11.358441558441557\n",
       "   3.2685714285714287\n",
       "   1.5904761904761904\n",
       "   0.8571428571428571"
      ]
     },
     "metadata": {},
     "output_type": "display_data"
    }
   ],
   "source": [
    "U = Matrix(transpose(L))\n",
    "y = Us(U, b)"
   ]
  },
  {
   "cell_type": "code",
   "execution_count": 3,
   "metadata": {},
   "outputs": [
    {
     "data": {
      "text/plain": [
       "LU{Float64, Matrix{Float64}, Vector{Int64}}\n",
       "L factor:\n",
       "2×2 Matrix{Float64}:\n",
       " 1.0       0.0\n",
       " 0.333333  1.0\n",
       "U factor:\n",
       "2×3 Matrix{Float64}:\n",
       " 3.0  3.0  1.0\n",
       " 0.0  2.0  1.66667"
      ]
     },
     "metadata": {},
     "output_type": "display_data"
    }
   ],
   "source": [
    "lu([1 3 2; 3 3 1])"
   ]
  },
  {
   "cell_type": "code",
   "execution_count": null,
   "metadata": {},
   "outputs": [],
   "source": []
  }
 ],
 "metadata": {
  "kernelspec": {
   "display_name": "Julia 1.9.1",
   "language": "julia",
   "name": "julia-1.9"
  },
  "language_info": {
   "file_extension": ".jl",
   "mimetype": "application/julia",
   "name": "julia",
   "version": "1.9.1"
  },
  "orig_nbformat": 4
 },
 "nbformat": 4,
 "nbformat_minor": 2
}
