{
 "cells": [
  {
   "cell_type": "code",
   "execution_count": 1,
   "metadata": {},
   "outputs": [],
   "source": [
    "using BenchmarkTools, LinearAlgebra, Plots, LaTeXStrings"
   ]
  },
  {
   "cell_type": "code",
   "execution_count": 2,
   "metadata": {},
   "outputs": [
    {
     "data": {
      "text/plain": [
       "qr_gram_schmidt (generic function with 2 methods)"
      ]
     },
     "metadata": {},
     "output_type": "display_data"
    }
   ],
   "source": [
    "function qr_gram_schmidt(A::AbstractMatrix{T}, normeps=1.0e-14) where T<:Number\n",
    "    M, N = size(A)\n",
    "    Q = zeros(Float64, (M, N))\n",
    "    R = zeros(Float64, (N, N))\n",
    "    \n",
    "    Q[:,1] = normalize(A[:,1])\n",
    "    R[1,1] = dot(A[:,1], Q[:,1])\n",
    "\n",
    "    for j = 2:N\n",
    "        Uj = A[:,j] \n",
    "        for k = 1:j-1\n",
    "            R[k, j] = dot(A[:,j], Q[:, k])\n",
    "            Uj = Uj .- R[k, j] .* Q[:,k]\n",
    "        end\n",
    "        if norm(Uj)>normeps\n",
    "            Q[:,j]= normalize(Uj)\n",
    "            R[j, j] = dot(A[:,j], Q[:, j])\n",
    "        end \n",
    "    end\n",
    "    return Q, R\n",
    "\n",
    "end"
   ]
  },
  {
   "cell_type": "code",
   "execution_count": 3,
   "metadata": {},
   "outputs": [
    {
     "data": {
      "text/plain": [
       "4×4 adjoint(::Matrix{Float64}) with eltype Float64:\n",
       " 1.0  1.0  0.0  -1.0\n",
       " 1.0  0.0  1.0   2.0\n",
       " 0.0  1.0  0.0   0.0\n",
       " 0.0  0.0  1.0   1.0"
      ]
     },
     "metadata": {},
     "output_type": "display_data"
    }
   ],
   "source": [
    "A = Float64.([1 1 0 0; 1 0 1 0; 0 1 0 1; -1 2 0 1])'"
   ]
  },
  {
   "cell_type": "code",
   "execution_count": 4,
   "metadata": {},
   "outputs": [
    {
     "data": {
      "text/plain": [
       "([0.7071067811865475 0.4082482904638632 -0.28867513459481275 -0.4999999999999999; 0.7071067811865475 -0.40824829046386296 0.28867513459481303 0.49999999999999967; 0.0 0.8164965809277261 0.28867513459481287 0.5000000000000001; 0.0 0.0 0.8660254037844387 -0.5000000000000004], [1.414213562373095 0.7071067811865475 0.7071067811865475 0.7071067811865475; 0.0 1.2247448713915894 -0.40824829046386296 -1.2247448713915892; 0.0 0.0 1.1547005383792517 1.7320508075688776; 0.0 0.0 0.0 0.9999999999999987])"
      ]
     },
     "metadata": {},
     "output_type": "display_data"
    }
   ],
   "source": [
    "Q1, R1 = qr_gram_schmidt(A)"
   ]
  },
  {
   "cell_type": "code",
   "execution_count": 5,
   "metadata": {},
   "outputs": [
    {
     "data": {
      "text/plain": [
       "4×4 Matrix{Float64}:\n",
       " 1.0   1.0          -2.68022e-17  -1.0\n",
       " 1.0  -1.81125e-16   1.0           2.0\n",
       " 0.0   1.0           4.39774e-17  -6.66134e-16\n",
       " 0.0   0.0           1.0           1.0"
      ]
     },
     "metadata": {},
     "output_type": "display_data"
    }
   ],
   "source": [
    "Q1*R1"
   ]
  },
  {
   "cell_type": "code",
   "execution_count": 6,
   "metadata": {},
   "outputs": [
    {
     "data": {
      "image/png": "[encoded data removed]",
      "image/svg+xml": [
       "<?xml version=\"1.0\" encoding=\"utf-8\"?>\n",
       "<svg xmlns=\"http://www.w3.org/2000/svg\" xmlns:xlink=\"http://www.w3.org/1999/xlink\" width=\"600\" height=\"600\" viewBox=\"0 0 2400 2400\">\n",
       "<defs>\n",
       "  <clipPath id=\"clip730\">\n",
       "    <rect x=\"0\" y=\"0\" width=\"2400\" height=\"2400\"/>\n",
       "  </clipPath>\n",
       "</defs>\n",
       "<path clip-path=\"url(#clip730)\" d=\"\n",
       "M0 2400 L2400 2400 L2400 0 L0 0  Z\n",
       "  \" fill=\"#ffffff\" fill-rule=\"evenodd\" fill-opacity=\"1\"/>\n",
       "<defs>\n",
       "  <clipPath id=\"clip731\">\n",
       "    <rect x=\"480\" y=\"240\" width=\"1681\" height=\"1681\"/>\n",
       "  </clipPath>\n",
       "</defs>\n",
       "<path clip-path=\"url(#clip730)\" d=\"\n",
       "M47.2441 2352.76 L2352.76 2352.76 L2352.76 47.2441 L47.2441 47.2441  Z\n",
       "  \" fill=\"#ffffff\" fill-rule=\"evenodd\" fill-opacity=\"1\"/>\n",
       "<defs>\n",
       "  <clipPath id=\"clip732\">\n",
       "    <rect x=\"47\" y=\"47\" width=\"2307\" height=\"2307\"/>\n",
       "  </clipPath>\n",
       "</defs>\n",
       "<polyline clip-path=\"url(#clip730)\" style=\"stroke:#000000; stroke-linecap:round; stroke-linejoin:round; stroke-width:4; stroke-opacity:1; fill:none\" points=\"\n",
       "  47.2441,1584.25 2352.76,1584.25 \n",
       "  \"/>\n",
       "<polyline clip-path=\"url(#clip730)\" style=\"stroke:#000000; stroke-linecap:round; stroke-linejoin:round; stroke-width:4; stroke-opacity:1; fill:none\" points=\"\n",
       "  815.748,2352.76 815.748,47.2441 \n",
       "  \"/>\n",
       "<polyline clip-path=\"url(#clip732)\" style=\"stroke:#0000ff; stroke-linecap:round; stroke-linejoin:round; stroke-width:8; stroke-opacity:1; fill:none\" points=\"\n",
       "  815.748,1584.25 662.047,1200 \n",
       "  \"/>\n",
       "<path clip-path=\"url(#clip732)\" d=\"\n",
       "M675.417 1233.43 L658.705 1240.11 L662.047 1200 L692.13 1226.74  Z\n",
       "  \" fill=\"#0000ff\" fill-rule=\"evenodd\" fill-opacity=\"1\"/>\n",
       "<polyline clip-path=\"url(#clip732)\" style=\"stroke:#0000ff; stroke-linecap:round; stroke-linejoin:round; stroke-width:8; stroke-opacity:1; fill:none\" points=\"\n",
       "  675.417,1233.43 815.748,1584.25 \n",
       "  \"/>\n",
       "<polyline clip-path=\"url(#clip732)\" style=\"stroke:#000000; stroke-linecap:round; stroke-linejoin:round; stroke-width:4; stroke-opacity:1; fill:none\" points=\"\n",
       "  47.2441,1584.25 2352.76,1584.25 \n",
       "  \"/>\n",
       "<path clip-path=\"url(#clip732)\" d=\"\n",
       "M2316.76 1584.25 L2316.76 1566.25 L2352.76 1584.25 L2316.76 1602.25  Z\n",
       "  \" fill=\"#000000\" fill-rule=\"evenodd\" fill-opacity=\"1\"/>\n",
       "<polyline clip-path=\"url(#clip732)\" style=\"stroke:#000000; stroke-linecap:round; stroke-linejoin:round; stroke-width:4; stroke-opacity:1; fill:none\" points=\"\n",
       "  2316.76,1584.25 47.2441,1584.25 \n",
       "  \"/>\n",
       "<polyline clip-path=\"url(#clip732)\" style=\"stroke:#000000; stroke-linecap:round; stroke-linejoin:round; stroke-width:4; stroke-opacity:1; fill:none\" points=\"\n",
       "  815.748,2352.76 815.748,47.2441 \n",
       "  \"/>\n",
       "<path clip-path=\"url(#clip732)\" d=\"\n",
       "M815.748 83.2441 L797.748 83.2441 L815.748 47.2441 L833.748 83.2441  Z\n",
       "  \" fill=\"#000000\" fill-rule=\"evenodd\" fill-opacity=\"1\"/>\n",
       "<polyline clip-path=\"url(#clip732)\" style=\"stroke:#000000; stroke-linecap:round; stroke-linejoin:round; stroke-width:4; stroke-opacity:1; fill:none\" points=\"\n",
       "  815.748,83.2441 815.748,2352.76 \n",
       "  \"/>\n",
       "<polyline clip-path=\"url(#clip732)\" style=\"stroke:#000000; stroke-linecap:round; stroke-linejoin:round; stroke-width:4; stroke-opacity:1; fill:none\" stroke-dasharray=\"16, 10\" points=\"\n",
       "  239.37,1814.8 2160.63,1046.3 \n",
       "  \"/>\n",
       "<polyline clip-path=\"url(#clip732)\" style=\"stroke:#ff0000; stroke-linecap:round; stroke-linejoin:round; stroke-width:8; stroke-opacity:1; fill:none\" points=\"\n",
       "  815.748,1584.25 1392.13,815.748 \n",
       "  \"/>\n",
       "<path clip-path=\"url(#clip732)\" d=\"\n",
       "M1370.53 844.548 L1356.13 833.748 L1392.13 815.748 L1384.93 855.348  Z\n",
       "  \" fill=\"#ff0000\" fill-rule=\"evenodd\" fill-opacity=\"1\"/>\n",
       "<polyline clip-path=\"url(#clip732)\" style=\"stroke:#ff0000; stroke-linecap:round; stroke-linejoin:round; stroke-width:8; stroke-opacity:1; fill:none\" points=\"\n",
       "  1370.53,844.548 815.748,1584.25 \n",
       "  \"/>\n",
       "<polyline clip-path=\"url(#clip732)\" style=\"stroke:#008000; stroke-linecap:round; stroke-linejoin:round; stroke-width:8; stroke-opacity:1; fill:none\" points=\"\n",
       "  815.748,1584.25 1763.13,1743.25 \n",
       "  \"/>\n",
       "<path clip-path=\"url(#clip732)\" d=\"\n",
       "M1727.62 1737.29 L1730.6 1719.54 L1763.13 1743.25 L1724.65 1755.05  Z\n",
       "  \" fill=\"#008000\" fill-rule=\"evenodd\" fill-opacity=\"1\"/>\n",
       "<polyline clip-path=\"url(#clip732)\" style=\"stroke:#008000; stroke-linecap:round; stroke-linejoin:round; stroke-width:8; stroke-opacity:1; fill:none\" points=\"\n",
       "  1727.62,1737.29 815.748,1584.25 \n",
       "  \"/>\n",
       "<path clip-path=\"url(#clip730)\" d=\"M606.489 1108.11 Q603.907 1108.11 602.595 1108.36 Q601.284 1108.57 600.915 1108.89 Q600.546 1109.18 600.259 1109.88 L586.323 1139.76 Q585.749 1140.99 585.093 1141.4 Q584.437 1141.77 583.248 1141.77 Q582.511 1141.77 582.101 1141.68 Q581.732 1141.64 581.117 1141.15 Q580.543 1140.66 580.051 1139.68 L565.336 1108.11 L559.966 1108.11 L559.966 1104.18 L569.558 1104.43 L579.969 1104.18 L579.969 1108.11 L575.419 1108.11 L586.077 1131.03 L595.832 1110.04 L596.242 1109.02 Q596.242 1108.57 594.971 1108.36 Q593.701 1108.11 592.225 1108.11 L592.225 1104.18 L599.849 1104.43 Q603.374 1104.43 606.489 1104.18 L606.489 1108.11 Z\" fill=\"#000000\" fill-rule=\"evenodd\" fill-opacity=\"1\" /><path clip-path=\"url(#clip730)\" d=\"M1452.58 795.776 L1443.36 795.53 L1433.28 795.776 L1433.28 791.841 L1436.55 791.841 L1427.33 780.938 L1419.18 790.078 L1418.6 790.898 Q1418.6 791.267 1419.54 791.554 Q1420.53 791.841 1421.68 791.841 L1421.68 795.776 L1413.03 795.53 L1405.32 795.776 L1405.32 791.841 Q1407.9 791.841 1409.09 791.8 Q1410.32 791.718 1411.72 791.349 Q1413.11 790.98 1413.81 790.242 L1424.79 777.905 L1411.72 762.452 L1405.73 762.452 L1405.73 758.517 L1414.99 758.763 L1425.12 758.517 L1425.12 762.452 L1421.76 762.452 L1430 772.084 L1437.05 764.214 Q1437.09 764.173 1437.74 763.189 Q1436.43 762.452 1434.55 762.452 L1434.55 758.517 L1443.19 758.763 L1450.9 758.517 L1450.9 762.452 Q1447.54 762.452 1445.78 762.698 Q1444.06 762.903 1443.52 763.189 Q1443.03 763.476 1442.33 764.214 L1432.54 775.117 L1446.64 791.841 L1452.58 791.841 L1452.58 795.776 Z\" fill=\"#000000\" fill-rule=\"evenodd\" fill-opacity=\"1\" /><path clip-path=\"url(#clip730)\" d=\"M1805.13 1848.62 Q1801.93 1848.37 1790.13 1848.37 Q1778.28 1848.37 1775.08 1848.62 L1775.08 1844.68 L1784.14 1844.68 L1784.14 1820.66 L1757.21 1820.66 L1757.21 1844.68 L1766.27 1844.68 L1766.27 1848.62 Q1763.07 1848.37 1751.23 1848.37 Q1739.42 1848.37 1736.23 1848.62 L1736.23 1844.68 L1745.28 1844.68 L1745.28 1794.96 L1736.23 1794.96 L1736.23 1791.03 Q1739.42 1791.27 1751.23 1791.27 Q1763.07 1791.27 1766.27 1791.03 L1766.27 1794.96 L1757.21 1794.96 L1757.21 1816.73 L1784.14 1816.73 L1784.14 1794.96 L1775.08 1794.96 L1775.08 1791.03 Q1778.28 1791.27 1790.13 1791.27 Q1801.93 1791.27 1805.13 1791.03 L1805.13 1794.96 L1796.07 1794.96 L1796.07 1844.68 L1805.13 1844.68 L1805.13 1848.62 Z\" fill=\"#000000\" fill-rule=\"evenodd\" fill-opacity=\"1\" /><path clip-path=\"url(#clip730)\" d=\"M1863.68 1848.62 L1854.46 1848.37 L1844.37 1848.62 L1844.37 1844.68 L1847.65 1844.68 L1838.43 1833.78 L1830.27 1842.92 L1829.7 1843.74 Q1829.7 1844.11 1830.64 1844.4 Q1831.63 1844.68 1832.77 1844.68 L1832.77 1848.62 L1824.13 1848.37 L1816.42 1848.62 L1816.42 1844.68 Q1819 1844.68 1820.19 1844.64 Q1821.42 1844.56 1822.81 1844.19 Q1824.21 1843.82 1824.9 1843.09 L1835.89 1830.75 L1822.81 1815.29 L1816.83 1815.29 L1816.83 1811.36 L1826.09 1811.61 L1836.22 1811.36 L1836.22 1815.29 L1832.86 1815.29 L1841.1 1824.93 L1848.15 1817.06 Q1848.19 1817.02 1848.84 1816.03 Q1847.53 1815.29 1845.65 1815.29 L1845.65 1811.36 L1854.29 1811.61 L1862 1811.36 L1862 1815.29 Q1858.64 1815.29 1856.88 1815.54 Q1855.15 1815.75 1854.62 1816.03 Q1854.13 1816.32 1853.43 1817.06 L1843.64 1827.96 L1857.74 1844.68 L1863.68 1844.68 L1863.68 1848.62 Z\" fill=\"#000000\" fill-rule=\"evenodd\" fill-opacity=\"1\" /></svg>\n"
      ],
      "text/html": [
       "<?xml version=\"1.0\" encoding=\"utf-8\"?>\n",
       "<svg xmlns=\"http://www.w3.org/2000/svg\" xmlns:xlink=\"http://www.w3.org/1999/xlink\" width=\"600\" height=\"600\" viewBox=\"0 0 2400 2400\">\n",
       "<defs>\n",
       "  <clipPath id=\"clip760\">\n",
       "    <rect x=\"0\" y=\"0\" width=\"2400\" height=\"2400\"/>\n",
       "  </clipPath>\n",
       "</defs>\n",
       "<path clip-path=\"url(#clip760)\" d=\"\n",
       "M0 2400 L2400 2400 L2400 0 L0 0  Z\n",
       "  \" fill=\"#ffffff\" fill-rule=\"evenodd\" fill-opacity=\"1\"/>\n",
       "<defs>\n",
       "  <clipPath id=\"clip761\">\n",
       "    <rect x=\"480\" y=\"240\" width=\"1681\" height=\"1681\"/>\n",
       "  </clipPath>\n",
       "</defs>\n",
       "<path clip-path=\"url(#clip760)\" d=\"\n",
       "M47.2441 2352.76 L2352.76 2352.76 L2352.76 47.2441 L47.2441 47.2441  Z\n",
       "  \" fill=\"#ffffff\" fill-rule=\"evenodd\" fill-opacity=\"1\"/>\n",
       "<defs>\n",
       "  <clipPath id=\"clip762\">\n",
       "    <rect x=\"47\" y=\"47\" width=\"2307\" height=\"2307\"/>\n",
       "  </clipPath>\n",
       "</defs>\n",
       "<polyline clip-path=\"url(#clip760)\" style=\"stroke:#000000; stroke-linecap:round; stroke-linejoin:round; stroke-width:4; stroke-opacity:1; fill:none\" points=\"\n",
       "  47.2441,1584.25 2352.76,1584.25 \n",
       "  \"/>\n",
       "<polyline clip-path=\"url(#clip760)\" style=\"stroke:#000000; stroke-linecap:round; stroke-linejoin:round; stroke-width:4; stroke-opacity:1; fill:none\" points=\"\n",
       "  815.748,2352.76 815.748,47.2441 \n",
       "  \"/>\n",
       "<polyline clip-path=\"url(#clip762)\" style=\"stroke:#0000ff; stroke-linecap:round; stroke-linejoin:round; stroke-width:8; stroke-opacity:1; fill:none\" points=\"\n",
       "  815.748,1584.25 662.047,1200 \n",
       "  \"/>\n",
       "<path clip-path=\"url(#clip762)\" d=\"\n",
       "M675.417 1233.43 L658.705 1240.11 L662.047 1200 L692.13 1226.74  Z\n",
       "  \" fill=\"#0000ff\" fill-rule=\"evenodd\" fill-opacity=\"1\"/>\n",
       "<polyline clip-path=\"url(#clip762)\" style=\"stroke:#0000ff; stroke-linecap:round; stroke-linejoin:round; stroke-width:8; stroke-opacity:1; fill:none\" points=\"\n",
       "  675.417,1233.43 815.748,1584.25 \n",
       "  \"/>\n",
       "<polyline clip-path=\"url(#clip762)\" style=\"stroke:#000000; stroke-linecap:round; stroke-linejoin:round; stroke-width:4; stroke-opacity:1; fill:none\" points=\"\n",
       "  47.2441,1584.25 2352.76,1584.25 \n",
       "  \"/>\n",
       "<path clip-path=\"url(#clip762)\" d=\"\n",
       "M2316.76 1584.25 L2316.76 1566.25 L2352.76 1584.25 L2316.76 1602.25  Z\n",
       "  \" fill=\"#000000\" fill-rule=\"evenodd\" fill-opacity=\"1\"/>\n",
       "<polyline clip-path=\"url(#clip762)\" style=\"stroke:#000000; stroke-linecap:round; stroke-linejoin:round; stroke-width:4; stroke-opacity:1; fill:none\" points=\"\n",
       "  2316.76,1584.25 47.2441,1584.25 \n",
       "  \"/>\n",
       "<polyline clip-path=\"url(#clip762)\" style=\"stroke:#000000; stroke-linecap:round; stroke-linejoin:round; stroke-width:4; stroke-opacity:1; fill:none\" points=\"\n",
       "  815.748,2352.76 815.748,47.2441 \n",
       "  \"/>\n",
       "<path clip-path=\"url(#clip762)\" d=\"\n",
       "M815.748 83.2441 L797.748 83.2441 L815.748 47.2441 L833.748 83.2441  Z\n",
       "  \" fill=\"#000000\" fill-rule=\"evenodd\" fill-opacity=\"1\"/>\n",
       "<polyline clip-path=\"url(#clip762)\" style=\"stroke:#000000; stroke-linecap:round; stroke-linejoin:round; stroke-width:4; stroke-opacity:1; fill:none\" points=\"\n",
       "  815.748,83.2441 815.748,2352.76 \n",
       "  \"/>\n",
       "<polyline clip-path=\"url(#clip762)\" style=\"stroke:#000000; stroke-linecap:round; stroke-linejoin:round; stroke-width:4; stroke-opacity:1; fill:none\" stroke-dasharray=\"16, 10\" points=\"\n",
       "  239.37,1814.8 2160.63,1046.3 \n",
       "  \"/>\n",
       "<polyline clip-path=\"url(#clip762)\" style=\"stroke:#ff0000; stroke-linecap:round; stroke-linejoin:round; stroke-width:8; stroke-opacity:1; fill:none\" points=\"\n",
       "  815.748,1584.25 1392.13,815.748 \n",
       "  \"/>\n",
       "<path clip-path=\"url(#clip762)\" d=\"\n",
       "M1370.53 844.548 L1356.13 833.748 L1392.13 815.748 L1384.93 855.348  Z\n",
       "  \" fill=\"#ff0000\" fill-rule=\"evenodd\" fill-opacity=\"1\"/>\n",
       "<polyline clip-path=\"url(#clip762)\" style=\"stroke:#ff0000; stroke-linecap:round; stroke-linejoin:round; stroke-width:8; stroke-opacity:1; fill:none\" points=\"\n",
       "  1370.53,844.548 815.748,1584.25 \n",
       "  \"/>\n",
       "<polyline clip-path=\"url(#clip762)\" style=\"stroke:#008000; stroke-linecap:round; stroke-linejoin:round; stroke-width:8; stroke-opacity:1; fill:none\" points=\"\n",
       "  815.748,1584.25 1763.13,1743.25 \n",
       "  \"/>\n",
       "<path clip-path=\"url(#clip762)\" d=\"\n",
       "M1727.62 1737.29 L1730.6 1719.54 L1763.13 1743.25 L1724.65 1755.05  Z\n",
       "  \" fill=\"#008000\" fill-rule=\"evenodd\" fill-opacity=\"1\"/>\n",
       "<polyline clip-path=\"url(#clip762)\" style=\"stroke:#008000; stroke-linecap:round; stroke-linejoin:round; stroke-width:8; stroke-opacity:1; fill:none\" points=\"\n",
       "  1727.62,1737.29 815.748,1584.25 \n",
       "  \"/>\n",
       "<path clip-path=\"url(#clip760)\" d=\"M606.489 1108.11 Q603.907 1108.11 602.595 1108.36 Q601.284 1108.57 600.915 1108.89 Q600.546 1109.18 600.259 1109.88 L586.323 1139.76 Q585.749 1140.99 585.093 1141.4 Q584.437 1141.77 583.248 1141.77 Q582.511 1141.77 582.101 1141.68 Q581.732 1141.64 581.117 1141.15 Q580.543 1140.66 580.051 1139.68 L565.336 1108.11 L559.966 1108.11 L559.966 1104.18 L569.558 1104.43 L579.969 1104.18 L579.969 1108.11 L575.419 1108.11 L586.077 1131.03 L595.832 1110.04 L596.242 1109.02 Q596.242 1108.57 594.971 1108.36 Q593.701 1108.11 592.225 1108.11 L592.225 1104.18 L599.849 1104.43 Q603.374 1104.43 606.489 1104.18 L606.489 1108.11 Z\" fill=\"#000000\" fill-rule=\"evenodd\" fill-opacity=\"1\" /><path clip-path=\"url(#clip760)\" d=\"M1452.58 795.776 L1443.36 795.53 L1433.28 795.776 L1433.28 791.841 L1436.55 791.841 L1427.33 780.938 L1419.18 790.078 L1418.6 790.898 Q1418.6 791.267 1419.54 791.554 Q1420.53 791.841 1421.68 791.841 L1421.68 795.776 L1413.03 795.53 L1405.32 795.776 L1405.32 791.841 Q1407.9 791.841 1409.09 791.8 Q1410.32 791.718 1411.72 791.349 Q1413.11 790.98 1413.81 790.242 L1424.79 777.905 L1411.72 762.452 L1405.73 762.452 L1405.73 758.517 L1414.99 758.763 L1425.12 758.517 L1425.12 762.452 L1421.76 762.452 L1430 772.084 L1437.05 764.214 Q1437.09 764.173 1437.74 763.189 Q1436.43 762.452 1434.55 762.452 L1434.55 758.517 L1443.19 758.763 L1450.9 758.517 L1450.9 762.452 Q1447.54 762.452 1445.78 762.698 Q1444.06 762.903 1443.52 763.189 Q1443.03 763.476 1442.33 764.214 L1432.54 775.117 L1446.64 791.841 L1452.58 791.841 L1452.58 795.776 Z\" fill=\"#000000\" fill-rule=\"evenodd\" fill-opacity=\"1\" /><path clip-path=\"url(#clip760)\" d=\"M1805.13 1848.62 Q1801.93 1848.37 1790.13 1848.37 Q1778.28 1848.37 1775.08 1848.62 L1775.08 1844.68 L1784.14 1844.68 L1784.14 1820.66 L1757.21 1820.66 L1757.21 1844.68 L1766.27 1844.68 L1766.27 1848.62 Q1763.07 1848.37 1751.23 1848.37 Q1739.42 1848.37 1736.23 1848.62 L1736.23 1844.68 L1745.28 1844.68 L1745.28 1794.96 L1736.23 1794.96 L1736.23 1791.03 Q1739.42 1791.27 1751.23 1791.27 Q1763.07 1791.27 1766.27 1791.03 L1766.27 1794.96 L1757.21 1794.96 L1757.21 1816.73 L1784.14 1816.73 L1784.14 1794.96 L1775.08 1794.96 L1775.08 1791.03 Q1778.28 1791.27 1790.13 1791.27 Q1801.93 1791.27 1805.13 1791.03 L1805.13 1794.96 L1796.07 1794.96 L1796.07 1844.68 L1805.13 1844.68 L1805.13 1848.62 Z\" fill=\"#000000\" fill-rule=\"evenodd\" fill-opacity=\"1\" /><path clip-path=\"url(#clip760)\" d=\"M1863.68 1848.62 L1854.46 1848.37 L1844.37 1848.62 L1844.37 1844.68 L1847.65 1844.68 L1838.43 1833.78 L1830.27 1842.92 L1829.7 1843.74 Q1829.7 1844.11 1830.64 1844.4 Q1831.63 1844.68 1832.77 1844.68 L1832.77 1848.62 L1824.13 1848.37 L1816.42 1848.62 L1816.42 1844.68 Q1819 1844.68 1820.19 1844.64 Q1821.42 1844.56 1822.81 1844.19 Q1824.21 1843.82 1824.9 1843.09 L1835.89 1830.75 L1822.81 1815.29 L1816.83 1815.29 L1816.83 1811.36 L1826.09 1811.61 L1836.22 1811.36 L1836.22 1815.29 L1832.86 1815.29 L1841.1 1824.93 L1848.15 1817.06 Q1848.19 1817.02 1848.84 1816.03 Q1847.53 1815.29 1845.65 1815.29 L1845.65 1811.36 L1854.29 1811.61 L1862 1811.36 L1862 1815.29 Q1858.64 1815.29 1856.88 1815.54 Q1855.15 1815.75 1854.62 1816.03 Q1854.13 1816.32 1853.43 1817.06 L1843.64 1827.96 L1857.74 1844.68 L1863.68 1844.68 L1863.68 1848.62 Z\" fill=\"#000000\" fill-rule=\"evenodd\" fill-opacity=\"1\" /></svg>\n"
      ]
     },
     "metadata": {},
     "output_type": "display_data"
    }
   ],
   "source": [
    "# Householder\n",
    "\n",
    "function householder_reflection(v::Union{Vector{T}, Matrix{T}}, τ=2.0) where T<:Number\n",
    "    if x<:Vector\n",
    "        v = normalize(hcat(x))\n",
    "    else\n",
    "        v = copy(x)\n",
    "    end\n",
    "\n",
    "    Hv = I - τ * (v1 * v1')\n",
    "    return Hv\n",
    "end\n",
    "\n",
    "\n",
    "τ = 2.0\n",
    "v = [-0.4; 1.0]\n",
    "v1 = hcat(v)\n",
    "vp = hcat([-v[2], v[1]]) # unit perpendicular vector to v1\n",
    "Hv = I - τ * (v1 * v1')/(norm(v1)^2)\n",
    "x = hcat([1.5, 2.0])\n",
    "x2 = Hv*x\n",
    "plot([0, v[1]], [0, v[2]], frame=:origin, xlim=(-2, 4), ylim=(-2, 4), arrow=(:closed, 2.0), \n",
    "    aspect_ratio = :equal, xticks=[], yticks=[],label=nothing, lc=:blue, lw=2, size=(600, 600))\n",
    "annotate!(v[1]-0.2, v[2]+0.2, L\"$\\textbf{v}$\", :color)\n",
    "plot!([-2, 4], [0, 0], lc=:black, lw=1 ,label = nothing, arrow=(:closed, 3.0))\n",
    "plot!([0, 0], [-2, 4], lc=:black, lw=1 ,label = nothing, arrow=(:closed, 2.0))\n",
    "\n",
    "plot!([-1.5, 3.5], [vp[2]/vp[1]*(-1.5), vp[2]/vp[1]*3.5], lc=:black, lw=1 ,ls=:dash, label = nothing)\n",
    "\n",
    "plot!([0, x[1]], [0, x[2]],  arrow=(:closed, 2.0), label=nothing, lc=:red, lw=2)\n",
    "annotate!(x[1]+0.1, x[2]+0.1, L\"$\\textbf{x}$\", :color)\n",
    "\n",
    "plot!([0, x2[1]], [0, x2[2]],  arrow=(:closed, 2.0), label=nothing, lc=:green, lw=2)\n",
    "annotate!(x2[1]+0.1, x2[2]-0.2, L\"$\\textbf{Hx}$\", :color)"
   ]
  },
  {
   "cell_type": "code",
   "execution_count": 7,
   "metadata": {},
   "outputs": [],
   "source": []
  },
  {
   "cell_type": "code",
   "execution_count": 7,
   "metadata": {},
   "outputs": [
    {
     "data": {
      "text/plain": [
       "2×1 Matrix{Float64}:\n",
       " -1.0\n",
       " -0.4"
      ]
     },
     "metadata": {},
     "output_type": "display_data"
    }
   ],
   "source": [
    "vp"
   ]
  },
  {
   "cell_type": "code",
   "execution_count": 27,
   "metadata": {},
   "outputs": [
    {
     "data": {
      "text/plain": [
       "qrfact (generic function with 1 method)"
      ]
     },
     "metadata": {},
     "output_type": "display_data"
    }
   ],
   "source": [
    "function qr_householder(A::AbstractMatrix{T}, normeps=1.0e-14) where T<:Number\n",
    "    M, N = size(A)\n",
    "    Q = zeros(Float64, (M, N))\n",
    "    for i = 1:min(M, N)\n",
    "        Q[i, i] = one(T)\n",
    "    end\n",
    "    R = copy(A)\n",
    "\n",
    "    for i in 1:N\n",
    "        x = R[i:M, i]\n",
    "        if T<:Real \n",
    "            α = - sign(x[1]) * norm(x)\n",
    "        else \n",
    "            α = -exp(im*atan(im(x[1]), re(x[1]))) * norm(x)\n",
    "        end\n",
    "\n",
    "        u = [x[1] - α ; x[2:end] ]\n",
    "        if norm(u) < normeps continue; end    # skip this iteration\n",
    "        u = normalize(u);\n",
    "        println(u)\n",
    "        # Apply the reflection to each relevant column of A and Q\n",
    "        for j in 1:N\n",
    "            R[i:M, j] -= u*( 2*(u'*R[i:M, j]) )\n",
    "        end\n",
    "        for j in 1:M\n",
    "            Q[j, i:M] -= (Q[j, i:M] * u' * u *2)\n",
    "        end\n",
    "    end\n",
    "    \n",
    "    return Q, triu(R)\n",
    "\n",
    "end\n",
    "\n",
    "function qrfact(A)\n",
    "    m,n = size(A)\n",
    "    Qt = diagm(ones(m))\n",
    "    R = float(copy(A))\n",
    "    for k in 1:n\n",
    "        z = R[k:m,k]\n",
    "        w = [ -sign(z[1])*norm(z) - z[1]; -z[2:end] ]\n",
    "        nrmw = norm(w)\n",
    "        if nrmw < eps() continue; end    # skip this iteration\n",
    "        v = w / nrmw;\n",
    "        println(v)\n",
    "        # Apply the reflection to each relevant column of A and Q\n",
    "        for j in 1:n\n",
    "            R[k:m,j] -= v*( 2*(v'*R[k:m,j]) )\n",
    "        end\n",
    "        for j in 1:m\n",
    "            Qt[k:m,j] -= v*( 2*(v'*Qt[k:m,j]) )\n",
    "        end\n",
    "    end\n",
    "    return Qt',triu(R)\n",
    "end"
   ]
  },
  {
   "cell_type": "code",
   "execution_count": 28,
   "metadata": {},
   "outputs": [],
   "source": [
    "# @btime qr_householder(A);\n",
    "# @btime qrfact(A);"
   ]
  },
  {
   "cell_type": "code",
   "execution_count": 29,
   "metadata": {},
   "outputs": [
    {
     "data": {
      "text/plain": [
       "4×4 adjoint(::Matrix{Float64}) with eltype Float64:\n",
       " 1.0  1.0  0.0  -1.0\n",
       " 1.0  0.0  1.0   2.0\n",
       " 0.0  1.0  0.0   0.0\n",
       " 0.0  0.0  1.0   1.0"
      ]
     },
     "metadata": {},
     "output_type": "display_data"
    }
   ],
   "source": [
    "A"
   ]
  },
  {
   "cell_type": "code",
   "execution_count": 30,
   "metadata": {},
   "outputs": [
    {
     "name": "stdout",
     "output_type": "stream",
     "text": [
      "[0.9238795325112867, 0.3826834323650898, 0.0, 0.0]\n",
      "[-0.8880738339771153, 0.4597008433809831, 0.0]\n",
      "[0.8660254037844386, 0.4999999999999999]\n",
      "[-1.0]\n"
     ]
    },
    {
     "data": {
      "text/plain": [
       "([-1.0 0.0 0.0 0.0; 0.0 1.0 0.0 0.0; 0.0 0.0 -0.9999999999999996 0.0; 0.0 0.0 0.0 0.9999999999999996], [-1.414213562373095 -0.7071067811865475 -0.7071067811865476 -0.7071067811865476; 0.0 1.224744871391589 -0.40824829046386313 -1.224744871391589; 0.0 0.0 -1.154700538379251 -1.7320508075688763; 0.0 0.0 0.0 0.9999999999999991])"
      ]
     },
     "metadata": {},
     "output_type": "display_data"
    }
   ],
   "source": [
    "Q2, R2 = qr_householder(A)"
   ]
  },
  {
   "cell_type": "code",
   "execution_count": 31,
   "metadata": {},
   "outputs": [
    {
     "name": "stdout",
     "output_type": "stream",
     "text": [
      "[-0.9238795325112866, -0.3826834323650898, -0.0, -0.0]\n",
      "[0.8880738339771153, -0.4597008433809831, -0.0]\n",
      "[-0.8660254037844386, -0.4999999999999999]\n",
      "[1.0]\n"
     ]
    },
    {
     "data": {
      "text/plain": [
       "([-0.707106781186547 0.40824829046386313 0.28867513459481275 -0.4999999999999999; -0.7071067811865475 -0.40824829046386313 -0.28867513459481275 0.4999999999999999; 0.0 0.8164965809277261 -0.28867513459481275 0.49999999999999983; 0.0 0.0 -0.8660254037844384 -0.5000000000000002], [-1.4142135623730945 -0.707106781186547 -0.7071067811865475 -0.7071067811865479; 0.0 1.2247448713915892 -0.40824829046386313 -1.224744871391589; 0.0 0.0 -1.154700538379251 -1.7320508075688763; 0.0 0.0 0.0 0.9999999999999991])"
      ]
     },
     "metadata": {},
     "output_type": "display_data"
    }
   ],
   "source": [
    "Q3, R3 = qrfact(A)"
   ]
  },
  {
   "cell_type": "code",
   "execution_count": 101,
   "metadata": {},
   "outputs": [
    {
     "data": {
      "text/plain": [
       "4×4 adjoint(::Matrix{Float64}) with eltype Float64:\n",
       " -0.707107   0.408248   0.288675  -0.5\n",
       " -0.707107  -0.408248  -0.288675   0.5\n",
       "  0.0        0.816497  -0.288675   0.5\n",
       "  0.0        0.0       -0.866025  -0.5"
      ]
     },
     "metadata": {},
     "output_type": "display_data"
    }
   ],
   "source": [
    "Q3"
   ]
  },
  {
   "cell_type": "code",
   "execution_count": 102,
   "metadata": {},
   "outputs": [
    {
     "data": {
      "text/plain": [
       "4×4 Matrix{Float64}:\n",
       " 1.0   1.0          -1.67573e-16  -1.0\n",
       " 1.0  -5.71993e-16   1.0           2.0\n",
       " 0.0   1.0          -4.4305e-16   -1.16573e-15\n",
       " 0.0   0.0           1.0           1.0"
      ]
     },
     "metadata": {},
     "output_type": "display_data"
    }
   ],
   "source": [
    "Q3*R3"
   ]
  },
  {
   "cell_type": "code",
   "execution_count": 32,
   "metadata": {},
   "outputs": [
    {
     "data": {
      "text/plain": [
       "4×4 Matrix{Float64}:\n",
       " 1.41421  0.707107   0.707107   0.707107\n",
       " 0.0      1.22474   -0.408248  -1.22474\n",
       " 0.0      0.0        1.1547     1.73205\n",
       " 0.0      0.0        0.0        1.0"
      ]
     },
     "metadata": {},
     "output_type": "display_data"
    }
   ],
   "source": [
    "Q2*R2"
   ]
  },
  {
   "cell_type": "code",
   "execution_count": 33,
   "metadata": {},
   "outputs": [
    {
     "ename": "UndefVarError",
     "evalue": "UndefVarError: eye not defined",
     "output_type": "error",
     "traceback": [
      "UndefVarError: eye not defined\n",
      "\n",
      "Stacktrace:\n",
      " [1] top-level scope\n",
      "   @ /Volumes/SJYData/devdoc/Books/Basic Numerical Analysis using Julia/docs/ch03_linearalgebra/05_QR.ipynb:1"
     ]
    }
   ],
   "source": [
    "eye(3)"
   ]
  },
  {
   "cell_type": "code",
   "execution_count": 34,
   "metadata": {},
   "outputs": [
    {
     "ename": "UndefVarError",
     "evalue": "UndefVarError: eyes not defined",
     "output_type": "error",
     "traceback": [
      "UndefVarError: eyes not defined\n",
      "\n",
      "Stacktrace:\n",
      " [1] top-level scope\n",
      "   @ /Volumes/SJYData/devdoc/Books/Basic Numerical Analysis using Julia/docs/ch03_linearalgebra/05_QR.ipynb:1"
     ]
    }
   ],
   "source": [
    "eyes(3)"
   ]
  },
  {
   "cell_type": "code",
   "execution_count": null,
   "metadata": {},
   "outputs": [],
   "source": []
  }
 ],
 "metadata": {
  "kernelspec": {
   "display_name": "Julia 1.8.5",
   "language": "julia",
   "name": "julia-1.8"
  },
  "language_info": {
   "file_extension": ".jl",
   "mimetype": "application/julia",
   "name": "julia",
   "version": "1.8.5"
  },
  "orig_nbformat": 4
 },
 "nbformat": 4,
 "nbformat_minor": 2
}
