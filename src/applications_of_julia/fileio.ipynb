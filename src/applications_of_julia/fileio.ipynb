{
 "cells": [
  {
   "cell_type": "code",
   "execution_count": 6,
   "metadata": {},
   "outputs": [],
   "source": [
    "using CSV, HTTP"
   ]
  },
  {
   "cell_type": "code",
   "execution_count": 11,
   "metadata": {},
   "outputs": [
    {
     "ename": "HTTP.Exceptions.ConnectError",
     "evalue": "HTTP.ConnectError for url = `https://storage.googleapis.com/download.tensorflow.org/data/abalone_train.csv`: OpenSSL.OpenSSLError(\"self-signed certificate in certificate chain\")\nStacktrace:\n  [1] macro expansion\n    @ ~/.julia/packages/OpenSSL/hXs2T/src/ssl.jl:512 [inlined]\n  [2] macro expansion\n    @ ./lock.jl:267 [inlined]\n  [3] connect(ssl::OpenSSL.SSLStream; require_ssl_verification::Bool)\n    @ OpenSSL ~/.julia/packages/OpenSSL/hXs2T/src/ssl.jl:505\n  [4] connect\n    @ ~/.julia/packages/OpenSSL/hXs2T/src/ssl.jl:489 [inlined]\n  [5] #sslconnection#19\n    @ ~/.julia/packages/HTTP/PnoHb/src/Connections.jl:594 [inlined]\n  [6] sslconnection\n    @ ~/.julia/packages/HTTP/PnoHb/src/Connections.jl:584 [inlined]\n  [7] getconnection(::Type{OpenSSL.SSLStream}, host::SubString{String}, port::SubString{String}; kw::@Kwargs{require_ssl_verification::Bool, keepalive::Bool, readtimeout::Int64, iofunction::Nothing, decompress::Nothing, verbose::Int64})\n    @ HTTP.Connections ~/.julia/packages/HTTP/PnoHb/src/Connections.jl:581\n  [8] getconnection\n    @ ~/.julia/packages/HTTP/PnoHb/src/Connections.jl:573 [inlined]\n  [9] #10\n    @ ~/.julia/packages/HTTP/PnoHb/src/Connections.jl:462 [inlined]\n [10] macro expansion\n    @ ~/.julia/packages/ConcurrentUtilities/J6iMP/src/try_with_timeout.jl:82 [inlined]\n [11] (::ConcurrentUtilities.var\"#2#4\"{Any, Timer, ConcurrentUtilities.TimedOut{Any}, Channel{Any}, HTTP.Connections.var\"#10#13\"{OpenSSL.SSLStream, Bool, Bool, @Kwargs{readtimeout::Int64, iofunction::Nothing, decompress::Nothing, verbose::Int64}, SubString{String}, SubString{String}}})()\n    @ ConcurrentUtilities ~/.julia/packages/ConcurrentUtilities/J6iMP/src/ConcurrentUtilities.jl:9",
     "output_type": "error",
     "traceback": [
      "HTTP.ConnectError for url = `https://storage.googleapis.com/download.tensorflow.org/data/abalone_train.csv`: OpenSSL.OpenSSLError(\"self-signed certificate in certificate chain\")\n",
      "Stacktrace:\n",
      "  [1] macro expansion\n",
      "    @ ~/.julia/packages/OpenSSL/hXs2T/src/ssl.jl:512 [inlined]\n",
      "  [2] macro expansion\n",
      "    @ ./lock.jl:267 [inlined]\n",
      "  [3] connect(ssl::OpenSSL.SSLStream; require_ssl_verification::Bool)\n",
      "    @ OpenSSL ~/.julia/packages/OpenSSL/hXs2T/src/ssl.jl:505\n",
      "  [4] connect\n",
      "    @ ~/.julia/packages/OpenSSL/hXs2T/src/ssl.jl:489 [inlined]\n",
      "  [5] #sslconnection#19\n",
      "    @ ~/.julia/packages/HTTP/PnoHb/src/Connections.jl:594 [inlined]\n",
      "  [6] sslconnection\n",
      "    @ ~/.julia/packages/HTTP/PnoHb/src/Connections.jl:584 [inlined]\n",
      "  [7] getconnection(::Type{OpenSSL.SSLStream}, host::SubString{String}, port::SubString{String}; kw::@Kwargs{require_ssl_verification::Bool, keepalive::Bool, readtimeout::Int64, iofunction::Nothing, decompress::Nothing, verbose::Int64})\n",
      "    @ HTTP.Connections ~/.julia/packages/HTTP/PnoHb/src/Connections.jl:581\n",
      "  [8] getconnection\n",
      "    @ ~/.julia/packages/HTTP/PnoHb/src/Connections.jl:573 [inlined]\n",
      "  [9] #10\n",
      "    @ ~/.julia/packages/HTTP/PnoHb/src/Connections.jl:462 [inlined]\n",
      " [10] macro expansion\n",
      "    @ ~/.julia/packages/ConcurrentUtilities/J6iMP/src/try_with_timeout.jl:82 [inlined]\n",
      " [11] (::ConcurrentUtilities.var\"#2#4\"{Any, Timer, ConcurrentUtilities.TimedOut{Any}, Channel{Any}, HTTP.Connections.var\"#10#13\"{OpenSSL.SSLStream, Bool, Bool, @Kwargs{readtimeout::Int64, iofunction::Nothing, decompress::Nothing, verbose::Int64}, SubString{String}, SubString{String}}})()\n",
      "    @ ConcurrentUtilities ~/.julia/packages/ConcurrentUtilities/J6iMP/src/ConcurrentUtilities.jl:9\n",
      "\n",
      "Stacktrace:\n",
      "  [1] (::HTTP.ConnectionRequest.var\"#connections#4\"{HTTP.ConnectionRequest.var\"#connections#1#5\"{HTTP.TimeoutRequest.var\"#timeouts#3\"{HTTP.TimeoutRequest.var\"#timeouts#1#4\"{HTTP.ExceptionRequest.var\"#exceptions#2\"{HTTP.ExceptionRequest.var\"#exceptions#1#3\"{typeof(HTTP.StreamRequest.streamlayer)}}}}}})(req::HTTP.Messages.Request; proxy::Nothing, socket_type::Type, socket_type_tls::Nothing, readtimeout::Int64, connect_timeout::Int64, logerrors::Bool, logtag::Nothing, kw::@Kwargs{iofunction::Nothing, decompress::Nothing, verbose::Int64})\n",
      "    @ HTTP.ConnectionRequest ~/.julia/packages/HTTP/PnoHb/src/clientlayers/ConnectionRequest.jl:86\n",
      "  [2] connections\n",
      "    @ ~/.julia/packages/HTTP/PnoHb/src/clientlayers/ConnectionRequest.jl:58 [inlined]\n",
      "  [3] (::Base.var\"#96#98\"{Base.var\"#96#97#99\"{ExponentialBackOff, HTTP.RetryRequest.var\"#2#5\"{Int64, typeof(HTTP.RetryRequest.FALSE), HTTP.Messages.Request, Base.RefValue{Int64}}, HTTP.ConnectionRequest.var\"#connections#4\"{HTTP.ConnectionRequest.var\"#connections#1#5\"{HTTP.TimeoutRequest.var\"#timeouts#3\"{HTTP.TimeoutRequest.var\"#timeouts#1#4\"{HTTP.ExceptionRequest.var\"#exceptions#2\"{HTTP.ExceptionRequest.var\"#exceptions#1#3\"{typeof(HTTP.StreamRequest.streamlayer)}}}}}}}})(args::HTTP.Messages.Request; kwargs::@Kwargs{iofunction::Nothing, decompress::Nothing, verbose::Int64})\n",
      "    @ Base ./error.jl:308\n",
      "  [4] (::HTTP.RetryRequest.var\"#manageretries#3\"{HTTP.RetryRequest.var\"#manageretries#1#4\"{HTTP.ConnectionRequest.var\"#connections#4\"{HTTP.ConnectionRequest.var\"#connections#1#5\"{HTTP.TimeoutRequest.var\"#timeouts#3\"{HTTP.TimeoutRequest.var\"#timeouts#1#4\"{HTTP.ExceptionRequest.var\"#exceptions#2\"{HTTP.ExceptionRequest.var\"#exceptions#1#3\"{typeof(HTTP.StreamRequest.streamlayer)}}}}}}}})(req::HTTP.Messages.Request; retry::Bool, retries::Int64, retry_delays::ExponentialBackOff, retry_check::Function, retry_non_idempotent::Bool, kw::@Kwargs{iofunction::Nothing, decompress::Nothing, verbose::Int64})\n",
      "    @ HTTP.RetryRequest ~/.julia/packages/HTTP/PnoHb/src/clientlayers/RetryRequest.jl:75\n",
      "  [5] manageretries\n",
      "    @ ~/.julia/packages/HTTP/PnoHb/src/clientlayers/RetryRequest.jl:30 [inlined]\n",
      "  [6] (::HTTP.CookieRequest.var\"#managecookies#4\"{HTTP.CookieRequest.var\"#managecookies#1#5\"{HTTP.RetryRequest.var\"#manageretries#3\"{HTTP.RetryRequest.var\"#manageretries#1#4\"{HTTP.ConnectionRequest.var\"#connections#4\"{HTTP.ConnectionRequest.var\"#connections#1#5\"{HTTP.TimeoutRequest.var\"#timeouts#3\"{HTTP.TimeoutRequest.var\"#timeouts#1#4\"{HTTP.ExceptionRequest.var\"#exceptions#2\"{HTTP.ExceptionRequest.var\"#exceptions#1#3\"{typeof(HTTP.StreamRequest.streamlayer)}}}}}}}}}})(req::HTTP.Messages.Request; cookies::Bool, cookiejar::HTTP.Cookies.CookieJar, kw::@Kwargs{iofunction::Nothing, decompress::Nothing, verbose::Int64})\n",
      "    @ HTTP.CookieRequest ~/.julia/packages/HTTP/PnoHb/src/clientlayers/CookieRequest.jl:42\n",
      "  [7] managecookies\n",
      "    @ ~/.julia/packages/HTTP/PnoHb/src/clientlayers/CookieRequest.jl:19 [inlined]\n",
      "  [8] (::HTTP.HeadersRequest.var\"#defaultheaders#2\"{HTTP.HeadersRequest.var\"#defaultheaders#1#3\"{HTTP.CookieRequest.var\"#managecookies#4\"{HTTP.CookieRequest.var\"#managecookies#1#5\"{HTTP.RetryRequest.var\"#manageretries#3\"{HTTP.RetryRequest.var\"#manageretries#1#4\"{HTTP.ConnectionRequest.var\"#connections#4\"{HTTP.ConnectionRequest.var\"#connections#1#5\"{HTTP.TimeoutRequest.var\"#timeouts#3\"{HTTP.TimeoutRequest.var\"#timeouts#1#4\"{HTTP.ExceptionRequest.var\"#exceptions#2\"{HTTP.ExceptionRequest.var\"#exceptions#1#3\"{typeof(HTTP.StreamRequest.streamlayer)}}}}}}}}}}}})(req::HTTP.Messages.Request; iofunction::Nothing, decompress::Nothing, basicauth::Bool, detect_content_type::Bool, canonicalize_headers::Bool, kw::@Kwargs{verbose::Int64})\n",
      "    @ HTTP.HeadersRequest ~/.julia/packages/HTTP/PnoHb/src/clientlayers/HeadersRequest.jl:71\n",
      "  [9] defaultheaders\n",
      "    @ ~/.julia/packages/HTTP/PnoHb/src/clientlayers/HeadersRequest.jl:14 [inlined]\n",
      " [10] (::HTTP.RedirectRequest.var\"#redirects#3\"{HTTP.RedirectRequest.var\"#redirects#1#4\"{HTTP.HeadersRequest.var\"#defaultheaders#2\"{HTTP.HeadersRequest.var\"#defaultheaders#1#3\"{HTTP.CookieRequest.var\"#managecookies#4\"{HTTP.CookieRequest.var\"#managecookies#1#5\"{HTTP.RetryRequest.var\"#manageretries#3\"{HTTP.RetryRequest.var\"#manageretries#1#4\"{HTTP.ConnectionRequest.var\"#connections#4\"{HTTP.ConnectionRequest.var\"#connections#1#5\"{HTTP.TimeoutRequest.var\"#timeouts#3\"{HTTP.TimeoutRequest.var\"#timeouts#1#4\"{HTTP.ExceptionRequest.var\"#exceptions#2\"{HTTP.ExceptionRequest.var\"#exceptions#1#3\"{typeof(HTTP.StreamRequest.streamlayer)}}}}}}}}}}}}}})(req::HTTP.Messages.Request; redirect::Bool, redirect_limit::Int64, redirect_method::Nothing, forwardheaders::Bool, response_stream::Nothing, kw::@Kwargs{verbose::Int64})\n",
      "    @ HTTP.RedirectRequest ~/.julia/packages/HTTP/PnoHb/src/clientlayers/RedirectRequest.jl:25\n",
      " [11] redirects\n",
      "    @ ~/.julia/packages/HTTP/PnoHb/src/clientlayers/RedirectRequest.jl:14 [inlined]\n",
      " [12] (::HTTP.MessageRequest.var\"#makerequest#3\"{HTTP.MessageRequest.var\"#makerequest#1#4\"{HTTP.RedirectRequest.var\"#redirects#3\"{HTTP.RedirectRequest.var\"#redirects#1#4\"{HTTP.HeadersRequest.var\"#defaultheaders#2\"{HTTP.HeadersRequest.var\"#defaultheaders#1#3\"{HTTP.CookieRequest.var\"#managecookies#4\"{HTTP.CookieRequest.var\"#managecookies#1#5\"{HTTP.RetryRequest.var\"#manageretries#3\"{HTTP.RetryRequest.var\"#manageretries#1#4\"{HTTP.ConnectionRequest.var\"#connections#4\"{HTTP.ConnectionRequest.var\"#connections#1#5\"{HTTP.TimeoutRequest.var\"#timeouts#3\"{HTTP.TimeoutRequest.var\"#timeouts#1#4\"{HTTP.ExceptionRequest.var\"#exceptions#2\"{HTTP.ExceptionRequest.var\"#exceptions#1#3\"{typeof(HTTP.StreamRequest.streamlayer)}}}}}}}}}}}}}}}})(method::String, url::URIs.URI, headers::Nothing, body::Vector{UInt8}; copyheaders::Bool, response_stream::Nothing, http_version::HTTP.Strings.HTTPVersion, verbose::Int64, kw::@Kwargs{})\n",
      "    @ HTTP.MessageRequest ~/.julia/packages/HTTP/PnoHb/src/clientlayers/MessageRequest.jl:35\n",
      " [13] makerequest\n",
      "    @ ~/.julia/packages/HTTP/PnoHb/src/clientlayers/MessageRequest.jl:24 [inlined]\n",
      " [14] request(stack::HTTP.MessageRequest.var\"#makerequest#3\"{HTTP.MessageRequest.var\"#makerequest#1#4\"{HTTP.RedirectRequest.var\"#redirects#3\"{HTTP.RedirectRequest.var\"#redirects#1#4\"{HTTP.HeadersRequest.var\"#defaultheaders#2\"{HTTP.HeadersRequest.var\"#defaultheaders#1#3\"{HTTP.CookieRequest.var\"#managecookies#4\"{HTTP.CookieRequest.var\"#managecookies#1#5\"{HTTP.RetryRequest.var\"#manageretries#3\"{HTTP.RetryRequest.var\"#manageretries#1#4\"{HTTP.ConnectionRequest.var\"#connections#4\"{HTTP.ConnectionRequest.var\"#connections#1#5\"{HTTP.TimeoutRequest.var\"#timeouts#3\"{HTTP.TimeoutRequest.var\"#timeouts#1#4\"{HTTP.ExceptionRequest.var\"#exceptions#2\"{HTTP.ExceptionRequest.var\"#exceptions#1#3\"{typeof(HTTP.StreamRequest.streamlayer)}}}}}}}}}}}}}}}}, method::String, url::String, h::Nothing, b::Vector{UInt8}, q::Nothing; headers::Nothing, body::Vector{UInt8}, query::Nothing, kw::@Kwargs{})\n",
      "    @ HTTP ~/.julia/packages/HTTP/PnoHb/src/HTTP.jl:457\n",
      " [15] request(stack::Function, method::String, url::String, h::Nothing, b::Vector{UInt8}, q::Nothing)\n",
      "    @ HTTP ~/.julia/packages/HTTP/PnoHb/src/HTTP.jl:455\n",
      " [16] #request#20\n",
      "    @ ~/.julia/packages/HTTP/PnoHb/src/HTTP.jl:315 [inlined]\n",
      " [17] request\n",
      "    @ ~/.julia/packages/HTTP/PnoHb/src/HTTP.jl:313 [inlined]\n",
      " [18] request(method::String, url::String)\n",
      "    @ HTTP ~/.julia/packages/HTTP/PnoHb/src/HTTP.jl:313\n",
      " [19] top-level scope\n",
      "    @ ~/Documents/Projects/NumericalAnalysisJulia/src/applications_of_julia/fileio.ipynb:3"
     ]
    }
   ],
   "source": [
    "url = \"https://storage.googleapis.com/download.tensorflow.org/data/abalone_train.csv\"\n",
    "\n",
    "http_response = HTTP.request(\"GET\", url)\n",
    "\n",
    "# I can then access the data of the response as a `Vector{UInt8}` and pass\n",
    "# it directly to `CSV.File` for parsing\n",
    "file = CSV.File(\"https://storage.googleapis.com/download.tensorflow.org/data/abalone_train.csv\")"
   ]
  },
  {
   "cell_type": "code",
   "execution_count": null,
   "metadata": {},
   "outputs": [],
   "source": []
  }
 ],
 "metadata": {
  "kernelspec": {
   "display_name": "Julia 1.10.2",
   "language": "julia",
   "name": "julia-1.10"
  },
  "language_info": {
   "file_extension": ".jl",
   "mimetype": "application/julia",
   "name": "julia",
   "version": "1.10.2"
  }
 },
 "nbformat": 4,
 "nbformat_minor": 2
}
