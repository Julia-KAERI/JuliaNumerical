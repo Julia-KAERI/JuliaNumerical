{
 "cells": [
  {
   "cell_type": "code",
   "execution_count": 1,
   "metadata": {},
   "outputs": [],
   "source": [
    "using BenchmarkTools"
   ]
  },
  {
   "cell_type": "code",
   "execution_count": 2,
   "metadata": {},
   "outputs": [
    {
     "name": "stdout",
     "output_type": "stream",
     "text": [
      "  106.110 ms (5956 allocations: 76.40 MiB)\n"
     ]
    }
   ],
   "source": [
    "bb = rand(10000, 10000)\n",
    "cc = zeros(10000)\n",
    "\n",
    "@btime begin\n",
    "for i in 1:1000\n",
    "    cc[i] = sum(bb[i, :])\n",
    "end\n",
    "end\n"
   ]
  },
  {
   "cell_type": "code",
   "execution_count": null,
   "metadata": {},
   "outputs": [],
   "source": [
    "dd =  zeros(10000)\n",
    "@btime begin\n",
    "    Threads.@threads for i in 1:1000\n",
    "        dd[i] = sum(bb[i, :])\n",
    "    end\n",
    "end"
   ]
  },
  {
   "cell_type": "code",
   "execution_count": null,
   "metadata": {},
   "outputs": [],
   "source": [
    "\n",
    "s = 1\n",
    "Threads.@threads for i in 1:5\n",
    "    global s += (-1)^(s+i)\n",
    "    @show i, s\n",
    "end\n",
    "println(s)"
   ]
  },
  {
   "cell_type": "code",
   "execution_count": null,
   "metadata": {},
   "outputs": [],
   "source": []
  },
  {
   "cell_type": "code",
   "execution_count": null,
   "metadata": {},
   "outputs": [],
   "source": [
    "\n",
    "\n",
    "N = 1000\n",
    "bb = rand(N, N)\n",
    "\n",
    "r1 = zeros(N)\n",
    "@btime begin\n",
    "    for i in 1:N\n",
    "        r1[i] = sum(bb[i, : ])\n",
    "    end\n",
    "end\n",
    "\n",
    "r2 =  zeros(N)\n",
    "@btime begin\n",
    "    Threads.@threads for i in 1:N\n",
    "        r2[i] = sum(bb[i, :])\n",
    "    end\n",
    "end\n",
    "\n",
    "r3 =  zeros(N)\n",
    "@btime begin\n",
    "    for i in 1:N\n",
    "        r3[i] = sum(bb[:, i])\n",
    "    end\n",
    "end\n",
    "    \n",
    "r4 =  zeros(N)\n",
    "@btime begin\n",
    "    Threads.@threads for i in 1:N\n",
    "        r4[i] = sum(bb[:, i])\n",
    "    end\n",
    "end\n",
    "    \n"
   ]
  },
  {
   "cell_type": "code",
   "execution_count": null,
   "metadata": {},
   "outputs": [],
   "source": []
  },
  {
   "cell_type": "code",
   "execution_count": null,
   "metadata": {},
   "outputs": [],
   "source": []
  },
  {
   "cell_type": "code",
   "execution_count": null,
   "metadata": {},
   "outputs": [],
   "source": [
    "M = 10000\n",
    "mat= rand(M, M)\n",
    "\n",
    "@btime begin\n",
    "    r1  =0.0\n",
    "    for i ∈ 1:M, j ∈ 1:M\n",
    "        r1 += mat[i, j]\n",
    "    end\n",
    "end\n",
    "\n",
    "@btime begin\n",
    "    r2 =  0.0\n",
    "    for j ∈ 1:M, i ∈ 1:M\n",
    "        r2 += mat[i, j]\n",
    "    end\n",
    "end\n"
   ]
  },
  {
   "cell_type": "code",
   "execution_count": null,
   "metadata": {},
   "outputs": [],
   "source": [
    "M = 1000\n",
    "mat= rand(M, M)\n",
    "\n",
    "r1, r2 = 0.0, 0.0\n",
    "\n",
    "@btime begin\n",
    "    for j ∈ 1:M, i ∈ 1:M\n",
    "        global r2 += mat[i, j]\n",
    "    end\n",
    "    end\n",
    "    \n",
    "@btime begin\n",
    "for i ∈ 1:M, j ∈ 1:M\n",
    "    global r1 += mat[i, j]\n",
    "end\n",
    "end\n",
    "\n"
   ]
  },
  {
   "cell_type": "code",
   "execution_count": null,
   "metadata": {},
   "outputs": [],
   "source": []
  },
  {
   "cell_type": "code",
   "execution_count": 33,
   "metadata": {},
   "outputs": [
    {
     "data": {
      "text/plain": [
       "ms"
      ]
     },
     "metadata": {},
     "output_type": "display_data"
    }
   ],
   "source": [
    "Base.@kwdef mutable struct ms\n",
    "    a::Int\n",
    "    b::Int\n",
    "end\n",
    "\n"
   ]
  },
  {
   "cell_type": "code",
   "execution_count": 59,
   "metadata": {},
   "outputs": [
    {
     "name": "stdout",
     "output_type": "stream",
     "text": [
      "ms(18, -29)\n"
     ]
    }
   ],
   "source": [
    "\n",
    "c=ms(1, 1)\n",
    "Threads.@threads for i in 1:30\n",
    "    c.a = i\n",
    "    c.b +=round(Int64, c.a*cos(i))\n",
    "end\n",
    "\n",
    "println(c)"
   ]
  },
  {
   "cell_type": "code",
   "execution_count": 61,
   "metadata": {},
   "outputs": [
    {
     "name": "stdout",
     "output_type": "stream",
     "text": [
      "ms(9, -24)\n"
     ]
    }
   ],
   "source": [
    "\n",
    "lk = Threads.ReentrantLock()\n",
    "d=ms(1, 1)\n",
    "Threads.@threads for i in 1:30\n",
    "    lock(lk) do\n",
    "        d.a = i\n",
    "        d.b +=round(Int64, d.a*cos(i))\n",
    "    end\n",
    "end\n",
    "println(d)"
   ]
  },
  {
   "cell_type": "code",
   "execution_count": 66,
   "metadata": {},
   "outputs": [
    {
     "name": "stdout",
     "output_type": "stream",
     "text": [
      "8\n",
      "2\n",
      "12\n",
      "5\n",
      "(i, s) = (5, 0)\n",
      "(i, s) = (4, 0)\n",
      "10\n",
      "(i, s) = (2, 1)\n",
      "(i, s) = (1, -1)\n",
      "(i, s) = (3, 2)\n",
      "2\n"
     ]
    }
   ],
   "source": [
    "s = 1\n",
    "Threads.@threads for i in 1:5\n",
    "    println(Threads.threadid())\n",
    "    global s += (-1)^(s+i)\n",
    "    @show i, s\n",
    "end\n",
    "println(s)"
   ]
  },
  {
   "cell_type": "code",
   "execution_count": 71,
   "metadata": {},
   "outputs": [
    {
     "ename": "ErrorException",
     "evalue": "invalid redefinition of constant Main.LogSpacingArray",
     "output_type": "error",
     "traceback": [
      "invalid redefinition of constant Main.LogSpacingArray\n",
      "\n",
      "Stacktrace:\n",
      " [1] top-level scope\n",
      "   @ ~/Documents/Projects/NumericalAnalysisJulia/src/applications_of_julia/multithread_01.ipynb:1"
     ]
    }
   ],
   "source": [
    "\n"
   ]
  },
  {
   "cell_type": "code",
   "execution_count": 69,
   "metadata": {},
   "outputs": [
    {
     "data": {
      "text/plain": [
       "4.605170185988092"
      ]
     },
     "metadata": {},
     "output_type": "display_data"
    }
   ],
   "source": [
    "log(100)"
   ]
  },
  {
   "cell_type": "code",
   "execution_count": 70,
   "metadata": {},
   "outputs": [
    {
     "data": {
      "text/plain": [
       "0.0"
      ]
     },
     "metadata": {},
     "output_type": "display_data"
    }
   ],
   "source": [
    "floor(0.4)"
   ]
  },
  {
   "cell_type": "code",
   "execution_count": null,
   "metadata": {},
   "outputs": [],
   "source": []
  }
 ],
 "metadata": {
  "kernelspec": {
   "display_name": "Julia 1.10.2",
   "language": "julia",
   "name": "julia-1.10"
  },
  "language_info": {
   "file_extension": ".jl",
   "mimetype": "application/julia",
   "name": "julia",
   "version": "1.10.2"
  }
 },
 "nbformat": 4,
 "nbformat_minor": 2
}
