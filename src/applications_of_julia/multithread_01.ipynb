{
 "cells": [
  {
   "cell_type": "code",
   "execution_count": 9,
   "metadata": {},
   "outputs": [],
   "source": [
    "using BenchmarkTools"
   ]
  },
  {
   "cell_type": "code",
   "execution_count": 23,
   "metadata": {},
   "outputs": [
    {
     "name": "stdout",
     "output_type": "stream",
     "text": [
      "  114.347 ms (5956 allocations: 76.40 MiB)\n"
     ]
    }
   ],
   "source": [
    "bb = rand(10000, 10000)\n",
    "cc = zeros(10000)\n",
    "\n",
    "@btime begin\n",
    "for i in 1:1000\n",
    "    cc[i] = sum(bb[i, :])\n",
    "end\n",
    "end\n"
   ]
  },
  {
   "cell_type": "code",
   "execution_count": 22,
   "metadata": {},
   "outputs": [
    {
     "name": "stdout",
     "output_type": "stream",
     "text": [
      "  15.925 ms (6029 allocations: 76.41 MiB)\n"
     ]
    }
   ],
   "source": [
    "dd =  zeros(10000)\n",
    "@btime begin\n",
    "    Threads.@threads for i in 1:1000\n",
    "        dd[i] = sum(bb[i, :])\n",
    "    end\n",
    "end"
   ]
  },
  {
   "cell_type": "code",
   "execution_count": 64,
   "metadata": {},
   "outputs": [
    {
     "name": "stdout",
     "output_type": "stream",
     "text": [
      "1109023200\n"
     ]
    }
   ],
   "source": [
    "aa=1:5\n",
    "s = 1\n",
    "Threads.@threads for a in aa\n",
    "    global s *= (s+a)\n",
    "end\n",
    "println(s)"
   ]
  },
  {
   "cell_type": "code",
   "execution_count": 86,
   "metadata": {},
   "outputs": [
    {
     "name": "stdout",
     "output_type": "stream",
     "text": [
      "  3.375 ms (5957 allocations: 7.84 MiB)\n"
     ]
    },
    {
     "name": "stdout",
     "output_type": "stream",
     "text": [
      "  604.741 μs (5029 allocations: 7.82 MiB)\n"
     ]
    },
    {
     "name": "stdout",
     "output_type": "stream",
     "text": [
      "  1.770 ms (5957 allocations: 7.84 MiB)\n"
     ]
    },
    {
     "name": "stdout",
     "output_type": "stream",
     "text": [
      "  387.704 μs (5028 allocations: 7.82 MiB)\n"
     ]
    }
   ],
   "source": [
    "using BenchmarkTools\n",
    "\n",
    "N = 1000\n",
    "bb = rand(N, N)\n",
    "\n",
    "r1 = zeros(N)\n",
    "@btime begin\n",
    "    for i in 1:N\n",
    "        r1[i] = sum(bb[i, : ])\n",
    "    end\n",
    "end\n",
    "\n",
    "r2 =  zeros(N)\n",
    "@btime begin\n",
    "    Threads.@threads for i in 1:N\n",
    "        r2[i] = sum(bb[i, :])\n",
    "    end\n",
    "end\n",
    "\n",
    "r3 =  zeros(N)\n",
    "@btime begin\n",
    "    for i in 1:N\n",
    "        r3[i] = sum(bb[:, i])\n",
    "    end\n",
    "end\n",
    "    \n",
    "r4 =  zeros(N)\n",
    "@btime begin\n",
    "    Threads.@threads for i in 1:N\n",
    "        r4[i] = sum(bb[:, i])\n",
    "    end\n",
    "end\n",
    "    \n"
   ]
  },
  {
   "cell_type": "code",
   "execution_count": 80,
   "metadata": {},
   "outputs": [
    {
     "name": "stdout",
     "output_type": "stream",
     "text": [
      "  55.143 ms (6 allocations: 78.25 KiB)\n"
     ]
    },
    {
     "data": {
      "text/plain": [
       "10000×1 Matrix{Float64}:\n",
       " 5005.279185231902\n",
       " 4984.406996900167\n",
       " 4995.917254028903\n",
       " 5032.554200850653\n",
       " 5035.590516842964\n",
       " 5027.974482354979\n",
       " 4975.542057677574\n",
       " 4980.791761778488\n",
       " 5008.201325056848\n",
       " 4980.928230924257\n",
       "    ⋮\n",
       " 4966.061418625301\n",
       " 4964.193532560231\n",
       " 5003.132077441271\n",
       " 5012.181839168302\n",
       " 5046.550152531947\n",
       " 5005.887677663074\n",
       " 4990.958487819703\n",
       " 5053.304459825824\n",
       " 5074.4661920881545"
      ]
     },
     "metadata": {},
     "output_type": "display_data"
    }
   ],
   "source": [
    "@btime sum(bb, dims=2)"
   ]
  },
  {
   "cell_type": "code",
   "execution_count": 77,
   "metadata": {},
   "outputs": [
    {
     "data": {
      "text/plain": [
       "10000-element Vector{Float64}:\n",
       " 5005.279185231907\n",
       " 4984.406996900134\n",
       " 4995.917254028902\n",
       " 5032.554200850663\n",
       " 5035.590516842944\n",
       " 5027.974482354983\n",
       " 4975.5420576775805\n",
       " 4980.791761778496\n",
       " 5008.20132505685\n",
       " 4980.928230924264\n",
       "    ⋮\n",
       " 4966.0614186253315\n",
       " 4964.193532560208\n",
       " 5003.132077441269\n",
       " 5012.181839168307\n",
       " 5046.550152531931\n",
       " 5005.887677663086\n",
       " 4990.958487819718\n",
       " 5053.304459825818\n",
       " 5074.46619208817"
      ]
     },
     "metadata": {},
     "output_type": "display_data"
    }
   ],
   "source": [
    "cc"
   ]
  },
  {
   "cell_type": "code",
   "execution_count": null,
   "metadata": {},
   "outputs": [],
   "source": []
  }
 ],
 "metadata": {
  "kernelspec": {
   "display_name": "Julia 1.9.1",
   "language": "julia",
   "name": "julia-1.9"
  },
  "language_info": {
   "file_extension": ".jl",
   "mimetype": "application/julia",
   "name": "julia",
   "version": "1.9.1"
  }
 },
 "nbformat": 4,
 "nbformat_minor": 2
}
