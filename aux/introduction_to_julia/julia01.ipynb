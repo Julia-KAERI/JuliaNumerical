{
 "cells": [
  {
   "cell_type": "code",
   "execution_count": 1,
   "metadata": {},
   "outputs": [],
   "source": [
    "using BenchmarkTools, Plots"
   ]
  },
  {
   "cell_type": "code",
   "execution_count": 2,
   "metadata": {},
   "outputs": [
    {
     "name": "stdout",
     "output_type": "stream",
     "text": [
      "101\n"
     ]
    }
   ],
   "source": [
    "nsum = 0\n",
    "nn = 1\n",
    "while nn<=100\n",
    "    nsum += nn\n",
    "    nn += 1\n",
    "end\n",
    "\n",
    "ℯ\n",
    "println(nn)"
   ]
  },
  {
   "cell_type": "code",
   "execution_count": 3,
   "metadata": {},
   "outputs": [
    {
     "data": {
      "text/plain": [
       "mypow (generic function with 3 methods)"
      ]
     },
     "metadata": {},
     "output_type": "display_data"
    }
   ],
   "source": [
    "function mypow(a, b)\n",
    "    return a^b\n",
    "end\n",
    "\n",
    "function mypow(a::Number, b)\n",
    "    return a^b\n",
    "end\n",
    "\n",
    "function mypow(a, b::Number)\n",
    "    return a^b\n",
    "end"
   ]
  },
  {
   "cell_type": "code",
   "execution_count": 4,
   "metadata": {},
   "outputs": [
    {
     "ename": "MethodError",
     "evalue": "MethodError: mypow(::Int64, ::Int64) is ambiguous.\n\nCandidates:\n  mypow(a::Number, b)\n    @ Main /Volumes/SJYData/devdoc/Books/Introduction to Julia/docs/julia01.ipynb:5\n  mypow(a, b::Number)\n    @ Main /Volumes/SJYData/devdoc/Books/Introduction to Julia/docs/julia01.ipynb:9\n\nPossible fix, define\n  mypow(::Number, ::Number)\n",
     "output_type": "error",
     "traceback": [
      "MethodError: mypow(::Int64, ::Int64) is ambiguous.\n",
      "\n",
      "Candidates:\n",
      "  mypow(a::Number, b)\n",
      "    @ Main /Volumes/SJYData/devdoc/Books/Introduction to Julia/docs/julia01.ipynb:5\n",
      "  mypow(a, b::Number)\n",
      "    @ Main /Volumes/SJYData/devdoc/Books/Introduction to Julia/docs/julia01.ipynb:9\n",
      "\n",
      "Possible fix, define\n",
      "  mypow(::Number, ::Number)\n",
      "\n",
      "\n",
      "Stacktrace:\n",
      " [1] top-level scope\n",
      "   @ /Volumes/SJYData/devdoc/Books/Introduction to Julia/docs/julia01.ipynb:1"
     ]
    }
   ],
   "source": [
    "mypow(2, 3)"
   ]
  },
  {
   "cell_type": "code",
   "execution_count": 5,
   "metadata": {},
   "outputs": [],
   "source": []
  },
  {
   "cell_type": "code",
   "execution_count": 6,
   "metadata": {},
   "outputs": [],
   "source": []
  },
  {
   "cell_type": "code",
   "execution_count": 7,
   "metadata": {},
   "outputs": [
    {
     "data": {
      "text/plain": [
       "myfunc (generic function with 4 methods)"
      ]
     },
     "metadata": {},
     "output_type": "display_data"
    }
   ],
   "source": [
    "function myfunc(a::Number)\n",
    "    return \"function for Number\"\n",
    "end\n",
    "\n",
    "function myfunc(a::Integer)\n",
    "    return \"function for Integer\"\n",
    "end\n",
    "\n",
    "function myfunc(a::Unsigned)\n",
    "    return \"function for Unsigned\"\n",
    "end\n",
    "\n",
    "function myfunc(a::UInt8)\n",
    "    return \"function for UInt8\"\n",
    "end"
   ]
  },
  {
   "cell_type": "code",
   "execution_count": 8,
   "metadata": {},
   "outputs": [
    {
     "data": {
      "text/plain": [
       "\"function for Integer\""
      ]
     },
     "metadata": {},
     "output_type": "display_data"
    }
   ],
   "source": [
    "myfunc(3)"
   ]
  },
  {
   "cell_type": "code",
   "execution_count": 9,
   "metadata": {},
   "outputs": [
    {
     "data": {
      "text/plain": [
       "\"function for Number\""
      ]
     },
     "metadata": {},
     "output_type": "display_data"
    }
   ],
   "source": [
    "myfunc(4.2)"
   ]
  },
  {
   "cell_type": "code",
   "execution_count": 10,
   "metadata": {},
   "outputs": [
    {
     "data": {
      "text/plain": [
       "\"function for UInt8\""
      ]
     },
     "metadata": {},
     "output_type": "display_data"
    }
   ],
   "source": [
    "myfunc(UInt8(1))"
   ]
  },
  {
   "cell_type": "code",
   "execution_count": 11,
   "metadata": {},
   "outputs": [
    {
     "data": {
      "text/plain": [
       "\"function for Number\""
      ]
     },
     "metadata": {},
     "output_type": "display_data"
    }
   ],
   "source": [
    "myfunc(1.0 + 2.0im)"
   ]
  },
  {
   "cell_type": "code",
   "execution_count": 12,
   "metadata": {},
   "outputs": [],
   "source": [
    "nsum = 0\n",
    "\n",
    "for i ∈ 1:100\n",
    "    nsum+= i\n",
    "end"
   ]
  },
  {
   "cell_type": "code",
   "execution_count": 13,
   "metadata": {},
   "outputs": [
    {
     "data": {
      "text/plain": [
       "(a = 1, b = 2)"
      ]
     },
     "metadata": {},
     "output_type": "display_data"
    }
   ],
   "source": [
    "tuple1 = (a=1, b=2)"
   ]
  },
  {
   "cell_type": "code",
   "execution_count": 14,
   "metadata": {},
   "outputs": [
    {
     "data": {
      "text/plain": [
       "msign (generic function with 1 method)"
      ]
     },
     "metadata": {},
     "output_type": "display_data"
    }
   ],
   "source": [
    "function msign(x)\n",
    "    if x>zero(x)\n",
    "        return one(x)\n",
    "    elseif x<zero(x) \n",
    "        return -one(x)\n",
    "    else\n",
    "        return zero(x)\n",
    "    end\n",
    "end\n"
   ]
  },
  {
   "cell_type": "code",
   "execution_count": 15,
   "metadata": {},
   "outputs": [
    {
     "data": {
      "text/plain": [
       "(-1, 1, 0.0)"
      ]
     },
     "metadata": {},
     "output_type": "display_data"
    }
   ],
   "source": [
    "msign(-3), msign(4), msign(0.0)"
   ]
  },
  {
   "cell_type": "code",
   "execution_count": 16,
   "metadata": {},
   "outputs": [],
   "source": [
    "result = 0\n",
    "for i in 1:100\n",
    "    if i % 3 == 0\n",
    "        result += i\n",
    "    end\n",
    "end"
   ]
  },
  {
   "cell_type": "code",
   "execution_count": 17,
   "metadata": {},
   "outputs": [
    {
     "data": {
      "text/plain": [
       "1683"
      ]
     },
     "metadata": {},
     "output_type": "display_data"
    }
   ],
   "source": [
    "result"
   ]
  },
  {
   "cell_type": "code",
   "execution_count": 18,
   "metadata": {},
   "outputs": [
    {
     "name": "stdout",
     "output_type": "stream",
     "text": [
      "8 is the value"
     ]
    }
   ],
   "source": [
    "result = 1.0\n",
    "for n in 1:10000\n",
    "    result *=(1/n)\n",
    "    if result < 1.0/10000\n",
    "        print(\"$n is the value\")\n",
    "        break\n",
    "    end\n",
    "end"
   ]
  },
  {
   "cell_type": "code",
   "execution_count": 19,
   "metadata": {},
   "outputs": [
    {
     "name": "stdout",
     "output_type": "stream",
     "text": [
      "i=1, j=1\n",
      "i=1, j=2\n",
      "i=1, j=3\n",
      "i=1, j=4\n",
      "i=1, j=5\n",
      "i=1, j=6\n"
     ]
    }
   ],
   "source": [
    "for i in 1:10, j in 1:10\n",
    "    println(\"i=$i, j=$j\")\n",
    "    if j > 5\n",
    "        break\n",
    "    end\n",
    "end\n"
   ]
  },
  {
   "cell_type": "code",
   "execution_count": 20,
   "metadata": {},
   "outputs": [
    {
     "data": {
      "text/plain": [
       "mabs (generic function with 1 method)"
      ]
     },
     "metadata": {},
     "output_type": "display_data"
    }
   ],
   "source": [
    "mabs(x) = (x>0) ? x : -x\n"
   ]
  },
  {
   "cell_type": "code",
   "execution_count": 21,
   "metadata": {},
   "outputs": [
    {
     "data": {
      "text/plain": [
       "8"
      ]
     },
     "metadata": {},
     "output_type": "display_data"
    }
   ],
   "source": [
    "z = begin\n",
    "    x=3\n",
    "    y=5\n",
    "    x+y\n",
    "end"
   ]
  },
  {
   "cell_type": "code",
   "execution_count": 22,
   "metadata": {},
   "outputs": [
    {
     "data": {
      "text/plain": [
       "myadd (generic function with 1 method)"
      ]
     },
     "metadata": {},
     "output_type": "display_data"
    }
   ],
   "source": [
    "function myadd(x, y)\n",
    "    return x+y\n",
    "end\n"
   ]
  },
  {
   "cell_type": "code",
   "execution_count": 23,
   "metadata": {},
   "outputs": [
    {
     "data": {
      "text/plain": [
       "myfunc5 (generic function with 1 method)"
      ]
     },
     "metadata": {},
     "output_type": "display_data"
    }
   ],
   "source": [
    "function myfunc5(x, y; color=\"red\")\n",
    "    println(\"color = $color, x=$x, y=$y\")\n",
    "end"
   ]
  },
  {
   "cell_type": "code",
   "execution_count": 24,
   "metadata": {},
   "outputs": [
    {
     "name": "stdout",
     "output_type": "stream",
     "text": [
      "color = 2, x=1, y=3\n"
     ]
    }
   ],
   "source": [
    "myfunc5(1, color=2, 3)"
   ]
  },
  {
   "cell_type": "code",
   "execution_count": 25,
   "metadata": {},
   "outputs": [
    {
     "ename": "MethodError",
     "evalue": "MethodError: no method matching myfunc5(::Int64, ::Int64, ::Int64)\nClosest candidates are:\n  myfunc5(::Any, ::Any; color) at /Volumes/SJYData/devdoc/Books/Basic Numerical Analysis using Julia/docs/ch02_julia/julia01.ipynb:1",
     "output_type": "error",
     "traceback": [
      "MethodError: no method matching myfunc5(::Int64, ::Int64, ::Int64)\n",
      "Closest candidates are:\n",
      "  myfunc5(::Any, ::Any; color) at /Volumes/SJYData/devdoc/Books/Basic Numerical Analysis using Julia/docs/ch02_julia/julia01.ipynb:1\n",
      "\n",
      "Stacktrace:\n",
      " [1] top-level scope\n",
      "   @ /Volumes/SJYData/devdoc/Books/Basic Numerical Analysis using Julia/docs/ch02_julia/julia01.ipynb:1"
     ]
    }
   ],
   "source": [
    "myfunc5(1, 2, 3)"
   ]
  },
  {
   "cell_type": "code",
   "execution_count": 33,
   "metadata": {},
   "outputs": [],
   "source": [
    "struct SimplePolynomial{T}\n",
    "    coeffs :: Vector{T}\n",
    "    function SimplePolynomial(coeff::Vector{T}) where T <: Number\n",
    "        if length(coeff) == 0 \n",
    "            new{T}(zeros(T, 1))\n",
    "        else \n",
    "            last_nz =findlast(!iszero, coeff)\n",
    "            coeff_last = max(1, isnothing(last_nz) ? 0 : last_nz)\n",
    "            new{T}(coeff[1:coeff_last])\n",
    "        end\n",
    "    end\n",
    "end"
   ]
  },
  {
   "cell_type": "code",
   "execution_count": 35,
   "metadata": {},
   "outputs": [
    {
     "data": {
      "text/plain": [
       "SimplePolynomial{Any}(Any[])"
      ]
     },
     "metadata": {},
     "output_type": "display_data"
    }
   ],
   "source": [
    "p1 = SimplePolynomial([])"
   ]
  },
  {
   "cell_type": "code",
   "execution_count": null,
   "metadata": {},
   "outputs": [],
   "source": []
  }
 ],
 "metadata": {
  "kernelspec": {
   "display_name": "Julia 1.9.0",
   "language": "julia",
   "name": "julia-1.9"
  },
  "language_info": {
   "file_extension": ".jl",
   "mimetype": "application/julia",
   "name": "julia",
   "version": "1.9.0"
  },
  "orig_nbformat": 4
 },
 "nbformat": 4,
 "nbformat_minor": 2
}
